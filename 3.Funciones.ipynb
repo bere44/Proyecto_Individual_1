{
 "cells": [
  {
   "cell_type": "markdown",
   "metadata": {},
   "source": [
    "def userdata( User_id : str ): \n",
    "Debe devolver cantidad de dinero gastado por el usuario, el porcentaje de recomendación en base a reviews.recommend y cantidad de items."
   ]
  },
  {
   "cell_type": "code",
   "execution_count": 2,
   "metadata": {},
   "outputs": [],
   "source": [
    "#importar las librerias\n",
    "import pandas as pd\n",
    "import numpy as np"
   ]
  },
  {
   "cell_type": "code",
   "execution_count": 34,
   "metadata": {},
   "outputs": [],
   "source": [
    "#leer los archivos\n",
    "df_items=pd.read_csv(\"game_items.csv\",usecols=[\"item_id\",\"steam_id\",\"items_count\"])\n",
    "df_recomendados=pd.read_csv(\"game_reviews2.csv\",usecols=[\"item_id\",\"user_id\",\"recommend\"])\n",
    "df_precios=pd.read_csv(\"steam_games.csv\",usecols=[\"id\",\"price\"])"
   ]
  },
  {
   "cell_type": "code",
   "execution_count": 35,
   "metadata": {},
   "outputs": [],
   "source": [
    "#usar solo lo que se necesita del game items\n",
    "df1 = pd.read_csv(\"game_items.csv\",usecols=[\"steam_id\",\"items_count\"])"
   ]
  },
  {
   "cell_type": "code",
   "execution_count": 36,
   "metadata": {},
   "outputs": [],
   "source": [
    "#elimianr los duplicados\n",
    "df1=df1.drop_duplicates(keep='first')\n",
    "#convertir la columna steamid a string\n",
    "df1[\"steam_id\"]=df1[\"steam_id\"].astype(str)"
   ]
  },
  {
   "cell_type": "code",
   "execution_count": 37,
   "metadata": {},
   "outputs": [
    {
     "name": "stdout",
     "output_type": "stream",
     "text": [
      "<class 'pandas.core.frame.DataFrame'>\n",
      "Index: 70912 entries, 0 to 5153202\n",
      "Data columns (total 2 columns):\n",
      " #   Column       Non-Null Count  Dtype \n",
      "---  ------       --------------  ----- \n",
      " 0   steam_id     70912 non-null  object\n",
      " 1   items_count  70912 non-null  int64 \n",
      "dtypes: int64(1), object(1)\n",
      "memory usage: 1.6+ MB\n"
     ]
    }
   ],
   "source": [
    "df1.info()"
   ]
  },
  {
   "cell_type": "code",
   "execution_count": 62,
   "metadata": {},
   "outputs": [],
   "source": [
    "#volverlo un archivo\n",
    "df1.to_csv(\"funcion1-2.csv\")"
   ]
  },
  {
   "cell_type": "code",
   "execution_count": 38,
   "metadata": {},
   "outputs": [],
   "source": [
    "#funcion pára hacer una lista de strings\n",
    "list_string=[]\n",
    "for i in df_precios[\"price\"]:\n",
    "    try:\n",
    "        float(i)\n",
    "    except:\n",
    "        list_string.append(i)\n",
    "       \n",
    "list_string=set(list_string)\n"
   ]
  },
  {
   "cell_type": "code",
   "execution_count": 39,
   "metadata": {},
   "outputs": [],
   "source": [
    "convertir los string en lista\n",
    "list_string=list(list_string)"
   ]
  },
  {
   "cell_type": "code",
   "execution_count": 40,
   "metadata": {},
   "outputs": [
    {
     "data": {
      "text/plain": [
       "['Install Now',\n",
       " 'Free to Try',\n",
       " 'Play for Free!',\n",
       " 'Install Theme',\n",
       " 'Starting at $449.00',\n",
       " 'Free Movie',\n",
       " 'Free to Use',\n",
       " 'Third-party',\n",
       " 'Free To Play',\n",
       " 'Free Mod',\n",
       " 'Free Demo',\n",
       " 'Play WARMACHINE: Tactics Demo',\n",
       " 'Free to Play',\n",
       " 'Free',\n",
       " 'Play Now',\n",
       " 'Free HITMAN™ Holiday Pack',\n",
       " 'Starting at $499.00',\n",
       " 'Play the Demo']"
      ]
     },
     "execution_count": 40,
     "metadata": {},
     "output_type": "execute_result"
    }
   ],
   "source": [
    "list_string"
   ]
  },
  {
   "cell_type": "code",
   "execution_count": 41,
   "metadata": {},
   "outputs": [],
   "source": [
    "#asignar los valores a los precios que inicialmente son string\n",
    "df_precios['price'] = df_precios['price'].apply(lambda x: 0 if x in list_string\n",
    "                                                        else 499.0 if x=='Starting at $499.00'\n",
    "                                                        else 449.0 if x=='Starting at $449.00'\n",
    "                                                        else x)\n"
   ]
  },
  {
   "cell_type": "code",
   "execution_count": 43,
   "metadata": {},
   "outputs": [
    {
     "name": "stdout",
     "output_type": "stream",
     "text": [
      "<class 'pandas.core.frame.DataFrame'>\n",
      "RangeIndex: 32135 entries, 0 to 32134\n",
      "Data columns (total 2 columns):\n",
      " #   Column  Non-Null Count  Dtype  \n",
      "---  ------  --------------  -----  \n",
      " 0   price   30758 non-null  float64\n",
      " 1   id      32133 non-null  float64\n",
      "dtypes: float64(2)\n",
      "memory usage: 502.2 KB\n"
     ]
    }
   ],
   "source": [
    "df_precios.info()"
   ]
  },
  {
   "cell_type": "code",
   "execution_count": 44,
   "metadata": {},
   "outputs": [],
   "source": [
    "#convertir los precios a float\n",
    "df_precios[\"price\"]=df_precios[\"price\"].astype(float)"
   ]
  },
  {
   "cell_type": "code",
   "execution_count": 45,
   "metadata": {},
   "outputs": [],
   "source": [
    "#llenar los nan\n",
    "df_precios[\"price\"].fillna(df_precios['price'].median(), inplace=True)\n",
    "df_precios[\"id\"].fillna(method=\"ffill\",inplace=True)"
   ]
  },
  {
   "cell_type": "code",
   "execution_count": 63,
   "metadata": {},
   "outputs": [
    {
     "data": {
      "text/plain": [
       "price      0\n",
       "item_id    0\n",
       "dtype: int64"
      ]
     },
     "execution_count": 63,
     "metadata": {},
     "output_type": "execute_result"
    }
   ],
   "source": [
    "#ver si hay nulos aun\n",
    "df_precios.isna().sum()"
   ]
  },
  {
   "cell_type": "code",
   "execution_count": 48,
   "metadata": {},
   "outputs": [],
   "source": [
    "#cambiar el nombre de la columna\n",
    "df_precios.rename(columns={\"id\":\"item_id\"}, inplace=True)\n",
    "\n",
    "#cambiar el tipo de la columna\n",
    "df_precios[\"item_id\"]=df_precios[\"item_id\"].astype(str)"
   ]
  },
  {
   "cell_type": "code",
   "execution_count": 50,
   "metadata": {},
   "outputs": [],
   "source": [
    "#cambiar el tipo de la columna\n",
    "df_recomendados[\"item_id\"]=df_recomendados[\"item_id\"].astype(str)"
   ]
  },
  {
   "cell_type": "code",
   "execution_count": 51,
   "metadata": {},
   "outputs": [],
   "source": [
    "#unir las tablas\n",
    "df_merged=df_recomendados.merge(df_precios,on='item_id', how='left')"
   ]
  },
  {
   "cell_type": "code",
   "execution_count": 52,
   "metadata": {},
   "outputs": [],
   "source": [
    "#reemplzar los nulos con la media\n",
    "df_merged[\"price\"].fillna(df_merged['price'].median(), inplace=True)\n"
   ]
  },
  {
   "cell_type": "code",
   "execution_count": 64,
   "metadata": {},
   "outputs": [
    {
     "data": {
      "text/html": [
       "<div>\n",
       "<style scoped>\n",
       "    .dataframe tbody tr th:only-of-type {\n",
       "        vertical-align: middle;\n",
       "    }\n",
       "\n",
       "    .dataframe tbody tr th {\n",
       "        vertical-align: top;\n",
       "    }\n",
       "\n",
       "    .dataframe thead th {\n",
       "        text-align: right;\n",
       "    }\n",
       "</style>\n",
       "<table border=\"1\" class=\"dataframe\">\n",
       "  <thead>\n",
       "    <tr style=\"text-align: right;\">\n",
       "      <th></th>\n",
       "      <th>user_id</th>\n",
       "      <th>item_id</th>\n",
       "      <th>recommend</th>\n",
       "      <th>price</th>\n",
       "    </tr>\n",
       "  </thead>\n",
       "  <tbody>\n",
       "    <tr>\n",
       "      <th>30708</th>\n",
       "      <td>lifeisagamble</td>\n",
       "      <td>431240.0</td>\n",
       "      <td>True</td>\n",
       "      <td>5.99</td>\n",
       "    </tr>\n",
       "    <tr>\n",
       "      <th>34974</th>\n",
       "      <td>76561198028388756</td>\n",
       "      <td>72850.0</td>\n",
       "      <td>True</td>\n",
       "      <td>9.99</td>\n",
       "    </tr>\n",
       "    <tr>\n",
       "      <th>45464</th>\n",
       "      <td>poldeN</td>\n",
       "      <td>219150.0</td>\n",
       "      <td>True</td>\n",
       "      <td>9.99</td>\n",
       "    </tr>\n",
       "    <tr>\n",
       "      <th>42813</th>\n",
       "      <td>76561198079637963</td>\n",
       "      <td>232010.0</td>\n",
       "      <td>True</td>\n",
       "      <td>4.99</td>\n",
       "    </tr>\n",
       "  </tbody>\n",
       "</table>\n",
       "</div>"
      ],
      "text/plain": [
       "                 user_id   item_id recommend  price\n",
       "30708      lifeisagamble  431240.0      True   5.99\n",
       "34974  76561198028388756   72850.0      True   9.99\n",
       "45464             poldeN  219150.0      True   9.99\n",
       "42813  76561198079637963  232010.0      True   4.99"
      ]
     },
     "execution_count": 64,
     "metadata": {},
     "output_type": "execute_result"
    }
   ],
   "source": [
    "df_merged.sample(4)"
   ]
  },
  {
   "cell_type": "code",
   "execution_count": 65,
   "metadata": {},
   "outputs": [],
   "source": [
    "#enviar el csv\n",
    "df_merged.to_csv(\"funcion1-1.csv\")"
   ]
  },
  {
   "cell_type": "code",
   "execution_count": 66,
   "metadata": {},
   "outputs": [],
   "source": [
    "#gasto por id\n",
    "gastoxid=df_merged[df_merged[\"user_id\"]==\"76561198075565282\"][\"price\"].sum()"
   ]
  },
  {
   "cell_type": "code",
   "execution_count": 67,
   "metadata": {},
   "outputs": [],
   "source": [
    "#porcentaje de recomendacion\n",
    "recommend= df_merged[df_merged[\"user_id\"]==\"76561198075565282\"][\"recommend\"]"
   ]
  },
  {
   "cell_type": "code",
   "execution_count": 68,
   "metadata": {},
   "outputs": [
    {
     "data": {
      "text/plain": [
       "2"
      ]
     },
     "execution_count": 68,
     "metadata": {},
     "output_type": "execute_result"
    }
   ],
   "source": [
    "recommend.value_counts()[True]"
   ]
  },
  {
   "cell_type": "code",
   "execution_count": 69,
   "metadata": {},
   "outputs": [
    {
     "data": {
      "text/plain": [
       "0.6666666666666666"
      ]
     },
     "execution_count": 69,
     "metadata": {},
     "output_type": "execute_result"
    }
   ],
   "source": [
    "#ENCONTRAR EL PORCENTAJE DE RECOMENDACIONES \n",
    "porce_recom=(recommend.value_counts()[True])/len(recommend)\n",
    "porce_recom"
   ]
  },
  {
   "cell_type": "code",
   "execution_count": 84,
   "metadata": {},
   "outputs": [],
   "source": [
    "#cantidad de items por usuario \n",
    "itemsxusuario=df1[df1[\"steam_id\"]==\"76561197970982479\"][\"items_count\"][0]"
   ]
  },
  {
   "cell_type": "code",
   "execution_count": 85,
   "metadata": {},
   "outputs": [
    {
     "data": {
      "text/plain": [
       "277"
      ]
     },
     "execution_count": 85,
     "metadata": {},
     "output_type": "execute_result"
    }
   ],
   "source": [
    "itemsxusuario"
   ]
  },
  {
   "cell_type": "code",
   "execution_count": 86,
   "metadata": {},
   "outputs": [],
   "source": [
    "def userdata( User_id : str ): \n",
    "    \n",
    "    df2=pd.read_csv(\"funcion1-1.csv\")\n",
    "    df3=pd.read_csv(\"funcion1-2.csv\")\n",
    "    #gasto por id\n",
    "    gastoxid=df2[df2[\"user_id\"]==User_id][\"price\"].sum()\n",
    "    #%de recomendaciones\n",
    "    recommend= df2[df2[\"user_id\"]==User_id][\"recommend\"]\n",
    "    porce_recom=(round(recommend.value_counts()[True])/len(recommend)*100,2)\n",
    "    #cantidad de items por usuario \n",
    "    itemsxusuario=df3[df1[\"steam_id\"]==User_id][\"items_count\"][0]\n",
    " \n",
    "    resultado={\"el gasto por el usuario\":gastoxid, \"el procentaje de recomendacion es\" :porce_recom, \"el numero de items por usuario \":itemsxusuario}\n",
    "\n",
    "    return resultado"
   ]
  },
  {
   "cell_type": "code",
   "execution_count": 87,
   "metadata": {},
   "outputs": [
    {
     "name": "stderr",
     "output_type": "stream",
     "text": [
      "C:\\Users\\Public\\Documents\\iSkysoft\\CreatorTemp\\ipykernel_9480\\3514315803.py:10: UserWarning: Boolean Series key will be reindexed to match DataFrame index.\n",
      "  itemsxusuario=df3[df1[\"steam_id\"]==User_id][\"items_count\"][0]\n"
     ]
    },
    {
     "ename": "IndexingError",
     "evalue": "Unalignable boolean Series provided as indexer (index of the boolean Series and of the indexed object do not match).",
     "output_type": "error",
     "traceback": [
      "\u001b[1;31m---------------------------------------------------------------------------\u001b[0m",
      "\u001b[1;31mIndexingError\u001b[0m                             Traceback (most recent call last)",
      "\u001b[1;32md:\\berenisse\\Cursos importantes\\HENRY\\Proyectos individuales\\Proyecto_Individual_1\\3.Funciones.ipynb Cell 29\u001b[0m in \u001b[0;36m<cell line: 1>\u001b[1;34m()\u001b[0m\n\u001b[1;32m----> <a href='vscode-notebook-cell:/d%3A/berenisse/Cursos%20importantes/HENRY/Proyectos%20individuales/Proyecto_Individual_1/3.Funciones.ipynb#X44sZmlsZQ%3D%3D?line=0'>1</a>\u001b[0m userdata(\u001b[39m\"\u001b[39;49m\u001b[39mlifeisagamble\u001b[39;49m\u001b[39m\"\u001b[39;49m)\n",
      "\u001b[1;32md:\\berenisse\\Cursos importantes\\HENRY\\Proyectos individuales\\Proyecto_Individual_1\\3.Funciones.ipynb Cell 29\u001b[0m in \u001b[0;36muserdata\u001b[1;34m(User_id)\u001b[0m\n\u001b[0;32m      <a href='vscode-notebook-cell:/d%3A/berenisse/Cursos%20importantes/HENRY/Proyectos%20individuales/Proyecto_Individual_1/3.Funciones.ipynb#X44sZmlsZQ%3D%3D?line=7'>8</a>\u001b[0m porce_recom\u001b[39m=\u001b[39m(\u001b[39mround\u001b[39m(recommend\u001b[39m.\u001b[39mvalue_counts()[\u001b[39mTrue\u001b[39;00m])\u001b[39m/\u001b[39m\u001b[39mlen\u001b[39m(recommend)\u001b[39m*\u001b[39m\u001b[39m100\u001b[39m,\u001b[39m2\u001b[39m)\n\u001b[0;32m      <a href='vscode-notebook-cell:/d%3A/berenisse/Cursos%20importantes/HENRY/Proyectos%20individuales/Proyecto_Individual_1/3.Funciones.ipynb#X44sZmlsZQ%3D%3D?line=8'>9</a>\u001b[0m \u001b[39m#cantidad de items por usuario \u001b[39;00m\n\u001b[1;32m---> <a href='vscode-notebook-cell:/d%3A/berenisse/Cursos%20importantes/HENRY/Proyectos%20individuales/Proyecto_Individual_1/3.Funciones.ipynb#X44sZmlsZQ%3D%3D?line=9'>10</a>\u001b[0m itemsxusuario\u001b[39m=\u001b[39mdf3[df1[\u001b[39m\"\u001b[39;49m\u001b[39msteam_id\u001b[39;49m\u001b[39m\"\u001b[39;49m]\u001b[39m==\u001b[39;49mUser_id][\u001b[39m\"\u001b[39m\u001b[39mitems_count\u001b[39m\u001b[39m\"\u001b[39m][\u001b[39m0\u001b[39m]\n\u001b[0;32m     <a href='vscode-notebook-cell:/d%3A/berenisse/Cursos%20importantes/HENRY/Proyectos%20individuales/Proyecto_Individual_1/3.Funciones.ipynb#X44sZmlsZQ%3D%3D?line=11'>12</a>\u001b[0m resultado\u001b[39m=\u001b[39m{\u001b[39m\"\u001b[39m\u001b[39mel gasto por el usuario\u001b[39m\u001b[39m\"\u001b[39m:gastoxid, \u001b[39m\"\u001b[39m\u001b[39mel procentaje de recomendacion es\u001b[39m\u001b[39m\"\u001b[39m :porce_recom, \u001b[39m\"\u001b[39m\u001b[39mel numero de items por usuario \u001b[39m\u001b[39m\"\u001b[39m:itemsxusuario}\n\u001b[0;32m     <a href='vscode-notebook-cell:/d%3A/berenisse/Cursos%20importantes/HENRY/Proyectos%20individuales/Proyecto_Individual_1/3.Funciones.ipynb#X44sZmlsZQ%3D%3D?line=13'>14</a>\u001b[0m \u001b[39mreturn\u001b[39;00m resultado\n",
      "File \u001b[1;32mc:\\Users\\beren\\AppData\\Local\\Programs\\Python\\Python310\\lib\\site-packages\\pandas\\core\\frame.py:3752\u001b[0m, in \u001b[0;36mDataFrame.__getitem__\u001b[1;34m(self, key)\u001b[0m\n\u001b[0;32m   3750\u001b[0m \u001b[39m# Do we have a (boolean) 1d indexer?\u001b[39;00m\n\u001b[0;32m   3751\u001b[0m \u001b[39mif\u001b[39;00m com\u001b[39m.\u001b[39mis_bool_indexer(key):\n\u001b[1;32m-> 3752\u001b[0m     \u001b[39mreturn\u001b[39;00m \u001b[39mself\u001b[39;49m\u001b[39m.\u001b[39;49m_getitem_bool_array(key)\n\u001b[0;32m   3754\u001b[0m \u001b[39m# We are left with two options: a single key, and a collection of keys,\u001b[39;00m\n\u001b[0;32m   3755\u001b[0m \u001b[39m# We interpret tuples as collections only for non-MultiIndex\u001b[39;00m\n\u001b[0;32m   3756\u001b[0m is_single_key \u001b[39m=\u001b[39m \u001b[39misinstance\u001b[39m(key, \u001b[39mtuple\u001b[39m) \u001b[39mor\u001b[39;00m \u001b[39mnot\u001b[39;00m is_list_like(key)\n",
      "File \u001b[1;32mc:\\Users\\beren\\AppData\\Local\\Programs\\Python\\Python310\\lib\\site-packages\\pandas\\core\\frame.py:3805\u001b[0m, in \u001b[0;36mDataFrame._getitem_bool_array\u001b[1;34m(self, key)\u001b[0m\n\u001b[0;32m   3799\u001b[0m     \u001b[39mraise\u001b[39;00m \u001b[39mValueError\u001b[39;00m(\n\u001b[0;32m   3800\u001b[0m         \u001b[39mf\u001b[39m\u001b[39m\"\u001b[39m\u001b[39mItem wrong length \u001b[39m\u001b[39m{\u001b[39;00m\u001b[39mlen\u001b[39m(key)\u001b[39m}\u001b[39;00m\u001b[39m instead of \u001b[39m\u001b[39m{\u001b[39;00m\u001b[39mlen\u001b[39m(\u001b[39mself\u001b[39m\u001b[39m.\u001b[39mindex)\u001b[39m}\u001b[39;00m\u001b[39m.\u001b[39m\u001b[39m\"\u001b[39m\n\u001b[0;32m   3801\u001b[0m     )\n\u001b[0;32m   3803\u001b[0m \u001b[39m# check_bool_indexer will throw exception if Series key cannot\u001b[39;00m\n\u001b[0;32m   3804\u001b[0m \u001b[39m# be reindexed to match DataFrame rows\u001b[39;00m\n\u001b[1;32m-> 3805\u001b[0m key \u001b[39m=\u001b[39m check_bool_indexer(\u001b[39mself\u001b[39;49m\u001b[39m.\u001b[39;49mindex, key)\n\u001b[0;32m   3807\u001b[0m \u001b[39mif\u001b[39;00m key\u001b[39m.\u001b[39mall():\n\u001b[0;32m   3808\u001b[0m     \u001b[39mreturn\u001b[39;00m \u001b[39mself\u001b[39m\u001b[39m.\u001b[39mcopy(deep\u001b[39m=\u001b[39m\u001b[39mNone\u001b[39;00m)\n",
      "File \u001b[1;32mc:\\Users\\beren\\AppData\\Local\\Programs\\Python\\Python310\\lib\\site-packages\\pandas\\core\\indexing.py:2506\u001b[0m, in \u001b[0;36mcheck_bool_indexer\u001b[1;34m(index, key)\u001b[0m\n\u001b[0;32m   2504\u001b[0m indexer \u001b[39m=\u001b[39m result\u001b[39m.\u001b[39mindex\u001b[39m.\u001b[39mget_indexer_for(index)\n\u001b[0;32m   2505\u001b[0m \u001b[39mif\u001b[39;00m \u001b[39m-\u001b[39m\u001b[39m1\u001b[39m \u001b[39min\u001b[39;00m indexer:\n\u001b[1;32m-> 2506\u001b[0m     \u001b[39mraise\u001b[39;00m IndexingError(\n\u001b[0;32m   2507\u001b[0m         \u001b[39m\"\u001b[39m\u001b[39mUnalignable boolean Series provided as \u001b[39m\u001b[39m\"\u001b[39m\n\u001b[0;32m   2508\u001b[0m         \u001b[39m\"\u001b[39m\u001b[39mindexer (index of the boolean Series and of \u001b[39m\u001b[39m\"\u001b[39m\n\u001b[0;32m   2509\u001b[0m         \u001b[39m\"\u001b[39m\u001b[39mthe indexed object do not match).\u001b[39m\u001b[39m\"\u001b[39m\n\u001b[0;32m   2510\u001b[0m     )\n\u001b[0;32m   2512\u001b[0m result \u001b[39m=\u001b[39m result\u001b[39m.\u001b[39mtake(indexer)\n\u001b[0;32m   2514\u001b[0m \u001b[39m# fall through for boolean\u001b[39;00m\n",
      "\u001b[1;31mIndexingError\u001b[0m: Unalignable boolean Series provided as indexer (index of the boolean Series and of the indexed object do not match)."
     ]
    }
   ],
   "source": [
    "userdata(\"lifeisagamble\")"
   ]
  }
 ],
 "metadata": {
  "kernelspec": {
   "display_name": "Python 3",
   "language": "python",
   "name": "python3"
  },
  "language_info": {
   "codemirror_mode": {
    "name": "ipython",
    "version": 3
   },
   "file_extension": ".py",
   "mimetype": "text/x-python",
   "name": "python",
   "nbconvert_exporter": "python",
   "pygments_lexer": "ipython3",
   "version": "3.10.6"
  },
  "orig_nbformat": 4
 },
 "nbformat": 4,
 "nbformat_minor": 2
}

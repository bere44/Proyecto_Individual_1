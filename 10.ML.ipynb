{
 "cells": [
  {
   "cell_type": "markdown",
   "metadata": {},
   "source": [
    "K-neighbors es el modelo mas adecuado para este sistema de recomendaciones. Este modelo puede definir istintas medidas de similaridad como distancia euclidiana o cosine similarity."
   ]
  },
  {
   "cell_type": "markdown",
   "metadata": {},
   "source": [
    "#Tranformar el dataset"
   ]
  },
  {
   "cell_type": "code",
   "execution_count": 14,
   "metadata": {},
   "outputs": [],
   "source": [
    "#importar las librerias y leer el archivo\n",
    "import pandas as pd\n",
    "\n",
    "games = pd.read_csv('steam_games.csv')"
   ]
  },
  {
   "cell_type": "code",
   "execution_count": 15,
   "metadata": {},
   "outputs": [],
   "source": [
    "#hacerle cambios a la columna de release date para que quede con formato de fecha, \n",
    "#crear una columna de año y rellenar losvalores faltantes \n",
    "games['release_date'] = pd.to_datetime(games['release_date'], errors='coerce')\n",
    "games['release_year'] = games['release_date'].dt.year\n",
    "games['release_year'] = games['release_year'].fillna(0).astype(int)\n",
    "games['release_year'] = games['release_year'].astype('str').replace('0', '')"
   ]
  },
  {
   "cell_type": "code",
   "execution_count": 16,
   "metadata": {},
   "outputs": [
    {
     "data": {
      "text/plain": [
       "(30085, 14)"
      ]
     },
     "execution_count": 16,
     "metadata": {},
     "output_type": "execute_result"
    }
   ],
   "source": [
    "games.fillna('', inplace=True)\n",
    "\n",
    "games.drop(games[games['title'] == \"\"].index, inplace=True)\n",
    "games.shape"
   ]
  },
  {
   "cell_type": "code",
   "execution_count": 17,
   "metadata": {},
   "outputs": [],
   "source": [
    "# limpiar la columna developer para que no tenga contenga caracteres inusuales'\n",
    "games['developer'] = games['developer'].str.replace(r'\\s+', '-', regex=True)\n",
    "games['developer'] = games['developer'].str.replace(r'---', \"-\")"
   ]
  },
  {
   "cell_type": "code",
   "execution_count": 18,
   "metadata": {},
   "outputs": [],
   "source": [
    "import re\n",
    "import ast\n",
    "\n",
    "# función de limpieza de las columnas\n",
    "#la primera parte del codigo funciona para volver a forma de lista un conjunto de datos, esto se usara en las columnas anidadas\n",
    "def tolist(lst):\n",
    "    text=\"\"\n",
    "    if isinstance(lst, str) and len(lst) > 0 and '[' in lst:\n",
    "        lst = lst.lower()\n",
    "        lst = lst.replace(\"0's\",'0s').replace(';','').replace('&','').replace(\"'em\",\"em\")\n",
    "        try:\n",
    "            lst =  ast.literal_eval(lst)\n",
    "        except (SyntaxError, ValueError):\n",
    "            return lst.lower()\n",
    "        \n",
    "    if isinstance(lst,list):\n",
    "        for item in lst:\n",
    "            while \"  \" in item:\n",
    "                item = item.replace(\"  \",\" \")\n",
    "            item = item.replace(\" \", \"-\")\n",
    "            text = text + \" \" + item \n",
    "            text = text.replace('\"','')\n",
    "        return text.strip().lower()\n",
    "\n",
    "    return lst"
   ]
  },
  {
   "cell_type": "code",
   "execution_count": 19,
   "metadata": {},
   "outputs": [],
   "source": [
    "# aplicamos la funcion a cada columna anidada\n",
    "games['specs'] = games['specs'].apply(lambda x : tolist(x))\n",
    "games['genres'] = games['genres'].apply(lambda x : tolist(x))\n",
    "games['tags'] = games['tags'].apply(lambda x : tolist(x))"
   ]
  },
  {
   "cell_type": "code",
   "execution_count": 20,
   "metadata": {},
   "outputs": [],
   "source": [
    "# Combine relevant columns into a single 'profile'\n",
    "games['profile'] = games['genres'] + \" \" + games['tags'] + \" \" + games['specs'] + \" \" + games['developer'] + \" \" + games['release_year']\n",
    "\n",
    "# Dataset listo para usarse en el modelo\n",
    "games[['id','title','profile']].to_csv(\"ml_dataset.csv\",index=False)"
   ]
  },
  {
   "cell_type": "markdown",
   "metadata": {},
   "source": [
    "#aplicar el modelo K-neighbors"
   ]
  },
  {
   "cell_type": "code",
   "execution_count": 21,
   "metadata": {},
   "outputs": [
    {
     "data": {
      "text/html": [
       "<style>#sk-container-id-2 {color: black;}#sk-container-id-2 pre{padding: 0;}#sk-container-id-2 div.sk-toggleable {background-color: white;}#sk-container-id-2 label.sk-toggleable__label {cursor: pointer;display: block;width: 100%;margin-bottom: 0;padding: 0.3em;box-sizing: border-box;text-align: center;}#sk-container-id-2 label.sk-toggleable__label-arrow:before {content: \"▸\";float: left;margin-right: 0.25em;color: #696969;}#sk-container-id-2 label.sk-toggleable__label-arrow:hover:before {color: black;}#sk-container-id-2 div.sk-estimator:hover label.sk-toggleable__label-arrow:before {color: black;}#sk-container-id-2 div.sk-toggleable__content {max-height: 0;max-width: 0;overflow: hidden;text-align: left;background-color: #f0f8ff;}#sk-container-id-2 div.sk-toggleable__content pre {margin: 0.2em;color: black;border-radius: 0.25em;background-color: #f0f8ff;}#sk-container-id-2 input.sk-toggleable__control:checked~div.sk-toggleable__content {max-height: 200px;max-width: 100%;overflow: auto;}#sk-container-id-2 input.sk-toggleable__control:checked~label.sk-toggleable__label-arrow:before {content: \"▾\";}#sk-container-id-2 div.sk-estimator input.sk-toggleable__control:checked~label.sk-toggleable__label {background-color: #d4ebff;}#sk-container-id-2 div.sk-label input.sk-toggleable__control:checked~label.sk-toggleable__label {background-color: #d4ebff;}#sk-container-id-2 input.sk-hidden--visually {border: 0;clip: rect(1px 1px 1px 1px);clip: rect(1px, 1px, 1px, 1px);height: 1px;margin: -1px;overflow: hidden;padding: 0;position: absolute;width: 1px;}#sk-container-id-2 div.sk-estimator {font-family: monospace;background-color: #f0f8ff;border: 1px dotted black;border-radius: 0.25em;box-sizing: border-box;margin-bottom: 0.5em;}#sk-container-id-2 div.sk-estimator:hover {background-color: #d4ebff;}#sk-container-id-2 div.sk-parallel-item::after {content: \"\";width: 100%;border-bottom: 1px solid gray;flex-grow: 1;}#sk-container-id-2 div.sk-label:hover label.sk-toggleable__label {background-color: #d4ebff;}#sk-container-id-2 div.sk-serial::before {content: \"\";position: absolute;border-left: 1px solid gray;box-sizing: border-box;top: 0;bottom: 0;left: 50%;z-index: 0;}#sk-container-id-2 div.sk-serial {display: flex;flex-direction: column;align-items: center;background-color: white;padding-right: 0.2em;padding-left: 0.2em;position: relative;}#sk-container-id-2 div.sk-item {position: relative;z-index: 1;}#sk-container-id-2 div.sk-parallel {display: flex;align-items: stretch;justify-content: center;background-color: white;position: relative;}#sk-container-id-2 div.sk-item::before, #sk-container-id-2 div.sk-parallel-item::before {content: \"\";position: absolute;border-left: 1px solid gray;box-sizing: border-box;top: 0;bottom: 0;left: 50%;z-index: -1;}#sk-container-id-2 div.sk-parallel-item {display: flex;flex-direction: column;z-index: 1;position: relative;background-color: white;}#sk-container-id-2 div.sk-parallel-item:first-child::after {align-self: flex-end;width: 50%;}#sk-container-id-2 div.sk-parallel-item:last-child::after {align-self: flex-start;width: 50%;}#sk-container-id-2 div.sk-parallel-item:only-child::after {width: 0;}#sk-container-id-2 div.sk-dashed-wrapped {border: 1px dashed gray;margin: 0 0.4em 0.5em 0.4em;box-sizing: border-box;padding-bottom: 0.4em;background-color: white;}#sk-container-id-2 div.sk-label label {font-family: monospace;font-weight: bold;display: inline-block;line-height: 1.2em;}#sk-container-id-2 div.sk-label-container {text-align: center;}#sk-container-id-2 div.sk-container {/* jupyter's `normalize.less` sets `[hidden] { display: none; }` but bootstrap.min.css set `[hidden] { display: none !important; }` so we also need the `!important` here to be able to override the default hidden behavior on the sphinx rendered scikit-learn.org. See: https://github.com/scikit-learn/scikit-learn/issues/21755 */display: inline-block !important;position: relative;}#sk-container-id-2 div.sk-text-repr-fallback {display: none;}</style><div id=\"sk-container-id-2\" class=\"sk-top-container\"><div class=\"sk-text-repr-fallback\"><pre>NearestNeighbors(algorithm=&#x27;brute&#x27;, metric=&#x27;cosine&#x27;, n_neighbors=6)</pre><b>In a Jupyter environment, please rerun this cell to show the HTML representation or trust the notebook. <br />On GitHub, the HTML representation is unable to render, please try loading this page with nbviewer.org.</b></div><div class=\"sk-container\" hidden><div class=\"sk-item\"><div class=\"sk-estimator sk-toggleable\"><input class=\"sk-toggleable__control sk-hidden--visually\" id=\"sk-estimator-id-2\" type=\"checkbox\" checked><label for=\"sk-estimator-id-2\" class=\"sk-toggleable__label sk-toggleable__label-arrow\">NearestNeighbors</label><div class=\"sk-toggleable__content\"><pre>NearestNeighbors(algorithm=&#x27;brute&#x27;, metric=&#x27;cosine&#x27;, n_neighbors=6)</pre></div></div></div></div></div>"
      ],
      "text/plain": [
       "NearestNeighbors(algorithm='brute', metric='cosine', n_neighbors=6)"
      ]
     },
     "execution_count": 21,
     "metadata": {},
     "output_type": "execute_result"
    }
   ],
   "source": [
    "#importar la librerias para trabajar el modelo, es importante la libreria de vectorizar para hacer vectores\n",
    "#con las palabras y la libreria del modelo K-neighbors\n",
    "import pandas as pd\n",
    "from sklearn.feature_extraction.text import TfidfVectorizer\n",
    "from sklearn.neighbors import NearestNeighbors\n",
    "\n",
    "df = pd.read_csv(\"ml_dataset.csv\")\n",
    "\n",
    "# se crea un vector con todos los datos de la columna profile para que se usen en el modelo\n",
    "tfidf = TfidfVectorizer(stop_words='english',max_features=5000)\n",
    "tfidf_matrix = tfidf.fit_transform(df['profile'])\n",
    "\n",
    "# usar la libreria K-neighbors para encontrar los uegos similares\n",
    "knn = NearestNeighbors(n_neighbors=6, metric='cosine', algorithm='brute')  # Se coloca 6 pues tiene que considerar el juego del que se tiene referencia\n",
    "knn.fit(tfidf_matrix)"
   ]
  },
  {
   "cell_type": "code",
   "execution_count": 22,
   "metadata": {},
   "outputs": [],
   "source": [
    "# Crear función que crea las recomendaciones\n",
    "def recommend(game_id):\n",
    "    #agrega los indices de juegos iguales al game_id y devuelve el primero que encuentre\n",
    "    try:\n",
    "        idx = df.index[df['id'] == game_id].tolist()[0]\n",
    "        #obitnene el nombre del juego con el indice encontrado en la linea superior\n",
    "        name = df['title'].loc[idx]\n",
    "        \n",
    "        values , indices = knn.kneighbors(tfidf_matrix[idx])\n",
    "        \n",
    "        # se excluye el primer valor pues es el id que se puso en la funcion\n",
    "        game_indices = indices[0][1:]\n",
    "        result = df['id'].iloc[game_indices]\n",
    "    except:\n",
    "        return [0]\n",
    "    return list(result)"
   ]
  },
  {
   "cell_type": "code",
   "execution_count": 23,
   "metadata": {},
   "outputs": [
    {
     "data": {
      "text/plain": [
       "[47730.0, 17450.0, 17460.0, 7110.0, 24980.0]"
      ]
     },
     "execution_count": 23,
     "metadata": {},
     "output_type": "execute_result"
    }
   ],
   "source": [
    "# test\n",
    "recommend(47810)"
   ]
  },
  {
   "cell_type": "code",
   "execution_count": 24,
   "metadata": {},
   "outputs": [],
   "source": [
    "# un df sin la columna profile\n",
    "df1 = df[['id','title']]"
   ]
  },
  {
   "cell_type": "code",
   "execution_count": 25,
   "metadata": {},
   "outputs": [],
   "source": [
    "# función que crea la columna con las recomendaciones de cada juego\n",
    "df1['recommends'] = df1['id'].apply(lambda x  : recommend(x))"
   ]
  },
  {
   "cell_type": "code",
   "execution_count": 26,
   "metadata": {},
   "outputs": [
    {
     "name": "stderr",
     "output_type": "stream",
     "text": [
      "C:\\Users\\Public\\Documents\\iSkysoft\\CreatorTemp\\ipykernel_18704\\52715459.py:2: SettingWithCopyWarning: \n",
      "A value is trying to be set on a copy of a slice from a DataFrame\n",
      "\n",
      "See the caveats in the documentation: https://pandas.pydata.org/pandas-docs/stable/user_guide/indexing.html#returning-a-view-versus-a-copy\n",
      "  df1['id'].fillna(0,inplace=True)\n"
     ]
    },
    {
     "name": "stdout",
     "output_type": "stream",
     "text": [
      "<class 'pandas.core.frame.DataFrame'>\n",
      "RangeIndex: 30085 entries, 0 to 30084\n",
      "Data columns (total 3 columns):\n",
      " #   Column      Non-Null Count  Dtype  \n",
      "---  ------      --------------  -----  \n",
      " 0   id          30085 non-null  float64\n",
      " 1   title       30085 non-null  object \n",
      " 2   recommends  30085 non-null  object \n",
      "dtypes: float64(1), object(2)\n",
      "memory usage: 705.2+ KB\n"
     ]
    }
   ],
   "source": [
    "# Dataset para usar en la API listo \n",
    "df1['id'].fillna(0,inplace=True)\n",
    "df1.to_csv(\"modelo.csv\",index=False)\n",
    "df1.info()"
   ]
  },
  {
   "cell_type": "code",
   "execution_count": 27,
   "metadata": {},
   "outputs": [
    {
     "data": {
      "text/html": [
       "<div>\n",
       "<style scoped>\n",
       "    .dataframe tbody tr th:only-of-type {\n",
       "        vertical-align: middle;\n",
       "    }\n",
       "\n",
       "    .dataframe tbody tr th {\n",
       "        vertical-align: top;\n",
       "    }\n",
       "\n",
       "    .dataframe thead th {\n",
       "        text-align: right;\n",
       "    }\n",
       "</style>\n",
       "<table border=\"1\" class=\"dataframe\">\n",
       "  <thead>\n",
       "    <tr style=\"text-align: right;\">\n",
       "      <th></th>\n",
       "      <th>id</th>\n",
       "      <th>title</th>\n",
       "      <th>recommends</th>\n",
       "    </tr>\n",
       "  </thead>\n",
       "  <tbody>\n",
       "    <tr>\n",
       "      <th>0</th>\n",
       "      <td>761140.0</td>\n",
       "      <td>Lost Summoner Kitty</td>\n",
       "      <td>[765320.0, 766850.0, 697000.0, 730120.0, 55361...</td>\n",
       "    </tr>\n",
       "    <tr>\n",
       "      <th>1</th>\n",
       "      <td>643980.0</td>\n",
       "      <td>Ironbound</td>\n",
       "      <td>[544730.0, 205890.0, 453480.0, 410380.0, 68542...</td>\n",
       "    </tr>\n",
       "    <tr>\n",
       "      <th>2</th>\n",
       "      <td>670290.0</td>\n",
       "      <td>Real Pool 3D - Poolians</td>\n",
       "      <td>[522660.0, 645260.0, 614100.0, 504350.0, 52442...</td>\n",
       "    </tr>\n",
       "    <tr>\n",
       "      <th>3</th>\n",
       "      <td>767400.0</td>\n",
       "      <td>弹炸人2222</td>\n",
       "      <td>[767400.0, 686070.0, 562690.0, 670100.0, 70863...</td>\n",
       "    </tr>\n",
       "    <tr>\n",
       "      <th>4</th>\n",
       "      <td>772540.0</td>\n",
       "      <td>Battle Royale Trainer</td>\n",
       "      <td>[302250.0, 434250.0, 3700.0, 34830.0, 238090.0]</td>\n",
       "    </tr>\n",
       "    <tr>\n",
       "      <th>...</th>\n",
       "      <td>...</td>\n",
       "      <td>...</td>\n",
       "      <td>...</td>\n",
       "    </tr>\n",
       "    <tr>\n",
       "      <th>30080</th>\n",
       "      <td>745400.0</td>\n",
       "      <td>Kebab it Up!</td>\n",
       "      <td>[772190.0, 766700.0, 718050.0, 680120.0, 71859...</td>\n",
       "    </tr>\n",
       "    <tr>\n",
       "      <th>30081</th>\n",
       "      <td>773640.0</td>\n",
       "      <td>Colony On Mars</td>\n",
       "      <td>[758480.0, 745500.0, 745510.0, 761440.0, 75847...</td>\n",
       "    </tr>\n",
       "    <tr>\n",
       "      <th>30082</th>\n",
       "      <td>733530.0</td>\n",
       "      <td>LOGistICAL: South Africa</td>\n",
       "      <td>[706380.0, 718490.0, 693650.0, 706390.0, 73352...</td>\n",
       "    </tr>\n",
       "    <tr>\n",
       "      <th>30083</th>\n",
       "      <td>610660.0</td>\n",
       "      <td>Russian Roads</td>\n",
       "      <td>[754510.0, 701720.0, 754520.0, 735410.0, 67366...</td>\n",
       "    </tr>\n",
       "    <tr>\n",
       "      <th>30084</th>\n",
       "      <td>658870.0</td>\n",
       "      <td>EXIT 2 - Directions</td>\n",
       "      <td>[535000.0, 730670.0, 719550.0, 679500.0, 51147...</td>\n",
       "    </tr>\n",
       "  </tbody>\n",
       "</table>\n",
       "<p>30085 rows × 3 columns</p>\n",
       "</div>"
      ],
      "text/plain": [
       "             id                     title  \\\n",
       "0      761140.0       Lost Summoner Kitty   \n",
       "1      643980.0                 Ironbound   \n",
       "2      670290.0   Real Pool 3D - Poolians   \n",
       "3      767400.0                   弹炸人2222   \n",
       "4      772540.0     Battle Royale Trainer   \n",
       "...         ...                       ...   \n",
       "30080  745400.0              Kebab it Up!   \n",
       "30081  773640.0            Colony On Mars   \n",
       "30082  733530.0  LOGistICAL: South Africa   \n",
       "30083  610660.0             Russian Roads   \n",
       "30084  658870.0       EXIT 2 - Directions   \n",
       "\n",
       "                                              recommends  \n",
       "0      [765320.0, 766850.0, 697000.0, 730120.0, 55361...  \n",
       "1      [544730.0, 205890.0, 453480.0, 410380.0, 68542...  \n",
       "2      [522660.0, 645260.0, 614100.0, 504350.0, 52442...  \n",
       "3      [767400.0, 686070.0, 562690.0, 670100.0, 70863...  \n",
       "4        [302250.0, 434250.0, 3700.0, 34830.0, 238090.0]  \n",
       "...                                                  ...  \n",
       "30080  [772190.0, 766700.0, 718050.0, 680120.0, 71859...  \n",
       "30081  [758480.0, 745500.0, 745510.0, 761440.0, 75847...  \n",
       "30082  [706380.0, 718490.0, 693650.0, 706390.0, 73352...  \n",
       "30083  [754510.0, 701720.0, 754520.0, 735410.0, 67366...  \n",
       "30084  [535000.0, 730670.0, 719550.0, 679500.0, 51147...  \n",
       "\n",
       "[30085 rows x 3 columns]"
      ]
     },
     "execution_count": 27,
     "metadata": {},
     "output_type": "execute_result"
    }
   ],
   "source": [
    "df1"
   ]
  },
  {
   "cell_type": "markdown",
   "metadata": {},
   "source": [
    "Funcion de recomendacion"
   ]
  },
  {
   "cell_type": "code",
   "execution_count": 30,
   "metadata": {},
   "outputs": [],
   "source": [
    "# Función del endpoint\n",
    "import pandas as pd\n",
    "import ast\n",
    "\n",
    "def recomendacion_juego( game_id : int ):\n",
    "    # carga de archivos\n",
    "    df = pd.read_csv(\"modelo.csv\")\n",
    "\n",
    "    if game_id not in df['id'].values:\n",
    "        return 'error'\n",
    "\n",
    "    # Obtiene la lista de recomendaciones\n",
    "    result = df[df['id'] == game_id]['recommends'].iloc[0]\n",
    "\n",
    "    try:\n",
    "        result = ast.literal_eval(result)\n",
    "    except (SyntaxError, ValueError):\n",
    "        print('No se puede convertir a lista')\n",
    "        return 'error'\n",
    "\n",
    "    response =[]\n",
    "    item_buscado = df[df['id'] == game_id].iloc[0]\n",
    "    \n",
    "    for item_id in result:\n",
    "        # Obtiene la información del juego recomendado\n",
    "        item_info = df[df['id'] == item_id].iloc[0]  \n",
    "\n",
    "        response.append({'game_id': int(item_info['id']), \n",
    "                         'title': item_info['title']})\n",
    "    dict_respuesta = {'titulo_buscado': item_buscado['title'], 'results':response}  \n",
    "\n",
    "    return dict_respuesta"
   ]
  },
  {
   "cell_type": "code",
   "execution_count": 31,
   "metadata": {},
   "outputs": [
    {
     "data": {
      "text/plain": [
       "{'titulo_buscado': 'Dragon Age: Origins - Ultimate Edition',\n",
       " 'results': [{'game_id': 47730, 'title': 'Dragon Age™: Origins Awakening'},\n",
       "  {'game_id': 17450, 'title': 'Dragon Age: Origins'},\n",
       "  {'game_id': 17460, 'title': 'Mass Effect'},\n",
       "  {'game_id': 7110, 'title': 'Jade Empire™: Special Edition'},\n",
       "  {'game_id': 24980, 'title': 'Mass Effect 2'}]}"
      ]
     },
     "execution_count": 31,
     "metadata": {},
     "output_type": "execute_result"
    }
   ],
   "source": [
    "# test\n",
    "recomendacion_juego(47810)"
   ]
  }
 ],
 "metadata": {
  "kernelspec": {
   "display_name": "Python 3",
   "language": "python",
   "name": "python3"
  },
  "language_info": {
   "codemirror_mode": {
    "name": "ipython",
    "version": 3
   },
   "file_extension": ".py",
   "mimetype": "text/x-python",
   "name": "python",
   "nbconvert_exporter": "python",
   "pygments_lexer": "ipython3",
   "version": "3.10.6"
  },
  "orig_nbformat": 4
 },
 "nbformat": 4,
 "nbformat_minor": 2
}

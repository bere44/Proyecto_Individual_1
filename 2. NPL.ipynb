{
 "cells": [
  {
   "cell_type": "code",
   "execution_count": 146,
   "metadata": {},
   "outputs": [],
   "source": [
    "import pandas as pd\n",
    "import numpy as np"
   ]
  },
  {
   "cell_type": "code",
   "execution_count": 216,
   "metadata": {},
   "outputs": [],
   "source": [
    "\n",
    "game_reviews= pd.read_csv(\"game_reviews.csv\", index_col= False)"
   ]
  },
  {
   "cell_type": "code",
   "execution_count": 217,
   "metadata": {},
   "outputs": [],
   "source": [
    "reviews=game_reviews[\"review\"]"
   ]
  },
  {
   "cell_type": "code",
   "execution_count": 218,
   "metadata": {},
   "outputs": [
    {
     "data": {
      "text/plain": [
       "0        Simple yet with great replayability. In my opi...\n",
       "1                     It's unique and worth a playthrough.\n",
       "2        Great atmosphere. The gunplay can be a bit chu...\n",
       "3        I know what you think when you see this title ...\n",
       "4        For a simple (it's actually not all that simpl...\n",
       "                               ...                        \n",
       "59328    a must have classic from steam definitely wort...\n",
       "59329    this game is a perfect remake of the original ...\n",
       "59330    had so much fun plaing this and collecting res...\n",
       "59331                                                   :D\n",
       "59332                                       so much fun :D\n",
       "Name: review, Length: 59333, dtype: object"
      ]
     },
     "execution_count": 218,
     "metadata": {},
     "output_type": "execute_result"
    }
   ],
   "source": [
    "reviews"
   ]
  },
  {
   "cell_type": "code",
   "execution_count": 219,
   "metadata": {},
   "outputs": [],
   "source": [
    "from random import choices\n",
    "\n",
    "\n",
    "df=choices(reviews, k=1000)\n",
    "df=pd.DataFrame(df)"
   ]
  },
  {
   "cell_type": "code",
   "execution_count": 220,
   "metadata": {},
   "outputs": [],
   "source": [
    "df.columns=[\"mensaje\"]"
   ]
  },
  {
   "cell_type": "code",
   "execution_count": 221,
   "metadata": {},
   "outputs": [
    {
     "data": {
      "text/html": [
       "<div>\n",
       "<style scoped>\n",
       "    .dataframe tbody tr th:only-of-type {\n",
       "        vertical-align: middle;\n",
       "    }\n",
       "\n",
       "    .dataframe tbody tr th {\n",
       "        vertical-align: top;\n",
       "    }\n",
       "\n",
       "    .dataframe thead th {\n",
       "        text-align: right;\n",
       "    }\n",
       "</style>\n",
       "<table border=\"1\" class=\"dataframe\">\n",
       "  <thead>\n",
       "    <tr style=\"text-align: right;\">\n",
       "      <th></th>\n",
       "      <th>mensaje</th>\n",
       "    </tr>\n",
       "  </thead>\n",
       "  <tbody>\n",
       "    <tr>\n",
       "      <th>0</th>\n",
       "      <td>A Really fun game with good content and a grea...</td>\n",
       "    </tr>\n",
       "    <tr>\n",
       "      <th>1</th>\n",
       "      <td>Ïù¥Í≤åÏûÑÏùÄ ÏÑúÌè¨Ìä∏ÌïúÍ∞úÎßå ÎßåÎ†ôÌïòÎ©¥ Í...</td>\n",
       "    </tr>\n",
       "    <tr>\n",
       "      <th>2</th>\n",
       "      <td>EVERYONE NEEDS TO PLAY THIS. I played it like ...</td>\n",
       "    </tr>\n",
       "    <tr>\n",
       "      <th>3</th>\n",
       "      <td>hard and fun!</td>\n",
       "    </tr>\n",
       "    <tr>\n",
       "      <th>4</th>\n",
       "      <td>\"Dost thou insist to fill the world with vicio...</td>\n",
       "    </tr>\n",
       "  </tbody>\n",
       "</table>\n",
       "</div>"
      ],
      "text/plain": [
       "                                             mensaje\n",
       "0  A Really fun game with good content and a grea...\n",
       "1  Ïù¥Í≤åÏûÑÏùÄ ÏÑúÌè¨Ìä∏ÌïúÍ∞úÎßå ÎßåÎ†ôÌïòÎ©¥ Í...\n",
       "2  EVERYONE NEEDS TO PLAY THIS. I played it like ...\n",
       "3                                      hard and fun!\n",
       "4  \"Dost thou insist to fill the world with vicio..."
      ]
     },
     "execution_count": 221,
     "metadata": {},
     "output_type": "execute_result"
    }
   ],
   "source": [
    "df.head()"
   ]
  },
  {
   "cell_type": "code",
   "execution_count": 222,
   "metadata": {},
   "outputs": [
    {
     "name": "stdout",
     "output_type": "stream",
     "text": [
      "<class 'pandas.core.frame.DataFrame'>\n",
      "RangeIndex: 59333 entries, 0 to 59332\n",
      "Data columns (total 9 columns):\n",
      " #   Column       Non-Null Count  Dtype  \n",
      "---  ------       --------------  -----  \n",
      " 0   user_id      59333 non-null  object \n",
      " 1   user_url     59333 non-null  object \n",
      " 2   funny        8151 non-null   object \n",
      " 3   posted       59305 non-null  object \n",
      " 4   last_edited  6140 non-null   object \n",
      " 5   item_id      59305 non-null  float64\n",
      " 6   helpful      59305 non-null  object \n",
      " 7   recommend    59305 non-null  object \n",
      " 8   review       59275 non-null  object \n",
      "dtypes: float64(1), object(8)\n",
      "memory usage: 4.1+ MB\n"
     ]
    }
   ],
   "source": [
    "game_reviews.info()"
   ]
  },
  {
   "cell_type": "code",
   "execution_count": 223,
   "metadata": {},
   "outputs": [],
   "source": [
    "game_reviews[\"review\"]=game_reviews[\"review\"].str.replace(r\"[\\\"\\'\\|\\?\\=\\.\\@\\#\\*\\,\\.\\!\\/\\:\\-\\‚ô•\\<\\>√â\\+\\D]\", '',regex=True)"
   ]
  },
  {
   "cell_type": "code",
   "execution_count": 150,
   "metadata": {},
   "outputs": [
    {
     "name": "stdout",
     "output_type": "stream",
     "text": [
      "<class 'pandas.core.frame.DataFrame'>\n",
      "RangeIndex: 59333 entries, 0 to 59332\n",
      "Data columns (total 9 columns):\n",
      " #   Column       Non-Null Count  Dtype  \n",
      "---  ------       --------------  -----  \n",
      " 0   user_id      59333 non-null  object \n",
      " 1   user_url     59333 non-null  object \n",
      " 2   funny        8151 non-null   object \n",
      " 3   posted       59305 non-null  object \n",
      " 4   last_edited  6140 non-null   object \n",
      " 5   item_id      59305 non-null  float64\n",
      " 6   helpful      59305 non-null  object \n",
      " 7   recommend    59305 non-null  object \n",
      " 8   review       59275 non-null  object \n",
      "dtypes: float64(1), object(8)\n",
      "memory usage: 4.1+ MB\n"
     ]
    }
   ],
   "source": [
    "game_reviews.info()"
   ]
  },
  {
   "cell_type": "code",
   "execution_count": 224,
   "metadata": {},
   "outputs": [],
   "source": [
    "#codigo para borrar caracterres raros\n",
    "df['mensaje'] = df['mensaje'].str.replace(r\"[\\\"\\'\\|\\?\\=\\.\\@\\#\\*\\,\\.\\!\\:\\-\\‚ô•\\<\\>√â\\+]\", '',regex=True)"
   ]
  },
  {
   "cell_type": "code",
   "execution_count": 225,
   "metadata": {},
   "outputs": [
    {
     "data": {
      "text/plain": [
       "0      A Really fun game with good content and a grea...\n",
       "1      Ïù¥Í≤åÏûÑÏùÄ ÏÑúÌè¨Ìä∏ÌïúÍ∞úÎßå ÎßåÎ†ÌïòÎ©¥ Í≤...\n",
       "2      EVERYONE NEEDS TO PLAY THIS I played it like i...\n",
       "3                                           hard and fun\n",
       "4      Dost thou insist to fill the world with viciou...\n",
       "                             ...                        \n",
       "995    Awesome gameWith cool cutsomizations to put on...\n",
       "996    VERY GOOD GAME Much atmosphere solid game wow ...\n",
       "997                                     very fun to play\n",
       "998                        really good game thanks scott\n",
       "999    This game is a ridiculous open world action ga...\n",
       "Name: mensaje, Length: 1000, dtype: object"
      ]
     },
     "execution_count": 225,
     "metadata": {},
     "output_type": "execute_result"
    }
   ],
   "source": [
    "df[\"mensaje\"]"
   ]
  },
  {
   "cell_type": "code",
   "execution_count": null,
   "metadata": {},
   "outputs": [],
   "source": []
  },
  {
   "cell_type": "code",
   "execution_count": null,
   "metadata": {},
   "outputs": [],
   "source": []
  },
  {
   "cell_type": "code",
   "execution_count": null,
   "metadata": {},
   "outputs": [],
   "source": []
  },
  {
   "cell_type": "code",
   "execution_count": 227,
   "metadata": {},
   "outputs": [],
   "source": [
    "df1=df.copy()"
   ]
  },
  {
   "cell_type": "code",
   "execution_count": 2,
   "metadata": {},
   "outputs": [
    {
     "name": "stderr",
     "output_type": "stream",
     "text": [
      "[nltk_data] Downloading package vader_lexicon to\n",
      "[nltk_data]     C:\\Users\\beren\\AppData\\Roaming\\nltk_data...\n",
      "[nltk_data]   Package vader_lexicon is already up-to-date!\n",
      "[nltk_data] Error loading vader_lexicon_es: Package 'vader_lexicon_es'\n",
      "[nltk_data]     not found in index\n"
     ]
    },
    {
     "data": {
      "text/plain": [
       "False"
      ]
     },
     "execution_count": 2,
     "metadata": {},
     "output_type": "execute_result"
    }
   ],
   "source": [
    "import nltk\n",
    "from nltk.sentiment.vader import SentimentIntensityAnalyzer\n",
    "nltk.download(\"vader_lexicon\")\n",
    "nltk.download('vader_lexicon_es')"
   ]
  },
  {
   "cell_type": "code",
   "execution_count": 88,
   "metadata": {},
   "outputs": [
    {
     "name": "stdout",
     "output_type": "stream",
     "text": [
      "<class 'pandas.core.frame.DataFrame'>\n",
      "RangeIndex: 59333 entries, 0 to 59332\n",
      "Data columns (total 9 columns):\n",
      " #   Column       Non-Null Count  Dtype  \n",
      "---  ------       --------------  -----  \n",
      " 0   user_id      59333 non-null  object \n",
      " 1   user_url     59333 non-null  object \n",
      " 2   funny        8151 non-null   object \n",
      " 3   posted       59305 non-null  object \n",
      " 4   last_edited  6140 non-null   object \n",
      " 5   item_id      59305 non-null  float64\n",
      " 6   helpful      59305 non-null  object \n",
      " 7   recommend    59305 non-null  object \n",
      " 8   review       59275 non-null  object \n",
      "dtypes: float64(1), object(8)\n",
      "memory usage: 4.1+ MB\n"
     ]
    }
   ],
   "source": [
    "game_reviews.info()"
   ]
  },
  {
   "cell_type": "code",
   "execution_count": 89,
   "metadata": {},
   "outputs": [],
   "source": [
    "import nltk\n",
    "from nltk.sentiment.vader import SentimentIntensityAnalyzer\n",
    "nltk.download(\"vader_lexicon\")\n",
    "sid=SentimentIntensityAnalyzer()\n",
    "df1[\"Sentiment\"]=df1[\"mensaje\"].astype(str).apply(lambda i: sid.polarity_scores(i)[\"compound\"])"
   ]
  },
  {
   "cell_type": "code",
   "execution_count": 101,
   "metadata": {},
   "outputs": [],
   "source": [
    "\n",
    "game_reviews[\"Sentiment\"]=game_reviews[\"review\"].astype(str).apply(lambda i: sid.polarity_scores(i)[\"compound\"])\n"
   ]
  },
  {
   "cell_type": "code",
   "execution_count": 228,
   "metadata": {},
   "outputs": [],
   "source": [
    "df1[\"Sentiment\"]=df1[\"mensaje\"].astype(str).apply(lambda i: sid.polarity_scores(i)[\"compound\"])"
   ]
  },
  {
   "cell_type": "code",
   "execution_count": 151,
   "metadata": {},
   "outputs": [],
   "source": [
    "game_reviews[\"review\"].replace(\"\", np.nan, inplace=True)\n",
    "#game_reviews.fillna(np.nan, inplace=True)\n",
    "#game_reviews[\"review\"].fillna(np.nan,inplace=True)"
   ]
  },
  {
   "cell_type": "code",
   "execution_count": 152,
   "metadata": {},
   "outputs": [
    {
     "data": {
      "text/html": [
       "<div>\n",
       "<style scoped>\n",
       "    .dataframe tbody tr th:only-of-type {\n",
       "        vertical-align: middle;\n",
       "    }\n",
       "\n",
       "    .dataframe tbody tr th {\n",
       "        vertical-align: top;\n",
       "    }\n",
       "\n",
       "    .dataframe thead th {\n",
       "        text-align: right;\n",
       "    }\n",
       "</style>\n",
       "<table border=\"1\" class=\"dataframe\">\n",
       "  <thead>\n",
       "    <tr style=\"text-align: right;\">\n",
       "      <th></th>\n",
       "      <th>user_id</th>\n",
       "      <th>user_url</th>\n",
       "      <th>funny</th>\n",
       "      <th>posted</th>\n",
       "      <th>last_edited</th>\n",
       "      <th>item_id</th>\n",
       "      <th>helpful</th>\n",
       "      <th>recommend</th>\n",
       "      <th>review</th>\n",
       "    </tr>\n",
       "  </thead>\n",
       "  <tbody>\n",
       "    <tr>\n",
       "      <th>0</th>\n",
       "      <td>76561197970982479</td>\n",
       "      <td>http://steamcommunity.com/profiles/76561197970...</td>\n",
       "      <td>NaN</td>\n",
       "      <td>Posted November 5, 2011.</td>\n",
       "      <td>NaN</td>\n",
       "      <td>1250.0</td>\n",
       "      <td>No ratings yet</td>\n",
       "      <td>True</td>\n",
       "      <td>4</td>\n",
       "    </tr>\n",
       "    <tr>\n",
       "      <th>1</th>\n",
       "      <td>76561197970982479</td>\n",
       "      <td>http://steamcommunity.com/profiles/76561197970...</td>\n",
       "      <td>NaN</td>\n",
       "      <td>Posted July 15, 2011.</td>\n",
       "      <td>NaN</td>\n",
       "      <td>22200.0</td>\n",
       "      <td>No ratings yet</td>\n",
       "      <td>True</td>\n",
       "      <td>NaN</td>\n",
       "    </tr>\n",
       "    <tr>\n",
       "      <th>2</th>\n",
       "      <td>76561197970982479</td>\n",
       "      <td>http://steamcommunity.com/profiles/76561197970...</td>\n",
       "      <td>NaN</td>\n",
       "      <td>Posted April 21, 2011.</td>\n",
       "      <td>NaN</td>\n",
       "      <td>43110.0</td>\n",
       "      <td>No ratings yet</td>\n",
       "      <td>True</td>\n",
       "      <td>NaN</td>\n",
       "    </tr>\n",
       "    <tr>\n",
       "      <th>3</th>\n",
       "      <td>js41637</td>\n",
       "      <td>http://steamcommunity.com/id/js41637</td>\n",
       "      <td>NaN</td>\n",
       "      <td>Posted June 24, 2014.</td>\n",
       "      <td>NaN</td>\n",
       "      <td>251610.0</td>\n",
       "      <td>15 of 20 people (75%) found this review helpful</td>\n",
       "      <td>True</td>\n",
       "      <td>36088</td>\n",
       "    </tr>\n",
       "    <tr>\n",
       "      <th>4</th>\n",
       "      <td>js41637</td>\n",
       "      <td>http://steamcommunity.com/id/js41637</td>\n",
       "      <td>NaN</td>\n",
       "      <td>Posted September 8, 2013.</td>\n",
       "      <td>NaN</td>\n",
       "      <td>227300.0</td>\n",
       "      <td>0 of 1 people (0%) found this review helpful</td>\n",
       "      <td>True</td>\n",
       "      <td>NaN</td>\n",
       "    </tr>\n",
       "    <tr>\n",
       "      <th>...</th>\n",
       "      <td>...</td>\n",
       "      <td>...</td>\n",
       "      <td>...</td>\n",
       "      <td>...</td>\n",
       "      <td>...</td>\n",
       "      <td>...</td>\n",
       "      <td>...</td>\n",
       "      <td>...</td>\n",
       "      <td>...</td>\n",
       "    </tr>\n",
       "    <tr>\n",
       "      <th>59328</th>\n",
       "      <td>76561198312638244</td>\n",
       "      <td>http://steamcommunity.com/profiles/76561198312...</td>\n",
       "      <td>NaN</td>\n",
       "      <td>Posted July 10.</td>\n",
       "      <td>NaN</td>\n",
       "      <td>70.0</td>\n",
       "      <td>No ratings yet</td>\n",
       "      <td>True</td>\n",
       "      <td>NaN</td>\n",
       "    </tr>\n",
       "    <tr>\n",
       "      <th>59329</th>\n",
       "      <td>76561198312638244</td>\n",
       "      <td>http://steamcommunity.com/profiles/76561198312...</td>\n",
       "      <td>NaN</td>\n",
       "      <td>Posted July 8.</td>\n",
       "      <td>NaN</td>\n",
       "      <td>362890.0</td>\n",
       "      <td>No ratings yet</td>\n",
       "      <td>True</td>\n",
       "      <td>NaN</td>\n",
       "    </tr>\n",
       "    <tr>\n",
       "      <th>59330</th>\n",
       "      <td>LydiaMorley</td>\n",
       "      <td>http://steamcommunity.com/id/LydiaMorley</td>\n",
       "      <td>1 person found this review funny</td>\n",
       "      <td>Posted July 3.</td>\n",
       "      <td>NaN</td>\n",
       "      <td>273110.0</td>\n",
       "      <td>1 of 2 people (50%) found this review helpful</td>\n",
       "      <td>True</td>\n",
       "      <td>NaN</td>\n",
       "    </tr>\n",
       "    <tr>\n",
       "      <th>59331</th>\n",
       "      <td>LydiaMorley</td>\n",
       "      <td>http://steamcommunity.com/id/LydiaMorley</td>\n",
       "      <td>NaN</td>\n",
       "      <td>Posted July 20.</td>\n",
       "      <td>NaN</td>\n",
       "      <td>730.0</td>\n",
       "      <td>No ratings yet</td>\n",
       "      <td>True</td>\n",
       "      <td>NaN</td>\n",
       "    </tr>\n",
       "    <tr>\n",
       "      <th>59332</th>\n",
       "      <td>LydiaMorley</td>\n",
       "      <td>http://steamcommunity.com/id/LydiaMorley</td>\n",
       "      <td>NaN</td>\n",
       "      <td>Posted July 2.</td>\n",
       "      <td>NaN</td>\n",
       "      <td>440.0</td>\n",
       "      <td>No ratings yet</td>\n",
       "      <td>True</td>\n",
       "      <td>NaN</td>\n",
       "    </tr>\n",
       "  </tbody>\n",
       "</table>\n",
       "<p>59333 rows × 9 columns</p>\n",
       "</div>"
      ],
      "text/plain": [
       "                 user_id                                           user_url  \\\n",
       "0      76561197970982479  http://steamcommunity.com/profiles/76561197970...   \n",
       "1      76561197970982479  http://steamcommunity.com/profiles/76561197970...   \n",
       "2      76561197970982479  http://steamcommunity.com/profiles/76561197970...   \n",
       "3                js41637               http://steamcommunity.com/id/js41637   \n",
       "4                js41637               http://steamcommunity.com/id/js41637   \n",
       "...                  ...                                                ...   \n",
       "59328  76561198312638244  http://steamcommunity.com/profiles/76561198312...   \n",
       "59329  76561198312638244  http://steamcommunity.com/profiles/76561198312...   \n",
       "59330        LydiaMorley           http://steamcommunity.com/id/LydiaMorley   \n",
       "59331        LydiaMorley           http://steamcommunity.com/id/LydiaMorley   \n",
       "59332        LydiaMorley           http://steamcommunity.com/id/LydiaMorley   \n",
       "\n",
       "                                  funny                     posted  \\\n",
       "0                                   NaN   Posted November 5, 2011.   \n",
       "1                                   NaN      Posted July 15, 2011.   \n",
       "2                                   NaN     Posted April 21, 2011.   \n",
       "3                                   NaN      Posted June 24, 2014.   \n",
       "4                                   NaN  Posted September 8, 2013.   \n",
       "...                                 ...                        ...   \n",
       "59328                               NaN            Posted July 10.   \n",
       "59329                               NaN             Posted July 8.   \n",
       "59330  1 person found this review funny             Posted July 3.   \n",
       "59331                               NaN            Posted July 20.   \n",
       "59332                               NaN             Posted July 2.   \n",
       "\n",
       "      last_edited   item_id                                          helpful  \\\n",
       "0             NaN    1250.0                                   No ratings yet   \n",
       "1             NaN   22200.0                                   No ratings yet   \n",
       "2             NaN   43110.0                                   No ratings yet   \n",
       "3             NaN  251610.0  15 of 20 people (75%) found this review helpful   \n",
       "4             NaN  227300.0     0 of 1 people (0%) found this review helpful   \n",
       "...           ...       ...                                              ...   \n",
       "59328         NaN      70.0                                   No ratings yet   \n",
       "59329         NaN  362890.0                                   No ratings yet   \n",
       "59330         NaN  273110.0    1 of 2 people (50%) found this review helpful   \n",
       "59331         NaN     730.0                                   No ratings yet   \n",
       "59332         NaN     440.0                                   No ratings yet   \n",
       "\n",
       "      recommend review  \n",
       "0          True      4  \n",
       "1          True    NaN  \n",
       "2          True    NaN  \n",
       "3          True  36088  \n",
       "4          True    NaN  \n",
       "...         ...    ...  \n",
       "59328      True    NaN  \n",
       "59329      True    NaN  \n",
       "59330      True    NaN  \n",
       "59331      True    NaN  \n",
       "59332      True    NaN  \n",
       "\n",
       "[59333 rows x 9 columns]"
      ]
     },
     "execution_count": 152,
     "metadata": {},
     "output_type": "execute_result"
    }
   ],
   "source": [
    "game_reviews"
   ]
  },
  {
   "cell_type": "code",
   "execution_count": 235,
   "metadata": {},
   "outputs": [
    {
     "name": "stderr",
     "output_type": "stream",
     "text": [
      "C:\\Users\\Public\\Documents\\iSkysoft\\CreatorTemp\\ipykernel_2692\\198515902.py:1: SettingWithCopyWarning: \n",
      "A value is trying to be set on a copy of a slice from a DataFrame\n",
      "\n",
      "See the caveats in the documentation: https://pandas.pydata.org/pandas-docs/stable/user_guide/indexing.html#returning-a-view-versus-a-copy\n",
      "  df6[\"mensaje\"].fillna(\"\", inplace=True)\n"
     ]
    }
   ],
   "source": [
    "df6[\"mensaje\"].fillna(\"\", inplace=True)"
   ]
  },
  {
   "cell_type": "code",
   "execution_count": 238,
   "metadata": {},
   "outputs": [
    {
     "data": {
      "text/plain": [
       "1      Ïù¥Í≤åÏûÑÏùÄ ÏÑúÌè¨Ìä∏ÌïúÍ∞úÎßå ÎßåÎ†ÌïòÎ©¥ Í≤...\n",
       "4      Dost thou insist to fill the world with viciou...\n",
       "10                                     Hype out of skype\n",
       "12     I swear to god this game is Bains side project...\n",
       "13     I think i am a mediocre to decent player at ra...\n",
       "                             ...                        \n",
       "973    i beat one of the most annoying bosses in the ...\n",
       "979                                                 5555\n",
       "980          Spinos make me want to ing kill myself10/10\n",
       "983    I met up with a group of friends It took about...\n",
       "990                                   yusysuyusyusyusyus\n",
       "Name: mensaje, Length: 387, dtype: object"
      ]
     },
     "execution_count": 238,
     "metadata": {},
     "output_type": "execute_result"
    }
   ],
   "source": [
    "df6[\"mensaje\"]"
   ]
  },
  {
   "cell_type": "code",
   "execution_count": null,
   "metadata": {},
   "outputs": [],
   "source": [
    "from langdetect import detect\n",
    "\n",
    "df6[\"idioma\"] = df6[\"mensaje\"].map(lambda x: detect(str(x)) if x != \"\" else None)\n"
   ]
  },
  {
   "cell_type": "code",
   "execution_count": 241,
   "metadata": {},
   "outputs": [
    {
     "name": "stderr",
     "output_type": "stream",
     "text": [
      "C:\\Users\\Public\\Documents\\iSkysoft\\CreatorTemp\\ipykernel_2692\\3412077583.py:13: SettingWithCopyWarning: \n",
      "A value is trying to be set on a copy of a slice from a DataFrame.\n",
      "Try using .loc[row_indexer,col_indexer] = value instead\n",
      "\n",
      "See the caveats in the documentation: https://pandas.pydata.org/pandas-docs/stable/user_guide/indexing.html#returning-a-view-versus-a-copy\n",
      "  df6[\"idioma\"] = df6[\"mensaje\"].map(detectar_idioma)\n"
     ]
    }
   ],
   "source": [
    "from langdetect import detect, LangDetectException\n",
    "\n",
    "# Función para detectar el idioma de un texto\n",
    "def detectar_idioma(texto):\n",
    "    if len(texto) >= 3:  # Establece un límite mínimo de longitud del texto\n",
    "        try:\n",
    "            return detect(str(texto))\n",
    "        except LangDetectException:\n",
    "            pass\n",
    "    return None\n",
    "\n",
    "# Aplica la detección de idioma solo a la columna \"mensaje\"\n",
    "df6[\"idioma\"] = df6[\"mensaje\"].map(detectar_idioma)"
   ]
  },
  {
   "cell_type": "code",
   "execution_count": 242,
   "metadata": {},
   "outputs": [
    {
     "data": {
      "text/html": [
       "<div>\n",
       "<style scoped>\n",
       "    .dataframe tbody tr th:only-of-type {\n",
       "        vertical-align: middle;\n",
       "    }\n",
       "\n",
       "    .dataframe tbody tr th {\n",
       "        vertical-align: top;\n",
       "    }\n",
       "\n",
       "    .dataframe thead th {\n",
       "        text-align: right;\n",
       "    }\n",
       "</style>\n",
       "<table border=\"1\" class=\"dataframe\">\n",
       "  <thead>\n",
       "    <tr style=\"text-align: right;\">\n",
       "      <th></th>\n",
       "      <th>mensaje</th>\n",
       "      <th>Sentiment</th>\n",
       "      <th>idioma</th>\n",
       "    </tr>\n",
       "  </thead>\n",
       "  <tbody>\n",
       "    <tr>\n",
       "      <th>1</th>\n",
       "      <td>Ïù¥Í≤åÏûÑÏùÄ ÏÑúÌè¨Ìä∏ÌïúÍ∞úÎßå ÎßåÎ†ÌïòÎ©¥ Í≤...</td>\n",
       "      <td>0.0000</td>\n",
       "      <td>vi</td>\n",
       "    </tr>\n",
       "    <tr>\n",
       "      <th>4</th>\n",
       "      <td>Dost thou insist to fill the world with viciou...</td>\n",
       "      <td>-0.3612</td>\n",
       "      <td>en</td>\n",
       "    </tr>\n",
       "    <tr>\n",
       "      <th>10</th>\n",
       "      <td>Hype out of skype</td>\n",
       "      <td>0.0000</td>\n",
       "      <td>en</td>\n",
       "    </tr>\n",
       "    <tr>\n",
       "      <th>12</th>\n",
       "      <td>I swear to god this game is Bains side project...</td>\n",
       "      <td>-0.4588</td>\n",
       "      <td>en</td>\n",
       "    </tr>\n",
       "    <tr>\n",
       "      <th>13</th>\n",
       "      <td>I think i am a mediocre to decent player at ra...</td>\n",
       "      <td>-0.2983</td>\n",
       "      <td>en</td>\n",
       "    </tr>\n",
       "    <tr>\n",
       "      <th>...</th>\n",
       "      <td>...</td>\n",
       "      <td>...</td>\n",
       "      <td>...</td>\n",
       "    </tr>\n",
       "    <tr>\n",
       "      <th>973</th>\n",
       "      <td>i beat one of the most annoying bosses in the ...</td>\n",
       "      <td>-0.7645</td>\n",
       "      <td>en</td>\n",
       "    </tr>\n",
       "    <tr>\n",
       "      <th>979</th>\n",
       "      <td>5555</td>\n",
       "      <td>0.0000</td>\n",
       "      <td>None</td>\n",
       "    </tr>\n",
       "    <tr>\n",
       "      <th>980</th>\n",
       "      <td>Spinos make me want to ing kill myself10/10</td>\n",
       "      <td>-0.6597</td>\n",
       "      <td>af</td>\n",
       "    </tr>\n",
       "    <tr>\n",
       "      <th>983</th>\n",
       "      <td>I met up with a group of friends It took about...</td>\n",
       "      <td>-0.8834</td>\n",
       "      <td>en</td>\n",
       "    </tr>\n",
       "    <tr>\n",
       "      <th>990</th>\n",
       "      <td>yusysuyusyusyusyus</td>\n",
       "      <td>0.0000</td>\n",
       "      <td>tl</td>\n",
       "    </tr>\n",
       "  </tbody>\n",
       "</table>\n",
       "<p>387 rows × 3 columns</p>\n",
       "</div>"
      ],
      "text/plain": [
       "                                               mensaje  Sentiment idioma\n",
       "1    Ïù¥Í≤åÏûÑÏùÄ ÏÑúÌè¨Ìä∏ÌïúÍ∞úÎßå ÎßåÎ†ÌïòÎ©¥ Í≤...     0.0000     vi\n",
       "4    Dost thou insist to fill the world with viciou...    -0.3612     en\n",
       "10                                   Hype out of skype     0.0000     en\n",
       "12   I swear to god this game is Bains side project...    -0.4588     en\n",
       "13   I think i am a mediocre to decent player at ra...    -0.2983     en\n",
       "..                                                 ...        ...    ...\n",
       "973  i beat one of the most annoying bosses in the ...    -0.7645     en\n",
       "979                                               5555     0.0000   None\n",
       "980        Spinos make me want to ing kill myself10/10    -0.6597     af\n",
       "983  I met up with a group of friends It took about...    -0.8834     en\n",
       "990                                 yusysuyusyusyusyus     0.0000     tl\n",
       "\n",
       "[387 rows x 3 columns]"
      ]
     },
     "execution_count": 242,
     "metadata": {},
     "output_type": "execute_result"
    }
   ],
   "source": [
    "df6"
   ]
  },
  {
   "cell_type": "code",
   "execution_count": 244,
   "metadata": {},
   "outputs": [],
   "source": [
    "df7=df6[(df6[\"idioma\"]!=\"en\")]\n"
   ]
  },
  {
   "cell_type": "code",
   "execution_count": 245,
   "metadata": {},
   "outputs": [
    {
     "data": {
      "text/plain": [
       "(153, 3)"
      ]
     },
     "execution_count": 245,
     "metadata": {},
     "output_type": "execute_result"
    }
   ],
   "source": [
    "df7.shape"
   ]
  },
  {
   "cell_type": "code",
   "execution_count": 1,
   "metadata": {},
   "outputs": [
    {
     "ename": "ImportError",
     "evalue": "cannot import name 'GoogleTranslator' from 'google_trans_new' (c:\\Users\\beren\\AppData\\Local\\Programs\\Python\\Python310\\lib\\site-packages\\google_trans_new\\__init__.py)",
     "output_type": "error",
     "traceback": [
      "\u001b[1;31m---------------------------------------------------------------------------\u001b[0m",
      "\u001b[1;31mImportError\u001b[0m                               Traceback (most recent call last)",
      "\u001b[1;32md:\\berenisse\\Cursos importantes\\HENRY\\Proyectos individuales\\PI_ML_OPS\\2. NPL.ipynb Cell 31\u001b[0m in \u001b[0;36m<cell line: 2>\u001b[1;34m()\u001b[0m\n\u001b[0;32m      <a href='vscode-notebook-cell:/d%3A/berenisse/Cursos%20importantes/HENRY/Proyectos%20individuales/PI_ML_OPS/2.%20NPL.ipynb#X42sZmlsZQ%3D%3D?line=0'>1</a>\u001b[0m \u001b[39mfrom\u001b[39;00m \u001b[39mdeep_translator\u001b[39;00m \u001b[39mimport\u001b[39;00m GoogleTranslator\n\u001b[1;32m----> <a href='vscode-notebook-cell:/d%3A/berenisse/Cursos%20importantes/HENRY/Proyectos%20individuales/PI_ML_OPS/2.%20NPL.ipynb#X42sZmlsZQ%3D%3D?line=1'>2</a>\u001b[0m \u001b[39mfrom\u001b[39;00m \u001b[39mgoogle_trans_new\u001b[39;00m \u001b[39mimport\u001b[39;00m GoogleTranslator\n",
      "\u001b[1;31mImportError\u001b[0m: cannot import name 'GoogleTranslator' from 'google_trans_new' (c:\\Users\\beren\\AppData\\Local\\Programs\\Python\\Python310\\lib\\site-packages\\google_trans_new\\__init__.py)"
     ]
    }
   ],
   "source": [
    "from deep_translator import GoogleTranslator\n",
    "from google_trans_new import GoogleTranslator\n",
    "\n"
   ]
  },
  {
   "cell_type": "code",
   "execution_count": null,
   "metadata": {},
   "outputs": [],
   "source": [
    "\n",
    "from google_trans_new import google_translator\n",
    "translator = google_translator)  \n",
    "translated = translator.translate(df_todos1['Titular'], lang_src='es', lang_tgt='en')  \n",
    "print(translated)"
   ]
  },
  {
   "cell_type": "code",
   "execution_count": 25,
   "metadata": {},
   "outputs": [],
   "source": [
    "import string\n",
    "for row in df:\n",
    "    row.translate(str.maketrans('', '', string.punctuation))"
   ]
  },
  {
   "cell_type": "code",
   "execution_count": null,
   "metadata": {},
   "outputs": [],
   "source": []
  }
 ],
 "metadata": {
  "kernelspec": {
   "display_name": "Python 3",
   "language": "python",
   "name": "python3"
  },
  "language_info": {
   "codemirror_mode": {
    "name": "ipython",
    "version": 3
   },
   "file_extension": ".py",
   "mimetype": "text/x-python",
   "name": "python",
   "nbconvert_exporter": "python",
   "pygments_lexer": "ipython3",
   "version": "3.10.6"
  },
  "orig_nbformat": 4
 },
 "nbformat": 4,
 "nbformat_minor": 2
}

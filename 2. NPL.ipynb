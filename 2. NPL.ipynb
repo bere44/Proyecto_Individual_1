{
 "cells": [
  {
   "cell_type": "code",
   "execution_count": 1,
   "metadata": {},
   "outputs": [],
   "source": [
    "#importar las librerias\n",
    "import pandas as pd\n",
    "import numpy as np"
   ]
  },
  {
   "cell_type": "code",
   "execution_count": 2,
   "metadata": {},
   "outputs": [],
   "source": [
    "#importar la base de datos para trabjarla\n",
    "game_reviews= pd.read_csv(\"game_reviews.csv\", index_col= False)"
   ]
  },
  {
   "cell_type": "code",
   "execution_count": 3,
   "metadata": {},
   "outputs": [
    {
     "data": {
      "text/plain": [
       "<bound method Series.info of 0        Simple yet with great replayability. In my opi...\n",
       "1                     It's unique and worth a playthrough.\n",
       "2        Great atmosphere. The gunplay can be a bit chu...\n",
       "3        I know what you think when you see this title ...\n",
       "4        For a simple (it's actually not all that simpl...\n",
       "                               ...                        \n",
       "59328    a must have classic from steam definitely wort...\n",
       "59329    this game is a perfect remake of the original ...\n",
       "59330    had so much fun plaing this and collecting res...\n",
       "59331                                                   :D\n",
       "59332                                       so much fun :D\n",
       "Name: review, Length: 59333, dtype: object>"
      ]
     },
     "execution_count": 3,
     "metadata": {},
     "output_type": "execute_result"
    }
   ],
   "source": [
    "game_reviews[\"review\"].info"
   ]
  },
  {
   "cell_type": "code",
   "execution_count": 4,
   "metadata": {},
   "outputs": [],
   "source": [
    "#limpiar la base de datos de puntuacion\n",
    "game_reviews[\"review\"]=game_reviews[\"review\"].str.replace(r\"[\\\"\\'\\|\\?\\=\\.\\@\\#\\*\\,\\.\\!\\/\\:\\-\\‚ô•\\<\\>√â\\+\\D]\", '',regex=True)"
   ]
  },
  {
   "cell_type": "code",
   "execution_count": 5,
   "metadata": {},
   "outputs": [
    {
     "name": "stdout",
     "output_type": "stream",
     "text": [
      "<class 'pandas.core.frame.DataFrame'>\n",
      "RangeIndex: 59333 entries, 0 to 59332\n",
      "Data columns (total 9 columns):\n",
      " #   Column       Non-Null Count  Dtype  \n",
      "---  ------       --------------  -----  \n",
      " 0   user_id      59333 non-null  object \n",
      " 1   user_url     59333 non-null  object \n",
      " 2   funny        8151 non-null   object \n",
      " 3   posted       59305 non-null  object \n",
      " 4   last_edited  6140 non-null   object \n",
      " 5   item_id      59305 non-null  float64\n",
      " 6   helpful      59305 non-null  object \n",
      " 7   recommend    59305 non-null  object \n",
      " 8   review       59275 non-null  object \n",
      "dtypes: float64(1), object(8)\n",
      "memory usage: 4.1+ MB\n"
     ]
    }
   ],
   "source": [
    "game_reviews.info()"
   ]
  },
  {
   "cell_type": "code",
   "execution_count": 6,
   "metadata": {},
   "outputs": [
    {
     "name": "stderr",
     "output_type": "stream",
     "text": [
      "[nltk_data] Downloading package vader_lexicon to\n",
      "[nltk_data]     C:\\Users\\beren\\AppData\\Roaming\\nltk_data...\n",
      "[nltk_data]   Package vader_lexicon is already up-to-date!\n"
     ]
    },
    {
     "data": {
      "text/plain": [
       "True"
      ]
     },
     "execution_count": 6,
     "metadata": {},
     "output_type": "execute_result"
    }
   ],
   "source": [
    "#importar la libreria para hacer el analisis de sentimientos\n",
    "import nltk\n",
    "from nltk.sentiment.vader import SentimentIntensityAnalyzer\n",
    "nltk.download(\"vader_lexicon\")"
   ]
  },
  {
   "cell_type": "code",
   "execution_count": 7,
   "metadata": {},
   "outputs": [
    {
     "name": "stderr",
     "output_type": "stream",
     "text": [
      "[nltk_data] Downloading package vader_lexicon to\n",
      "[nltk_data]     C:\\Users\\beren\\AppData\\Roaming\\nltk_data...\n",
      "[nltk_data]   Package vader_lexicon is already up-to-date!\n"
     ]
    }
   ],
   "source": [
    "#importar la librerias para el analisis de sentimientos\n",
    "import nltk\n",
    "from nltk.sentiment.vader import SentimentIntensityAnalyzer\n",
    "nltk.download(\"vader_lexicon\")\n",
    "sid=SentimentIntensityAnalyzer()\n"
   ]
  },
  {
   "cell_type": "code",
   "execution_count": 8,
   "metadata": {},
   "outputs": [],
   "source": [
    "#aplicar el analisis de sentimientos a la columna reviews\n",
    "game_reviews[\"Sentiment\"]=game_reviews[\"review\"].astype(str).apply(lambda i: sid.polarity_scores(i)[\"compound\"])\n"
   ]
  },
  {
   "cell_type": "code",
   "execution_count": 9,
   "metadata": {},
   "outputs": [],
   "source": [
    "#reemplzar los reviews vacios por nan\n",
    "game_reviews[\"review\"].replace(\"\", np.nan, inplace=True)\n",
    "#game_reviews.fillna(np.nan, inplace=True)\n",
    "#game_reviews[\"review\"].fillna(np.nan,inplace=True)"
   ]
  },
  {
   "cell_type": "code",
   "execution_count": 11,
   "metadata": {},
   "outputs": [],
   "source": [
    "#PASAR LA NUMERACION QUE SID PASA A LA NUMERACION QUE SE REQUIERE PARA EL ANALISIS\n",
    "Sentiment_Result=[]\n",
    "\n",
    "for i in range(len(game_reviews)):\n",
    "    if game_reviews[\"Sentiment\"].iloc[i]==0:\n",
    "        Sentiment_Result.append(1)\n",
    "    elif game_reviews[\"Sentiment\"].iloc[i]<0:\n",
    "        Sentiment_Result.append(0)\n",
    "    elif game_reviews[\"Sentiment\"].iloc[i]>0:\n",
    "        Sentiment_Result.append(2)"
   ]
  },
  {
   "cell_type": "code",
   "execution_count": 17,
   "metadata": {},
   "outputs": [],
   "source": [
    "#CREAR LA COLUMNA DE RESULTADO\n",
    "game_reviews[\"Sentiment_Result\"]=pd.DataFrame(data=Sentiment_Result, index=None)"
   ]
  },
  {
   "cell_type": "code",
   "execution_count": 21,
   "metadata": {},
   "outputs": [],
   "source": [
    "#Eliminar las columnas que no sirven del dataframe\n",
    "game_reviews.drop(columns=[\"last_edited\", \"funny\"], inplace=True)"
   ]
  },
  {
   "cell_type": "code",
   "execution_count": 22,
   "metadata": {},
   "outputs": [],
   "source": [
    "game_reviews.to_csv(\"game_reviews2.csv\")"
   ]
  },
  {
   "cell_type": "code",
   "execution_count": 16,
   "metadata": {},
   "outputs": [
    {
     "data": {
      "text/plain": [
       "'from langdetect import detect, LangDetectException\\n\\n# Función para detectar el idioma de un texto\\ndef detectar_idioma(texto):\\n    if len(texto) >= 3:  # Establece un límite mínimo de longitud del texto\\n        try:\\n            return detect(str(texto))\\n        except LangDetectException:\\n            pass\\n    return None\\n\\n# Aplica la detección de idioma solo a la columna \"mensaje\"\\ndf6[\"idioma\"] = df6[\"mensaje\"].map(detectar_idioma)'"
      ]
     },
     "execution_count": 16,
     "metadata": {},
     "output_type": "execute_result"
    }
   ],
   "source": [
    "\"\"\"from langdetect import detect, LangDetectException\n",
    "\n",
    "# Función para detectar el idioma de un texto\n",
    "def detectar_idioma(texto):\n",
    "    if len(texto) >= 3:  # Establece un límite mínimo de longitud del texto\n",
    "        try:\n",
    "            return detect(str(texto))\n",
    "        except LangDetectException:\n",
    "            pass\n",
    "    return None\n",
    "\n",
    "# Aplica la detección de idioma solo a la columna \"mensaje\"\n",
    "df6[\"idioma\"] = df6[\"mensaje\"].map(detectar_idioma)\"\"\""
   ]
  }
 ],
 "metadata": {
  "kernelspec": {
   "display_name": "Python 3",
   "language": "python",
   "name": "python3"
  },
  "language_info": {
   "codemirror_mode": {
    "name": "ipython",
    "version": 3
   },
   "file_extension": ".py",
   "mimetype": "text/x-python",
   "name": "python",
   "nbconvert_exporter": "python",
   "pygments_lexer": "ipython3",
   "version": "3.10.6"
  },
  "orig_nbformat": 4
 },
 "nbformat": 4,
 "nbformat_minor": 2
}

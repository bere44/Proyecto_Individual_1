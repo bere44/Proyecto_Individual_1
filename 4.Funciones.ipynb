{
 "cells": [
  {
   "cell_type": "markdown",
   "metadata": {},
   "source": [
    "def userdata( User_id : str ): \n",
    "Debe devolver cantidad de dinero gastado por el usuario, el porcentaje de recomendación en base a reviews.recommend y cantidad de items."
   ]
  },
  {
   "cell_type": "code",
   "execution_count": 780,
   "metadata": {},
   "outputs": [],
   "source": [
    "import pandas as pd\n",
    "import numpy as np"
   ]
  },
  {
   "cell_type": "code",
   "execution_count": 781,
   "metadata": {},
   "outputs": [],
   "source": [
    "df_items=pd.read_csv(\"game_items.csv\",usecols=[\"item_id\",\"steam_id\",\"items_count\"])\n",
    "df_recomendados=pd.read_csv(\"game_reviews.csv\",usecols=[\"item_id\",\"user_id\",\"recommend\"])\n",
    "df_precios=pd.read_csv(\"steam_games.csv\",usecols=[\"id\",\"price\"])"
   ]
  },
  {
   "cell_type": "code",
   "execution_count": 782,
   "metadata": {},
   "outputs": [],
   "source": [
    "df1 = pd.read_csv(\"game_items.csv\",usecols=[\"steam_id\",\"items_count\"])"
   ]
  },
  {
   "cell_type": "code",
   "execution_count": 783,
   "metadata": {},
   "outputs": [
    {
     "data": {
      "text/html": [
       "<div>\n",
       "<style scoped>\n",
       "    .dataframe tbody tr th:only-of-type {\n",
       "        vertical-align: middle;\n",
       "    }\n",
       "\n",
       "    .dataframe tbody tr th {\n",
       "        vertical-align: top;\n",
       "    }\n",
       "\n",
       "    .dataframe thead th {\n",
       "        text-align: right;\n",
       "    }\n",
       "</style>\n",
       "<table border=\"1\" class=\"dataframe\">\n",
       "  <thead>\n",
       "    <tr style=\"text-align: right;\">\n",
       "      <th></th>\n",
       "      <th>steam_id</th>\n",
       "      <th>items_count</th>\n",
       "    </tr>\n",
       "  </thead>\n",
       "  <tbody>\n",
       "    <tr>\n",
       "      <th>0</th>\n",
       "      <td>76561197970982479</td>\n",
       "      <td>277</td>\n",
       "    </tr>\n",
       "    <tr>\n",
       "      <th>277</th>\n",
       "      <td>76561198035864385</td>\n",
       "      <td>888</td>\n",
       "    </tr>\n",
       "    <tr>\n",
       "      <th>1165</th>\n",
       "      <td>76561198007712555</td>\n",
       "      <td>137</td>\n",
       "    </tr>\n",
       "    <tr>\n",
       "      <th>1302</th>\n",
       "      <td>76561197963445855</td>\n",
       "      <td>328</td>\n",
       "    </tr>\n",
       "    <tr>\n",
       "      <th>1630</th>\n",
       "      <td>76561198002099482</td>\n",
       "      <td>541</td>\n",
       "    </tr>\n",
       "    <tr>\n",
       "      <th>...</th>\n",
       "      <td>...</td>\n",
       "      <td>...</td>\n",
       "    </tr>\n",
       "    <tr>\n",
       "      <th>5152678</th>\n",
       "      <td>76561198320136420</td>\n",
       "      <td>321</td>\n",
       "    </tr>\n",
       "    <tr>\n",
       "      <th>5152999</th>\n",
       "      <td>76561198321542621</td>\n",
       "      <td>4</td>\n",
       "    </tr>\n",
       "    <tr>\n",
       "      <th>5153003</th>\n",
       "      <td>76561198323066619</td>\n",
       "      <td>22</td>\n",
       "    </tr>\n",
       "    <tr>\n",
       "      <th>5153025</th>\n",
       "      <td>76561198326700687</td>\n",
       "      <td>177</td>\n",
       "    </tr>\n",
       "    <tr>\n",
       "      <th>5153202</th>\n",
       "      <td>76561198329548331</td>\n",
       "      <td>7</td>\n",
       "    </tr>\n",
       "  </tbody>\n",
       "</table>\n",
       "<p>70912 rows × 2 columns</p>\n",
       "</div>"
      ],
      "text/plain": [
       "                  steam_id  items_count\n",
       "0        76561197970982479          277\n",
       "277      76561198035864385          888\n",
       "1165     76561198007712555          137\n",
       "1302     76561197963445855          328\n",
       "1630     76561198002099482          541\n",
       "...                    ...          ...\n",
       "5152678  76561198320136420          321\n",
       "5152999  76561198321542621            4\n",
       "5153003  76561198323066619           22\n",
       "5153025  76561198326700687          177\n",
       "5153202  76561198329548331            7\n",
       "\n",
       "[70912 rows x 2 columns]"
      ]
     },
     "execution_count": 783,
     "metadata": {},
     "output_type": "execute_result"
    }
   ],
   "source": [
    "df1.drop_duplicates(keep='first')"
   ]
  },
  {
   "cell_type": "code",
   "execution_count": 784,
   "metadata": {},
   "outputs": [
    {
     "data": {
      "text/html": [
       "<div>\n",
       "<style scoped>\n",
       "    .dataframe tbody tr th:only-of-type {\n",
       "        vertical-align: middle;\n",
       "    }\n",
       "\n",
       "    .dataframe tbody tr th {\n",
       "        vertical-align: top;\n",
       "    }\n",
       "\n",
       "    .dataframe thead th {\n",
       "        text-align: right;\n",
       "    }\n",
       "</style>\n",
       "<table border=\"1\" class=\"dataframe\">\n",
       "  <thead>\n",
       "    <tr style=\"text-align: right;\">\n",
       "      <th></th>\n",
       "      <th>price</th>\n",
       "      <th>id</th>\n",
       "    </tr>\n",
       "  </thead>\n",
       "  <tbody>\n",
       "    <tr>\n",
       "      <th>0</th>\n",
       "      <td>4.99</td>\n",
       "      <td>761140.0</td>\n",
       "    </tr>\n",
       "    <tr>\n",
       "      <th>1</th>\n",
       "      <td>Free To Play</td>\n",
       "      <td>643980.0</td>\n",
       "    </tr>\n",
       "    <tr>\n",
       "      <th>2</th>\n",
       "      <td>Free to Play</td>\n",
       "      <td>670290.0</td>\n",
       "    </tr>\n",
       "    <tr>\n",
       "      <th>3</th>\n",
       "      <td>0.99</td>\n",
       "      <td>767400.0</td>\n",
       "    </tr>\n",
       "    <tr>\n",
       "      <th>4</th>\n",
       "      <td>2.99</td>\n",
       "      <td>773570.0</td>\n",
       "    </tr>\n",
       "    <tr>\n",
       "      <th>...</th>\n",
       "      <td>...</td>\n",
       "      <td>...</td>\n",
       "    </tr>\n",
       "    <tr>\n",
       "      <th>32130</th>\n",
       "      <td>1.99</td>\n",
       "      <td>773640.0</td>\n",
       "    </tr>\n",
       "    <tr>\n",
       "      <th>32131</th>\n",
       "      <td>4.99</td>\n",
       "      <td>733530.0</td>\n",
       "    </tr>\n",
       "    <tr>\n",
       "      <th>32132</th>\n",
       "      <td>1.99</td>\n",
       "      <td>610660.0</td>\n",
       "    </tr>\n",
       "    <tr>\n",
       "      <th>32133</th>\n",
       "      <td>4.99</td>\n",
       "      <td>658870.0</td>\n",
       "    </tr>\n",
       "    <tr>\n",
       "      <th>32134</th>\n",
       "      <td>4.99</td>\n",
       "      <td>681550.0</td>\n",
       "    </tr>\n",
       "  </tbody>\n",
       "</table>\n",
       "<p>32135 rows × 2 columns</p>\n",
       "</div>"
      ],
      "text/plain": [
       "              price        id\n",
       "0              4.99  761140.0\n",
       "1      Free To Play  643980.0\n",
       "2      Free to Play  670290.0\n",
       "3              0.99  767400.0\n",
       "4              2.99  773570.0\n",
       "...             ...       ...\n",
       "32130          1.99  773640.0\n",
       "32131          4.99  733530.0\n",
       "32132          1.99  610660.0\n",
       "32133          4.99  658870.0\n",
       "32134          4.99  681550.0\n",
       "\n",
       "[32135 rows x 2 columns]"
      ]
     },
     "execution_count": 784,
     "metadata": {},
     "output_type": "execute_result"
    }
   ],
   "source": [
    "df_precios"
   ]
  },
  {
   "cell_type": "code",
   "execution_count": 785,
   "metadata": {},
   "outputs": [
    {
     "name": "stdout",
     "output_type": "stream",
     "text": [
      "['Free To Play', 'Free to Play', 'Free', 'Free', 'Free', 'Free', 'Free to Play', 'Free', 'Free', 'Free', 'Free to Play', 'Free to Play', 'Free to Play', 'Free to Play', 'Free', 'Free to Play', 'Free to Play', 'Free to Play', 'Free to Play', 'Free to Play', 'Free to Play', 'Free Demo', 'Free Demo', 'Play for Free!', 'Free to Play', 'Play for Free!', 'Free to Play', 'Free to Play', 'Free', 'Free', 'Free to Play', 'Free to Play', 'Free', 'Free to Play', 'Free to Play', 'Free to Play', 'Free to Play', 'Free To Play', 'Free', 'Free to Play', 'Free', 'Free To Play', 'Free', 'Free', 'Free to Play', 'Free to Play', 'Free to Play', 'Free to Play', 'Install Now', 'Free To Play', 'Free', 'Free to Play', 'Free', 'Free', 'Free To Play', 'Free to Play', 'Free to Play', 'Free', 'Free', 'Free to Play', 'Play WARMACHINE: Tactics Demo', 'Free', 'Free to Play', 'Free to Play', 'Free', 'Free', 'Free to Play', 'Free to Play', 'Free', 'Free', 'Free To Play', 'Free to Play', 'Free to Play', 'Free to Play', 'Free to Play', 'Free to Play', 'Free Mod', 'Free to Play', 'Free to Play', 'Free', 'Free to Play', 'Free to Play', 'Free to Play', 'Free to Play', 'Free to Play', 'Free', 'Free to Play', 'Free to Play', 'Free to Play', 'Free to Play', 'Free', 'Free to Play', 'Free to Play', 'Free', 'Free to Play', 'Free', 'Free to Play', 'Free to Play', 'Free to Play', 'Install Theme', 'Free to Play', 'Free to Play', 'Free', 'Free to Play', 'Third-party', 'Free to Play', 'Free', 'Free to Play', 'Free To Play', 'Free', 'Free', 'Free', 'Free', 'Play Now', 'Free', 'Free', 'Free', 'Free', 'Free to Play', 'Free', 'Free to Play', 'Free', 'Free to Play', 'Free', 'Free', 'Free to Play', 'Free to Play', 'Free to Play', 'Free to Play', 'Free to Play', 'Free to Play', 'Free to Play', 'Free to Play', 'Free', 'Free', 'Free', 'Free to Play', 'Free to Play', 'Free', 'Free to Play', 'Free to Play', 'Free', 'Free to Play', 'Free', 'Free to Play', 'Free', 'Free', 'Free to Play', 'Free to Play', 'Free', 'Free', 'Free to Play', 'Free to Play', 'Free', 'Free to Play', 'Free to Play', 'Free', 'Free', 'Free to Play', 'Free', 'Free to Play', 'Free', 'Free', 'Free to Play', 'Free', 'Free', 'Free', 'Free to Play', 'Free to Play', 'Free to Play', 'Free to Play', 'Free to Play', 'Free', 'Free to Play', 'Free to Play', 'Free to Play', 'Free to Play', 'Free to Play', 'Free to Play', 'Free to Play', 'Free', 'Free to Play', 'Free to Play', 'Free', 'Free', 'Free to Play', 'Free to Play', 'Free', 'Free to Play', 'Free', 'Free', 'Free to Play', 'Free to Play', 'Free to Play', 'Free to Play', 'Free', 'Free', 'Free HITMAN™ Holiday Pack', 'Free to Play', 'Free to Play', 'Free to Play', 'Free to Play', 'Free to Play', 'Free to Play', 'Free to Play', 'Free', 'Free', 'Free', 'Free', 'Free to Play', 'Free', 'Free to Play', 'Free to Play', 'Free to Play', 'Free to Play', 'Free', 'Free', 'Free to Play', 'Free', 'Free', 'Free To Play', 'Free to Play', 'Free', 'Free', 'Free to Play', 'Free to Play', 'Free To Play', 'Free to Play', 'Free to Play', 'Free', 'Free To Play', 'Free', 'Free', 'Free to Play', 'Free', 'Free', 'Free To Play', 'Free to Play', 'Free', 'Free To Play', 'Free', 'Free to Play', 'Free', 'Free', 'Free to Play', 'Free To Play', 'Free', 'Free', 'Free to Play', 'Free', 'Free', 'Free To Play', 'Free to Play', 'Free To Play', 'Free', 'Free', 'Free', 'Free To Play', 'Free', 'Free', 'Free to Play', 'Free', 'Free', 'Free', 'Free To Play', 'Free to Play', 'Free', 'Free', 'Free', 'Free To Play', 'Free To Play', 'Free To Play', 'Free', 'Free To Play', 'Free', 'Free', 'Free', 'Free', 'Free', 'Free', 'Free To Play', 'Free', 'Free', 'Free to Play', 'Free', 'Free', 'Free', 'Free', 'Free', 'Free', 'Free To Play', 'Free', 'Free To Play', 'Free To Play', 'Free', 'Free to Play', 'Free To Play', 'Free to Play', 'Free', 'Free', 'Free', 'Free', 'Free To Play', 'Free', 'Free To Play', 'Free To Play', 'Free', 'Free To Play', 'Free to Play', 'Free To Play', 'Free To Play', 'Free', 'Free', 'Free', 'Free to Play', 'Free To Play', 'Free To Play', 'Free To Play', 'Free to Play', 'Free', 'Free To Play', 'Free', 'Free To Play', 'Free', 'Free', 'Free', 'Free To Play', 'Free', 'Free To Play', 'Free To Play', 'Free', 'Free', 'Free To Play', 'Free', 'Free', 'Free', 'Free To Play', 'Free', 'Free', 'Free', 'Free To Play', 'Free To Play', 'Free To Play', 'Free to Play', 'Free To Play', 'Free', 'Free', 'Free to Play', 'Free To Play', 'Free', 'Free', 'Free To Play', 'Free', 'Free To Play', 'Free To Play', 'Free', 'Free To Play', 'Free', 'Free to Play', 'Free', 'Free', 'Free', 'Free', 'Free', 'Free', 'Free To Play', 'Free to Play', 'Free', 'Free', 'Free', 'Free', 'Free', 'Free', 'Free To Play', 'Free', 'Free', 'Free', 'Free', 'Free to Play', 'Free To Play', 'Free', 'Free', 'Free To Play', 'Free', 'Free', 'Free', 'Free', 'Free To Play', 'Free to Play', 'Free', 'Free To Play', 'Free To Play', 'Free to Play', 'Free', 'Free', 'Free', 'Free', 'Free', 'Free', 'Free To Play', 'Free', 'Free To Play', 'Free', 'Free To Play', 'Free', 'Free To Play', 'Free To Play', 'Free To Play', 'Free To Play', 'Free', 'Free', 'Free', 'Free', 'Free', 'Free to Play', 'Free', 'Free', 'Free to Play', 'Free To Play', 'Free To Play', 'Free To Play', 'Free', 'Free', 'Free', 'Free', 'Free', 'Free to Play', 'Free to Play', 'Free to Play', 'Free To Play', 'Free', 'Free', 'Free', 'Free To Play', 'Free', 'Free', 'Free', 'Free To Play', 'Free', 'Free To Play', 'Free To Play', 'Free to Play', 'Free', 'Free', 'Free To Play', 'Free To Play', 'Free To Play', 'Free To Play', 'Free to Play', 'Free to Play', 'Free', 'Free', 'Free', 'Free', 'Free', 'Free to Play', 'Free To Play', 'Free', 'Free to Play', 'Free To Play', 'Free', 'Free', 'Free', 'Free To Play', 'Free To Play', 'Free to Play', 'Free To Play', 'Free', 'Free', 'Free To Play', 'Free', 'Free To Play', 'Free', 'Free', 'Free', 'Free', 'Free to Play', 'Free to Play', 'Free To Play', 'Free to Play', 'Free to Play', 'Free to Play', 'Free To Play', 'Free To Play', 'Free To Play', 'Free', 'Free to Play', 'Free', 'Free', 'Free', 'Free', 'Free', 'Free', 'Free', 'Free To Play', 'Free', 'Free', 'Free', 'Free To Play', 'Free To Play', 'Free', 'Free', 'Free To Play', 'Free', 'Free To Play', 'Free', 'Free to Play', 'Free To Play', 'Free', 'Free', 'Free', 'Free To Play', 'Free', 'Free to Play', 'Free', 'Free To Play', 'Free to Play', 'Free To Play', 'Free To Play', 'Free', 'Free', 'Free', 'Free', 'Free', 'Free To Play', 'Free to Play', 'Free', 'Free', 'Free', 'Free', 'Free To Play', 'Free', 'Free', 'Free To Play', 'Free to Play', 'Free', 'Free to Play', 'Free To Play', 'Free', 'Free', 'Free To Play', 'Free', 'Free', 'Free to Play', 'Free To Play', 'Free To Play', 'Free', 'Free To Play', 'Free', 'Free to Play', 'Free', 'Free To Play', 'Free To Play', 'Free', 'Free To Play', 'Free', 'Free', 'Free', 'Free to Play', 'Free', 'Free', 'Free', 'Free To Play', 'Free', 'Free To Play', 'Free', 'Free To Play', 'Free To Play', 'Free To Play', 'Free', 'Free', 'Free', 'Free', 'Free to Play', 'Free', 'Free To Play', 'Free', 'Free To Play', 'Free', 'Free to Play', 'Free to Play', 'Free To Play', 'Free To Play', 'Free', 'Free to Play', 'Free To Play', 'Free', 'Free To Play', 'Free to Play', 'Free To Play', 'Free', 'Free', 'Free To Play', 'Free', 'Free to Play', 'Free to Play', 'Free To Play', 'Free To Play', 'Free To Play', 'Free to Play', 'Free to Play', 'Free To Play', 'Free', 'Free', 'Free To Play', 'Free', 'Free to Play', 'Free To Play', 'Free To Play', 'Free', 'Free', 'Free', 'Free', 'Free', 'Free To Play', 'Free to Play', 'Free', 'Free', 'Free', 'Free To Play', 'Free to Play', 'Free', 'Free To Play', 'Free', 'Free', 'Free', 'Free To Play', 'Free To Play', 'Free To Play', 'Free', 'Free to Play', 'Free to Play', 'Free To Play', 'Free', 'Free To Play', 'Free To Play', 'Free', 'Free', 'Free To Play', 'Free to Play', 'Free to Play', 'Free', 'Free', 'Free', 'Free To Play', 'Free To Play', 'Free', 'Free to Play', 'Free To Play', 'Free To Play', 'Free To Play', 'Free', 'Free', 'Free', 'Free', 'Free', 'Free', 'Free To Play', 'Free To Play', 'Free', 'Free', 'Free To Play', 'Free To Play', 'Free To Play', 'Free', 'Free to Play', 'Free', 'Free To Play', 'Free', 'Free To Play', 'Free to Play', 'Free To Play', 'Free', 'Free', 'Free', 'Free to Play', 'Free To Play', 'Free', 'Free To Play', 'Free', 'Free', 'Free To Play', 'Free', 'Free', 'Free To Play', 'Free', 'Free', 'Free', 'Free To Play', 'Free', 'Free To Play', 'Free', 'Free', 'Free', 'Free to Play', 'Free', 'Free To Play', 'Free', 'Free', 'Free To Play', 'Free', 'Free', 'Free to Play', 'Free To Play', 'Free To Play', 'Free', 'Free to Play', 'Free', 'Free', 'Free', 'Free To Play', 'Free', 'Free To Play', 'Free To Play', 'Free To Play', 'Free To Play', 'Free', 'Free', 'Free', 'Free', 'Free', 'Free', 'Free To Play', 'Free', 'Free', 'Free', 'Free To Play', 'Free', 'Free To Play', 'Free', 'Free', 'Free', 'Free', 'Free To Play', 'Free', 'Free', 'Free', 'Free', 'Free', 'Free', 'Free To Play', 'Free', 'Free To Play', 'Free', 'Free to Play', 'Free', 'Free to Play', 'Free To Play', 'Free', 'Free', 'Free', 'Free To Play', 'Free To Play', 'Free to Play', 'Free To Play', 'Free To Play', 'Free', 'Free', 'Free To Play', 'Free', 'Free', 'Free', 'Free', 'Free To Play', 'Free', 'Free', 'Free To Play', 'Free', 'Free', 'Free to Play', 'Free', 'Free To Play', 'Free', 'Free To Play', 'Free', 'Free', 'Free', 'Free', 'Free', 'Free To Play', 'Free', 'Free', 'Free', 'Free', 'Free To Play', 'Free', 'Free To Play', 'Free to Play', 'Free', 'Free To Play', 'Free To Play', 'Free To Play', 'Free', 'Free To Play', 'Free To Play', 'Free', 'Free', 'Free To Play', 'Free To Play', 'Free', 'Free', 'Free To Play', 'Free', 'Free', 'Free', 'Free', 'Free to Play', 'Free', 'Free', 'Free', 'Free', 'Free To Play', 'Free', 'Free', 'Free', 'Free to Play', 'Free To Play', 'Free', 'Free To Play', 'Free', 'Free To Play', 'Free To Play', 'Free To Play', 'Free To Play', 'Free To Play', 'Free', 'Free', 'Free', 'Free', 'Free', 'Free To Play', 'Free', 'Free', 'Free To Play', 'Free', 'Free Mod', 'Free', 'Free', 'Free To Play', 'Free', 'Free to Play', 'Free To Play', 'Free To Play', 'Free to Play', 'Free to Play', 'Free To Play', 'Free To Play', 'Free', 'Free', 'Free', 'Free to Play', 'Free', 'Free', 'Free', 'Free', 'Free To Play', 'Free To Play', 'Free', 'Free To Play', 'Free to Play', 'Free', 'Free To Play', 'Free To Play', 'Free To Play', 'Free', 'Free', 'Free To Play', 'Free to Play', 'Free To Play', 'Free', 'Free', 'Free To Play', 'Free To Play', 'Free', 'Free to Play', 'Free', 'Free', 'Free', 'Free to Play', 'Free To Play', 'Free', 'Free', 'Free', 'Free To Play', 'Free', 'Free', 'Free', 'Free To Play', 'Free To Play', 'Free To Play', 'Free', 'Free', 'Free To Play', 'Free', 'Free', 'Free', 'Free To Play', 'Free To Play', 'Free', 'Free', 'Free To Play', 'Free', 'Free', 'Free To Play', 'Free to Play', 'Free', 'Free', 'Free To Play', 'Free', 'Free', 'Free To Play', 'Free to Play', 'Free', 'Free', 'Free To Play', 'Free', 'Free', 'Free', 'Free To Play', 'Free', 'Free to Play', 'Free to Play', 'Free to Play', 'Free To Play', 'Free To Play', 'Free', 'Free', 'Free To Play', 'Free To Play', 'Free To Play', 'Free', 'Free To Play', 'Free To Play', 'Free', 'Free To Play', 'Free', 'Free To Play', 'Free to Play', 'Free', 'Free', 'Free', 'Free to Play', 'Free To Play', 'Free', 'Free', 'Free to Play', 'Free To Play', 'Free', 'Free To Play', 'Free To Play', 'Free', 'Free To Play', 'Free to Play', 'Free', 'Free', 'Free', 'Free', 'Free', 'Free', 'Free', 'Free To Play', 'Free', 'Free', 'Free', 'Free', 'Free', 'Free', 'Free To Play', 'Free', 'Free', 'Free', 'Free To Play', 'Free To Play', 'Free', 'Free', 'Free To Play', 'Free To Play', 'Free', 'Free To Play', 'Free To Play', 'Free', 'Free To Play', 'Free to Play', 'Free', 'Free', 'Free', 'Free', 'Free', 'Free', 'Free To Play', 'Free to Play', 'Free to Play', 'Free To Play', 'Free', 'Free', 'Free to Play', 'Free To Play', 'Free', 'Free to Play', 'Free to Play', 'Free To Play', 'Free', 'Free to Play', 'Free To Play', 'Free To Play', 'Free', 'Free To Play', 'Free', 'Free To Play', 'Free To Play', 'Free', 'Free', 'Free', 'Free To Play', 'Free To Play', 'Free', 'Free', 'Free to Play', 'Free To Play', 'Free', 'Free to Play', 'Free', 'Free To Play', 'Free', 'Free To Play', 'Free To Play', 'Free', 'Free', 'Free', 'Free', 'Free To Play', 'Free', 'Free', 'Free to Play', 'Free', 'Free to Play', 'Free to Play', 'Free To Play', 'Free To Play', 'Free', 'Free', 'Free to Play', 'Free to Play', 'Free', 'Free to Play', 'Free', 'Free', 'Free', 'Free', 'Free To Play', 'Free', 'Free To Play', 'Free', 'Free', 'Free', 'Free', 'Free', 'Free to Play', 'Free', 'Free to Play', 'Free To Play', 'Free', 'Free To Play', 'Free', 'Free To Play', 'Free', 'Free', 'Free', 'Free to Play', 'Free to Play', 'Free', 'Free to Play', 'Free', 'Free To Play', 'Free', 'Free', 'Free to Play', 'Free', 'Free', 'Free To Play', 'Free To Play', 'Free', 'Free To Play', 'Free', 'Free', 'Free to Play', 'Free', 'Free', 'Free', 'Free', 'Free', 'Free to Play', 'Free', 'Free To Play', 'Free', 'Free to Play', 'Free', 'Free', 'Free', 'Free to Play', 'Free To Play', 'Free', 'Free', 'Free to Play', 'Free to Play', 'Free To Play', 'Free', 'Free to Play', 'Free To Play', 'Free', 'Free', 'Free to Play', 'Free', 'Free To Play', 'Free to Play', 'Free To Play', 'Free', 'Free To Play', 'Free To Play', 'Free', 'Free To Play', 'Free to Play', 'Free', 'Free To Play', 'Free', 'Free', 'Free', 'Free', 'Free To Play', 'Free to Play', 'Free', 'Free', 'Free', 'Free', 'Free', 'Free', 'Free', 'Free', 'Free', 'Free', 'Free', 'Free To Play', 'Free to Play', 'Free To Play', 'Free', 'Free', 'Free to Play', 'Free to Play', 'Free To Play', 'Free', 'Free', 'Free', 'Free to Play', 'Free To Play', 'Free', 'Free To Play', 'Free', 'Free To Play', 'Free to Play', 'Free', 'Free', 'Free', 'Free', 'Free', 'Free To Play', 'Free', 'Free to Play', 'Free To Play', 'Free', 'Free To Play', 'Free', 'Free To Play', 'Free', 'Free', 'Free To Play', 'Free to Play', 'Free To Play', 'Free To Play', 'Free', 'Free', 'Free', 'Free To Play', 'Free to Play', 'Free', 'Free To Play', 'Free', 'Free To Play', 'Free To Play', 'Free', 'Free', 'Free To Play', 'Free To Play', 'Free', 'Free', 'Free', 'Free to Play', 'Free', 'Free', 'Free To Play', 'Free', 'Free', 'Free', 'Free To Play', 'Free To Play', 'Free To Play', 'Free', 'Free to Play', 'Free to Play', 'Free To Play', 'Free', 'Free to Play', 'Free', 'Free', 'Free To Play', 'Free To Play', 'Free', 'Free', 'Free', 'Free To Play', 'Free', 'Free to Play', 'Free', 'Free', 'Free To Play', 'Free To Play', 'Free', 'Free to Play', 'Free To Play', 'Free to Play', 'Free to Play', 'Free to Play', 'Free to Play', 'Free To Play', 'Free', 'Free To Play', 'Free', 'Free', 'Free', 'Free To Play', 'Free', 'Free To Play', 'Free', 'Free', 'Free To Play', 'Free', 'Free', 'Free to Play', 'Free', 'Free to Play', 'Free', 'Free To Play', 'Free to Play', 'Free', 'Free', 'Free To Play', 'Free To Play', 'Free', 'Free', 'Free To Play', 'Free To Play', 'Free', 'Free', 'Free', 'Free', 'Free To Play', 'Free To Play', 'Free', 'Free to Play', 'Free To Play', 'Free To Play', 'Free', 'Free To Play', 'Free To Play', 'Free To Play', 'Free', 'Free', 'Free', 'Free', 'Free To Play', 'Free To Play', 'Free to Play', 'Free To Play', 'Free', 'Free', 'Free to Play', 'Free To Play', 'Free To Play', 'Free', 'Free', 'Free To Play', 'Free', 'Free To Play', 'Free', 'Free To Play', 'Free To Play', 'Free', 'Free', 'Free To Play', 'Free To Play', 'Free', 'Free To Play', 'Free', 'Free To Play', 'Free', 'Free', 'Free To Play', 'Free', 'Free', 'Free to Play', 'Free', 'Free to Play', 'Free', 'Free To Play', 'Free', 'Free To Play', 'Free', 'Free', 'Free To Play', 'Free', 'Free', 'Free to Play', 'Free to Play', 'Free', 'Free To Play', 'Free To Play', 'Free', 'Free', 'Free To Play', 'Free', 'Free To Play', 'Free To Play', 'Free', 'Free to Play', 'Free To Play', 'Free', 'Free', 'Free', 'Free', 'Free', 'Free', 'Free', 'Free to Play', 'Free To Play', 'Free', 'Free', 'Free', 'Free To Play', 'Free', 'Free To Play', 'Free to Play', 'Free', 'Free To Play', 'Free To Play', 'Free To Play', 'Free', 'Free', 'Free to Play', 'Free', 'Free', 'Free', 'Free to Play', 'Free To Play', 'Free To Play', 'Free', 'Free To Play', 'Free', 'Free', 'Free', 'Free To Play', 'Free', 'Free to Play', 'Free To Play', 'Free To Play', 'Free To Play', 'Free', 'Free', 'Free To Play', 'Free To Play', 'Free', 'Free', 'Free To Play', 'Free', 'Free To Play', 'Free To Play', 'Free To Play', 'Free to Play', 'Free', 'Free', 'Free', 'Free To Play', 'Free', 'Free To Play', 'Free To Play', 'Free', 'Free To Play', 'Free', 'Free', 'Free', 'Free', 'Free To Play', 'Free To Play', 'Free', 'Free To Play', 'Free To Play', 'Free', 'Free To Play', 'Free', 'Free', 'Free To Play', 'Free to Play', 'Free', 'Free', 'Free to Play', 'Free', 'Free To Play', 'Free', 'Free To Play', 'Free To Play', 'Free', 'Free To Play', 'Free', 'Free To Play', 'Free', 'Free to Play', 'Free', 'Free To Play', 'Free To Play', 'Free To Play', 'Free', 'Free To Play', 'Free', 'Free', 'Free To Play', 'Free To Play', 'Free To Play', 'Free', 'Free', 'Free', 'Free To Play', 'Free', 'Free', 'Free', 'Free', 'Free', 'Free', 'Free To Play', 'Free To Play', 'Free', 'Free to Play', 'Free To Play', 'Free To Play', 'Free', 'Free', 'Free To Play', 'Free to Play', 'Free To Play', 'Free To Play', 'Free To Play', 'Free', 'Free', 'Free', 'Free', 'Free To Play', 'Free to Play', 'Free to Play', 'Free', 'Free', 'Free To Play', 'Free', 'Free To Play', 'Free to Play', 'Free', 'Free To Play', 'Free', 'Free', 'Free', 'Free To Play', 'Free To Play', 'Free', 'Free', 'Free', 'Free To Play', 'Free', 'Free', 'Free', 'Free To Play', 'Free To Play', 'Free To Play', 'Free', 'Free To Play', 'Free', 'Free To Play', 'Free To Play', 'Free', 'Free To Play', 'Free', 'Free To Play', 'Free', 'Free To Play', 'Free', 'Free To Play', 'Free To Play', 'Free', 'Free To Play', 'Free', 'Free', 'Free To Play', 'Free', 'Free To Play', 'Free', 'Free', 'Free To Play', 'Free To Play', 'Free', 'Free', 'Free', 'Free', 'Free', 'Free to Play', 'Free To Play', 'Free To Play', 'Free', 'Free To Play', 'Free', 'Free', 'Free', 'Free to Play', 'Free', 'Free to Play', 'Free To Play', 'Free To Play', 'Free to Play', 'Free', 'Free To Play', 'Free To Play', 'Free', 'Free', 'Free', 'Free To Play', 'Free', 'Free to Play', 'Free', 'Free To Play', 'Free to Play', 'Free To Play', 'Free', 'Free to Play', 'Free to Play', 'Free', 'Free', 'Play the Demo', 'Free to Play', 'Free to Play', 'Free', 'Free', 'Free To Play', 'Free to Play', 'Free to Play', 'Free to Play', 'Free', 'Free', 'Free', 'Free', 'Free To Play', 'Free', 'Free', 'Free', 'Free', 'Free to Play', 'Free', 'Free', 'Free to Play', 'Free', 'Free', 'Free', 'Free to Play', 'Free', 'Free To Play', 'Free to Play', 'Free', 'Free', 'Free To Play', 'Free', 'Free to Play', 'Free to Play', 'Free To Play', 'Free', 'Free To Play', 'Free To Play', 'Free', 'Free', 'Free', 'Free to Play', 'Free', 'Free to Play', 'Free to Play', 'Free', 'Free', 'Free', 'Free to Play', 'Free to Play', 'Free', 'Free', 'Free to Play', 'Free to Play', 'Free to Play', 'Free to Play', 'Free', 'Free to Play', 'Free to Play', 'Free', 'Free', 'Free', 'Free', 'Free', 'Free', 'Free', 'Free to Play', 'Free to Play', 'Free to Play', 'Free to Play', 'Free to Play', 'Free to Play', 'Free', 'Free to Play', 'Free', 'Free to Play', 'Free to Play', 'Free', 'Free', 'Free', 'Free', 'Free to Play', 'Free to Play', 'Free to Play', 'Free to Play', 'Free to Play', 'Free to Play', 'Free to Play', 'Free to Play', 'Free to Play', 'Free', 'Free to Play', 'Free to Play', 'Free', 'Free to Play', 'Free to Play', 'Free', 'Free to Play', 'Free to Play', 'Free to Play', 'Free to Play', 'Free', 'Free to Play', 'Free to Play', 'Free to Play', 'Free to Play', 'Free to Play', 'Free to Play', 'Free to Play', 'Free to Play', 'Free to Play', 'Free to Play', 'Free to Play', 'Free to Play', 'Free to Play', 'Free', 'Free to Play', 'Free to Play', 'Free to Play', 'Free to Play', 'Free to Play', 'Free to Play', 'Free', 'Free to Play', 'Free to Play', 'Free', 'Free to Play', 'Free to Play', 'Free to Play', 'Free', 'Free to Play', 'Free to Play', 'Free to Play', 'Free to Play', 'Free to Play', 'Free to Play', 'Free to Play', 'Free', 'Free to Play', 'Free to Play', 'Free to Play', 'Free', 'Free to Play', 'Free', 'Free to Play', 'Free to Play', 'Starting at $499.00', 'Starting at $449.00', 'Free to Play', 'Free to Play', 'Free to Play', 'Free to Play', 'Free', 'Free to Play', 'Free to Play', 'Free to Play', 'Free', 'Free to Play', 'Free to Play', 'Free', 'Free', 'Free to Play', 'Free to Play', 'Free to Play', 'Free', 'Free to Play', 'Free to Play', 'Free to Play', 'Free to Play', 'Free to Play', 'Free', 'Free to Play', 'Free to Play', 'Free to Play', 'Free to Play', 'Free to Play', 'Free to Play', 'Free to Play', 'Free to Play', 'Free to Play', 'Free to Play', 'Free to Play', 'Free', 'Free', 'Free to Play', 'Free', 'Free', 'Free', 'Free to Play', 'Free to Play', 'Free to Play', 'Free', 'Free', 'Free to Play', 'Free to Play', 'Free to Play', 'Free', 'Play Now', 'Free to Play', 'Free to Play', 'Free', 'Free to Play', 'Free to Play', 'Free', 'Free to Play', 'Free', 'Free', 'Free to Play', 'Free to Play', 'Free to Play', 'Free To Play', 'Free', 'Free', 'Free to Play', 'Free', 'Free to Play', 'Free', 'Free to Play', 'Free', 'Free to Play', 'Free to Play', 'Free', 'Free to Play', 'Free to Play', 'Free to Play', 'Free to Play', 'Free to Play', 'Free to Play', 'Free', 'Free to Try', 'Free To Play', 'Free to Play', 'Free to Play', 'Free', 'Free', 'Free to Play', 'Free', 'Free to Play', 'Free', 'Free', 'Free to Play', 'Free to Play', 'Free to Play', 'Free to Play', 'Free to Play', 'Free to Play', 'Free To Play', 'Free to Play', 'Free', 'Free to Play', 'Free to Play', 'Free to Play', 'Free to Play', 'Free to Play', 'Free to Play', 'Free to Play', 'Free to Play', 'Free to Play', 'Free to Play', 'Free to Play', 'Free to Play', 'Free Mod', 'Free Mod', 'Free to Play', 'Free', 'Free to Play', 'Free', 'Free To Play', 'Free', 'Free to Play', 'Free To Play', 'Free to Play', 'Free to Play', 'Free to Play', 'Free to Play', 'Free to Play', 'Free To Play', 'Free to Play', 'Free to Play', 'Free', 'Free to Play', 'Free to Play', 'Free to Play', 'Free to Play', 'Free to Play', 'Free', 'Free to Play', 'Free to Play', 'Free to Play', 'Free', 'Free', 'Free Movie', 'Free to Play', 'Free to Play', 'Free to Play', 'Free to Play', 'Free', 'Free to Play', 'Free', 'Free to Play', 'Free', 'Free', 'Free to Play', 'Free', 'Free to Play', 'Free to Play', 'Free', 'Free to Play', 'Free to Play', 'Free to Play', 'Free to Play', 'Free to Play', 'Free to Play', 'Free to Use', 'Free to Play', 'Free to Play', 'Free to Play', 'Free to Play', 'Free to Play', 'Free to Play', 'Free to Play', 'Free to Play', 'Free to Play', 'Free To Play', 'Free to Play', 'Free Demo', 'Free to Play', 'Free to Play', 'Free to Play', 'Free to Play', 'Free to Play', 'Free to Play', 'Free to Play', 'Free to Play', 'Free', 'Free', 'Free to Play', 'Free', 'Free', 'Free', 'Free', 'Free', 'Free', 'Free', 'Free', 'Free', 'Free', 'Third-party', 'Free to Play', 'Free', 'Free to Play', 'Free', 'Free to Play', 'Free', 'Free', 'Free', 'Free To Play', 'Free', 'Free']\n"
     ]
    }
   ],
   "source": [
    "list_string=[]\n",
    "for i in df_precios[\"price\"]:\n",
    "    try:\n",
    "        float(i)\n",
    "    except:\n",
    "        list_string.append(i)\n",
    "\n",
    "print(list_string)\n"
   ]
  },
  {
   "cell_type": "code",
   "execution_count": 786,
   "metadata": {},
   "outputs": [],
   "source": [
    "list_string=set(list_string)\n",
    "list_string=list(list_string)"
   ]
  },
  {
   "cell_type": "code",
   "execution_count": 787,
   "metadata": {},
   "outputs": [],
   "source": [
    "del list_string [5]\n",
    "del list_string [7]"
   ]
  },
  {
   "cell_type": "code",
   "execution_count": 788,
   "metadata": {},
   "outputs": [
    {
     "data": {
      "text/plain": [
       "['Free to Play',\n",
       " 'Free Mod',\n",
       " 'Free Movie',\n",
       " 'Free Demo',\n",
       " 'Install Theme',\n",
       " 'Play WARMACHINE: Tactics Demo',\n",
       " 'Install Now',\n",
       " 'Free to Use',\n",
       " 'Third-party',\n",
       " 'Play Now',\n",
       " 'Free',\n",
       " 'Free HITMAN™ Holiday Pack',\n",
       " 'Free to Try',\n",
       " 'Free To Play',\n",
       " 'Play the Demo',\n",
       " 'Play for Free!']"
      ]
     },
     "execution_count": 788,
     "metadata": {},
     "output_type": "execute_result"
    }
   ],
   "source": [
    "list_string"
   ]
  },
  {
   "cell_type": "code",
   "execution_count": 789,
   "metadata": {},
   "outputs": [],
   "source": [
    "df_precios['price'] = df_precios['price'].apply(lambda x: 0 if x in list_string\n",
    "                                                        else 499.0 if x=='Starting at $499.00'\n",
    "                                                        else 449.0 if x=='Starting at $449.00'\n",
    "                                                        else x)\n"
   ]
  },
  {
   "cell_type": "code",
   "execution_count": 790,
   "metadata": {},
   "outputs": [],
   "source": [
    "df_precios[\"price\"].fillna(df_precios['price'].median(), inplace=True)\n",
    "df_precios[\"price\"]=df_precios[\"price\"].astype(float)\n"
   ]
  },
  {
   "cell_type": "code",
   "execution_count": 791,
   "metadata": {},
   "outputs": [
    {
     "data": {
      "text/html": [
       "<div>\n",
       "<style scoped>\n",
       "    .dataframe tbody tr th:only-of-type {\n",
       "        vertical-align: middle;\n",
       "    }\n",
       "\n",
       "    .dataframe tbody tr th {\n",
       "        vertical-align: top;\n",
       "    }\n",
       "\n",
       "    .dataframe thead th {\n",
       "        text-align: right;\n",
       "    }\n",
       "</style>\n",
       "<table border=\"1\" class=\"dataframe\">\n",
       "  <thead>\n",
       "    <tr style=\"text-align: right;\">\n",
       "      <th></th>\n",
       "      <th>price</th>\n",
       "      <th>id</th>\n",
       "    </tr>\n",
       "  </thead>\n",
       "  <tbody>\n",
       "    <tr>\n",
       "      <th>0</th>\n",
       "      <td>4.99</td>\n",
       "      <td>761140.0</td>\n",
       "    </tr>\n",
       "    <tr>\n",
       "      <th>1</th>\n",
       "      <td>0.00</td>\n",
       "      <td>643980.0</td>\n",
       "    </tr>\n",
       "    <tr>\n",
       "      <th>2</th>\n",
       "      <td>0.00</td>\n",
       "      <td>670290.0</td>\n",
       "    </tr>\n",
       "    <tr>\n",
       "      <th>3</th>\n",
       "      <td>0.99</td>\n",
       "      <td>767400.0</td>\n",
       "    </tr>\n",
       "    <tr>\n",
       "      <th>4</th>\n",
       "      <td>2.99</td>\n",
       "      <td>773570.0</td>\n",
       "    </tr>\n",
       "    <tr>\n",
       "      <th>...</th>\n",
       "      <td>...</td>\n",
       "      <td>...</td>\n",
       "    </tr>\n",
       "    <tr>\n",
       "      <th>32130</th>\n",
       "      <td>1.99</td>\n",
       "      <td>773640.0</td>\n",
       "    </tr>\n",
       "    <tr>\n",
       "      <th>32131</th>\n",
       "      <td>4.99</td>\n",
       "      <td>733530.0</td>\n",
       "    </tr>\n",
       "    <tr>\n",
       "      <th>32132</th>\n",
       "      <td>1.99</td>\n",
       "      <td>610660.0</td>\n",
       "    </tr>\n",
       "    <tr>\n",
       "      <th>32133</th>\n",
       "      <td>4.99</td>\n",
       "      <td>658870.0</td>\n",
       "    </tr>\n",
       "    <tr>\n",
       "      <th>32134</th>\n",
       "      <td>4.99</td>\n",
       "      <td>681550.0</td>\n",
       "    </tr>\n",
       "  </tbody>\n",
       "</table>\n",
       "<p>32135 rows × 2 columns</p>\n",
       "</div>"
      ],
      "text/plain": [
       "       price        id\n",
       "0       4.99  761140.0\n",
       "1       0.00  643980.0\n",
       "2       0.00  670290.0\n",
       "3       0.99  767400.0\n",
       "4       2.99  773570.0\n",
       "...      ...       ...\n",
       "32130   1.99  773640.0\n",
       "32131   4.99  733530.0\n",
       "32132   1.99  610660.0\n",
       "32133   4.99  658870.0\n",
       "32134   4.99  681550.0\n",
       "\n",
       "[32135 rows x 2 columns]"
      ]
     },
     "execution_count": 791,
     "metadata": {},
     "output_type": "execute_result"
    }
   ],
   "source": [
    "df_precios"
   ]
  },
  {
   "cell_type": "code",
   "execution_count": 792,
   "metadata": {},
   "outputs": [],
   "source": [
    "df_precios[\"id\"].fillna(method=\"ffill\",inplace=True)"
   ]
  },
  {
   "cell_type": "code",
   "execution_count": 793,
   "metadata": {},
   "outputs": [
    {
     "data": {
      "text/plain": [
       "price    0\n",
       "id       0\n",
       "dtype: int64"
      ]
     },
     "execution_count": 793,
     "metadata": {},
     "output_type": "execute_result"
    }
   ],
   "source": [
    "df_precios.isna().sum()"
   ]
  },
  {
   "cell_type": "code",
   "execution_count": 812,
   "metadata": {},
   "outputs": [],
   "source": [
    "df_precios.rename(columns={\"id\":\"item_id\"}, inplace=True)\n",
    "df_precios[\"item_id\"]=df_precios[\"item_id\"].astype(str)"
   ]
  },
  {
   "cell_type": "code",
   "execution_count": 813,
   "metadata": {},
   "outputs": [
    {
     "name": "stdout",
     "output_type": "stream",
     "text": [
      "<class 'pandas.core.frame.DataFrame'>\n",
      "RangeIndex: 32135 entries, 0 to 32134\n",
      "Data columns (total 2 columns):\n",
      " #   Column   Non-Null Count  Dtype  \n",
      "---  ------   --------------  -----  \n",
      " 0   price    32135 non-null  float64\n",
      " 1   item_id  32135 non-null  object \n",
      "dtypes: float64(1), object(1)\n",
      "memory usage: 502.2+ KB\n"
     ]
    }
   ],
   "source": [
    "df_precios.info()"
   ]
  },
  {
   "cell_type": "code",
   "execution_count": 807,
   "metadata": {},
   "outputs": [],
   "source": [
    "df_recomendados[\"item_id\"]=df_recomendados[\"item_id\"].astype(str)"
   ]
  },
  {
   "cell_type": "code",
   "execution_count": 814,
   "metadata": {},
   "outputs": [],
   "source": [
    "df_merged=df_recomendados.merge(df_precios,on='item_id', how='left')"
   ]
  },
  {
   "cell_type": "code",
   "execution_count": 816,
   "metadata": {},
   "outputs": [],
   "source": [
    "df_merged[\"price\"].fillna(df_merged['price'].median(), inplace=True)\n"
   ]
  },
  {
   "cell_type": "code",
   "execution_count": 817,
   "metadata": {},
   "outputs": [
    {
     "data": {
      "text/html": [
       "<div>\n",
       "<style scoped>\n",
       "    .dataframe tbody tr th:only-of-type {\n",
       "        vertical-align: middle;\n",
       "    }\n",
       "\n",
       "    .dataframe tbody tr th {\n",
       "        vertical-align: top;\n",
       "    }\n",
       "\n",
       "    .dataframe thead th {\n",
       "        text-align: right;\n",
       "    }\n",
       "</style>\n",
       "<table border=\"1\" class=\"dataframe\">\n",
       "  <thead>\n",
       "    <tr style=\"text-align: right;\">\n",
       "      <th></th>\n",
       "      <th>user_id</th>\n",
       "      <th>item_id</th>\n",
       "      <th>recommend</th>\n",
       "      <th>price</th>\n",
       "    </tr>\n",
       "  </thead>\n",
       "  <tbody>\n",
       "    <tr>\n",
       "      <th>0</th>\n",
       "      <td>76561197970982479</td>\n",
       "      <td>1250.0</td>\n",
       "      <td>True</td>\n",
       "      <td>19.99</td>\n",
       "    </tr>\n",
       "    <tr>\n",
       "      <th>1</th>\n",
       "      <td>76561197970982479</td>\n",
       "      <td>22200.0</td>\n",
       "      <td>True</td>\n",
       "      <td>9.99</td>\n",
       "    </tr>\n",
       "    <tr>\n",
       "      <th>2</th>\n",
       "      <td>76561197970982479</td>\n",
       "      <td>43110.0</td>\n",
       "      <td>True</td>\n",
       "      <td>9.99</td>\n",
       "    </tr>\n",
       "    <tr>\n",
       "      <th>3</th>\n",
       "      <td>js41637</td>\n",
       "      <td>251610.0</td>\n",
       "      <td>True</td>\n",
       "      <td>9.99</td>\n",
       "    </tr>\n",
       "    <tr>\n",
       "      <th>4</th>\n",
       "      <td>js41637</td>\n",
       "      <td>227300.0</td>\n",
       "      <td>True</td>\n",
       "      <td>19.99</td>\n",
       "    </tr>\n",
       "    <tr>\n",
       "      <th>...</th>\n",
       "      <td>...</td>\n",
       "      <td>...</td>\n",
       "      <td>...</td>\n",
       "      <td>...</td>\n",
       "    </tr>\n",
       "    <tr>\n",
       "      <th>59330</th>\n",
       "      <td>76561198312638244</td>\n",
       "      <td>70.0</td>\n",
       "      <td>True</td>\n",
       "      <td>9.99</td>\n",
       "    </tr>\n",
       "    <tr>\n",
       "      <th>59331</th>\n",
       "      <td>76561198312638244</td>\n",
       "      <td>362890.0</td>\n",
       "      <td>True</td>\n",
       "      <td>19.99</td>\n",
       "    </tr>\n",
       "    <tr>\n",
       "      <th>59332</th>\n",
       "      <td>LydiaMorley</td>\n",
       "      <td>273110.0</td>\n",
       "      <td>True</td>\n",
       "      <td>0.00</td>\n",
       "    </tr>\n",
       "    <tr>\n",
       "      <th>59333</th>\n",
       "      <td>LydiaMorley</td>\n",
       "      <td>730.0</td>\n",
       "      <td>True</td>\n",
       "      <td>14.99</td>\n",
       "    </tr>\n",
       "    <tr>\n",
       "      <th>59334</th>\n",
       "      <td>LydiaMorley</td>\n",
       "      <td>440.0</td>\n",
       "      <td>True</td>\n",
       "      <td>0.00</td>\n",
       "    </tr>\n",
       "  </tbody>\n",
       "</table>\n",
       "<p>59335 rows × 4 columns</p>\n",
       "</div>"
      ],
      "text/plain": [
       "                 user_id   item_id recommend  price\n",
       "0      76561197970982479    1250.0      True  19.99\n",
       "1      76561197970982479   22200.0      True   9.99\n",
       "2      76561197970982479   43110.0      True   9.99\n",
       "3                js41637  251610.0      True   9.99\n",
       "4                js41637  227300.0      True  19.99\n",
       "...                  ...       ...       ...    ...\n",
       "59330  76561198312638244      70.0      True   9.99\n",
       "59331  76561198312638244  362890.0      True  19.99\n",
       "59332        LydiaMorley  273110.0      True   0.00\n",
       "59333        LydiaMorley     730.0      True  14.99\n",
       "59334        LydiaMorley     440.0      True   0.00\n",
       "\n",
       "[59335 rows x 4 columns]"
      ]
     },
     "execution_count": 817,
     "metadata": {},
     "output_type": "execute_result"
    }
   ],
   "source": [
    "df_merged"
   ]
  },
  {
   "cell_type": "code",
   "execution_count": 822,
   "metadata": {},
   "outputs": [],
   "source": [
    "#gasto por id\n",
    "df_gastoxid=df_merged.iloc[:,[0,3]].groupby(\"user_id\").sum()"
   ]
  },
  {
   "cell_type": "code",
   "execution_count": 825,
   "metadata": {},
   "outputs": [
    {
     "data": {
      "text/html": [
       "<div>\n",
       "<style scoped>\n",
       "    .dataframe tbody tr th:only-of-type {\n",
       "        vertical-align: middle;\n",
       "    }\n",
       "\n",
       "    .dataframe tbody tr th {\n",
       "        vertical-align: top;\n",
       "    }\n",
       "\n",
       "    .dataframe thead th {\n",
       "        text-align: right;\n",
       "    }\n",
       "</style>\n",
       "<table border=\"1\" class=\"dataframe\">\n",
       "  <thead>\n",
       "    <tr style=\"text-align: right;\">\n",
       "      <th></th>\n",
       "      <th>price</th>\n",
       "    </tr>\n",
       "    <tr>\n",
       "      <th>user_id</th>\n",
       "      <th></th>\n",
       "    </tr>\n",
       "  </thead>\n",
       "  <tbody>\n",
       "    <tr>\n",
       "      <th>--000--</th>\n",
       "      <td>19.99</td>\n",
       "    </tr>\n",
       "    <tr>\n",
       "      <th>--ace--</th>\n",
       "      <td>4.99</td>\n",
       "    </tr>\n",
       "    <tr>\n",
       "      <th>--ionex--</th>\n",
       "      <td>24.98</td>\n",
       "    </tr>\n",
       "    <tr>\n",
       "      <th>-2SV-vuLB-Kg</th>\n",
       "      <td>74.96</td>\n",
       "    </tr>\n",
       "    <tr>\n",
       "      <th>-Azsael-</th>\n",
       "      <td>29.99</td>\n",
       "    </tr>\n",
       "    <tr>\n",
       "      <th>...</th>\n",
       "      <td>...</td>\n",
       "    </tr>\n",
       "    <tr>\n",
       "      <th>zwanzigdrei</th>\n",
       "      <td>0.00</td>\n",
       "    </tr>\n",
       "    <tr>\n",
       "      <th>zy0705</th>\n",
       "      <td>0.00</td>\n",
       "    </tr>\n",
       "    <tr>\n",
       "      <th>zynxgameth</th>\n",
       "      <td>0.00</td>\n",
       "    </tr>\n",
       "    <tr>\n",
       "      <th>zyr0n1c</th>\n",
       "      <td>94.94</td>\n",
       "    </tr>\n",
       "    <tr>\n",
       "      <th>zzoptimuszz</th>\n",
       "      <td>9.99</td>\n",
       "    </tr>\n",
       "  </tbody>\n",
       "</table>\n",
       "<p>25485 rows × 1 columns</p>\n",
       "</div>"
      ],
      "text/plain": [
       "              price\n",
       "user_id            \n",
       "--000--       19.99\n",
       "--ace--        4.99\n",
       "--ionex--     24.98\n",
       "-2SV-vuLB-Kg  74.96\n",
       "-Azsael-      29.99\n",
       "...             ...\n",
       "zwanzigdrei    0.00\n",
       "zy0705         0.00\n",
       "zynxgameth     0.00\n",
       "zyr0n1c       94.94\n",
       "zzoptimuszz    9.99\n",
       "\n",
       "[25485 rows x 1 columns]"
      ]
     },
     "execution_count": 825,
     "metadata": {},
     "output_type": "execute_result"
    }
   ],
   "source": [
    "df_gastoxid[df_gastoxid[\"price\"]>19.99]"
   ]
  },
  {
   "cell_type": "code",
   "execution_count": null,
   "metadata": {},
   "outputs": [],
   "source": []
  },
  {
   "cell_type": "code",
   "execution_count": 673,
   "metadata": {},
   "outputs": [
    {
     "data": {
      "text/plain": [
       "119.98"
      ]
     },
     "execution_count": 673,
     "metadata": {},
     "output_type": "execute_result"
    }
   ],
   "source": [
    "#df_precios[df_precios[\"id\"]==\"612880\"][\"price\"].sum()"
   ]
  }
 ],
 "metadata": {
  "kernelspec": {
   "display_name": "Python 3",
   "language": "python",
   "name": "python3"
  },
  "language_info": {
   "codemirror_mode": {
    "name": "ipython",
    "version": 3
   },
   "file_extension": ".py",
   "mimetype": "text/x-python",
   "name": "python",
   "nbconvert_exporter": "python",
   "pygments_lexer": "ipython3",
   "version": "3.10.6"
  },
  "orig_nbformat": 4
 },
 "nbformat": 4,
 "nbformat_minor": 2
}

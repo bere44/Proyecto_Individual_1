{
 "cells": [
  {
   "cell_type": "markdown",
   "metadata": {},
   "source": [
    "def userdata( User_id : str ): \n",
    "Debe devolver cantidad de dinero gastado por el usuario, el porcentaje de recomendación en base a reviews.recommend y cantidad de items."
   ]
  },
  {
   "cell_type": "code",
   "execution_count": 1,
   "metadata": {},
   "outputs": [],
   "source": [
    "#importar las librerias\n",
    "import pandas as pd\n",
    "import numpy as np"
   ]
  },
  {
   "cell_type": "code",
   "execution_count": 11,
   "metadata": {},
   "outputs": [
    {
     "data": {
      "text/html": [
       "<div>\n",
       "<style scoped>\n",
       "    .dataframe tbody tr th:only-of-type {\n",
       "        vertical-align: middle;\n",
       "    }\n",
       "\n",
       "    .dataframe tbody tr th {\n",
       "        vertical-align: top;\n",
       "    }\n",
       "\n",
       "    .dataframe thead th {\n",
       "        text-align: right;\n",
       "    }\n",
       "</style>\n",
       "<table border=\"1\" class=\"dataframe\">\n",
       "  <thead>\n",
       "    <tr style=\"text-align: right;\">\n",
       "      <th></th>\n",
       "      <th>price</th>\n",
       "      <th>id</th>\n",
       "    </tr>\n",
       "  </thead>\n",
       "  <tbody>\n",
       "    <tr>\n",
       "      <th>0</th>\n",
       "      <td>4.99</td>\n",
       "      <td>761140.0</td>\n",
       "    </tr>\n",
       "    <tr>\n",
       "      <th>1</th>\n",
       "      <td>Free To Play</td>\n",
       "      <td>643980.0</td>\n",
       "    </tr>\n",
       "    <tr>\n",
       "      <th>2</th>\n",
       "      <td>Free to Play</td>\n",
       "      <td>670290.0</td>\n",
       "    </tr>\n",
       "    <tr>\n",
       "      <th>3</th>\n",
       "      <td>0.99</td>\n",
       "      <td>767400.0</td>\n",
       "    </tr>\n",
       "    <tr>\n",
       "      <th>4</th>\n",
       "      <td>2.99</td>\n",
       "      <td>773570.0</td>\n",
       "    </tr>\n",
       "  </tbody>\n",
       "</table>\n",
       "</div>"
      ],
      "text/plain": [
       "          price        id\n",
       "0          4.99  761140.0\n",
       "1  Free To Play  643980.0\n",
       "2  Free to Play  670290.0\n",
       "3          0.99  767400.0\n",
       "4          2.99  773570.0"
      ]
     },
     "execution_count": 11,
     "metadata": {},
     "output_type": "execute_result"
    }
   ],
   "source": [
    "# Leer dataframe de videjuegos solo con las columnas que se necesitan\n",
    "columns = ['id', 'price']\n",
    "df_precios = pd.read_csv(\"steam_games.csv\", usecols=columns)\n",
    "df_precios.head()"
   ]
  },
  {
   "cell_type": "code",
   "execution_count": 12,
   "metadata": {},
   "outputs": [
    {
     "name": "stdout",
     "output_type": "stream",
     "text": [
      "<class 'pandas.core.frame.DataFrame'>\n",
      "RangeIndex: 32135 entries, 0 to 32134\n",
      "Data columns (total 2 columns):\n",
      " #   Column  Non-Null Count  Dtype  \n",
      "---  ------  --------------  -----  \n",
      " 0   price   30758 non-null  object \n",
      " 1   id      32133 non-null  float64\n",
      "dtypes: float64(1), object(1)\n",
      "memory usage: 502.2+ KB\n"
     ]
    }
   ],
   "source": [
    "# Verificar que los datatypes estén bien y no haya nulos\n",
    "df_precios.info()"
   ]
  },
  {
   "cell_type": "code",
   "execution_count": 13,
   "metadata": {},
   "outputs": [],
   "source": [
    "# Función para corregir el precio, en el que aparecen valores numéricos y en formato string\n",
    "def fix_price(df):\n",
    "\n",
    "    errors_list = []\n",
    "    for i in df['price']:\n",
    "        try:\n",
    "            float(i)\n",
    "        except:\n",
    "            errors_list.append(i)\n",
    "\n",
    "    errors = set(errors_list)\n",
    "    #uniques_not_free = ['Starting at $499.00', 'Starting at $449.00']\n",
    "    df['price_fixed'] = df['price'].apply(lambda x: 0 if x in errors \n",
    "                                                        else 499.0 if x=='Starting at $499.00'\n",
    "                                                        else 449.0 if x=='Starting at $449.00'\n",
    "                                                        else x)\n",
    "    df['price_fixed'] = df['price_fixed'].astype(float)\n",
    "    return df"
   ]
  },
  {
   "cell_type": "code",
   "execution_count": 14,
   "metadata": {},
   "outputs": [
    {
     "data": {
      "text/html": [
       "<div>\n",
       "<style scoped>\n",
       "    .dataframe tbody tr th:only-of-type {\n",
       "        vertical-align: middle;\n",
       "    }\n",
       "\n",
       "    .dataframe tbody tr th {\n",
       "        vertical-align: top;\n",
       "    }\n",
       "\n",
       "    .dataframe thead th {\n",
       "        text-align: right;\n",
       "    }\n",
       "</style>\n",
       "<table border=\"1\" class=\"dataframe\">\n",
       "  <thead>\n",
       "    <tr style=\"text-align: right;\">\n",
       "      <th></th>\n",
       "      <th>item_id</th>\n",
       "      <th>price_fixed</th>\n",
       "    </tr>\n",
       "  </thead>\n",
       "  <tbody>\n",
       "    <tr>\n",
       "      <th>0</th>\n",
       "      <td>761140.0</td>\n",
       "      <td>4.99</td>\n",
       "    </tr>\n",
       "    <tr>\n",
       "      <th>1</th>\n",
       "      <td>643980.0</td>\n",
       "      <td>0.00</td>\n",
       "    </tr>\n",
       "    <tr>\n",
       "      <th>2</th>\n",
       "      <td>670290.0</td>\n",
       "      <td>0.00</td>\n",
       "    </tr>\n",
       "    <tr>\n",
       "      <th>3</th>\n",
       "      <td>767400.0</td>\n",
       "      <td>0.99</td>\n",
       "    </tr>\n",
       "    <tr>\n",
       "      <th>4</th>\n",
       "      <td>773570.0</td>\n",
       "      <td>2.99</td>\n",
       "    </tr>\n",
       "  </tbody>\n",
       "</table>\n",
       "</div>"
      ],
      "text/plain": [
       "    item_id  price_fixed\n",
       "0  761140.0         4.99\n",
       "1  643980.0         0.00\n",
       "2  670290.0         0.00\n",
       "3  767400.0         0.99\n",
       "4  773570.0         2.99"
      ]
     },
     "execution_count": 14,
     "metadata": {},
     "output_type": "execute_result"
    }
   ],
   "source": [
    "# Aplicar la función al dataframe\n",
    "df_precios = fix_price(df_precios)\n",
    "# Renombrar la columna de id \n",
    "df_precios.rename(columns={'id':'item_id'},inplace=True)\n",
    "# Eliminar la antigua columna de precio\n",
    "df_precios.drop(columns='price', inplace=True)\n",
    "df_precios.head()"
   ]
  },
  {
   "cell_type": "code",
   "execution_count": 15,
   "metadata": {},
   "outputs": [
    {
     "data": {
      "text/plain": [
       "item_id           2\n",
       "price_fixed    1377\n",
       "dtype: int64"
      ]
     },
     "execution_count": 15,
     "metadata": {},
     "output_type": "execute_result"
    }
   ],
   "source": [
    "# Verificar nulos\n",
    "df_precios.isna().sum()"
   ]
  },
  {
   "cell_type": "code",
   "execution_count": 16,
   "metadata": {},
   "outputs": [],
   "source": [
    "# Reemplazar nulos en el precio con 0\n",
    "df_precios.fillna(0, inplace=True)"
   ]
  },
  {
   "cell_type": "code",
   "execution_count": 55,
   "metadata": {},
   "outputs": [],
   "source": [
    "# Leer el daraframe de user items solo con las columnas que se necesitan\n",
    "columns = ['steam_id', 'item_id', 'items_count']\n",
    "user_items = pd.read_csv(\"game_items.csv\", usecols=columns)\n",
    "user_items.head()\n",
    "user_items.rename(columns={\"steam_id\":\"user_id\"},inplace=True)\n",
    "user_items[\"user_id\"]=user_items[\"user_id\"].astype(str)"
   ]
  },
  {
   "cell_type": "code",
   "execution_count": 36,
   "metadata": {},
   "outputs": [
    {
     "data": {
      "text/html": [
       "<div>\n",
       "<style scoped>\n",
       "    .dataframe tbody tr th:only-of-type {\n",
       "        vertical-align: middle;\n",
       "    }\n",
       "\n",
       "    .dataframe tbody tr th {\n",
       "        vertical-align: top;\n",
       "    }\n",
       "\n",
       "    .dataframe thead th {\n",
       "        text-align: right;\n",
       "    }\n",
       "</style>\n",
       "<table border=\"1\" class=\"dataframe\">\n",
       "  <thead>\n",
       "    <tr style=\"text-align: right;\">\n",
       "      <th></th>\n",
       "      <th>user_id</th>\n",
       "      <th>items_count</th>\n",
       "      <th>item_id</th>\n",
       "      <th>price_fixed</th>\n",
       "    </tr>\n",
       "  </thead>\n",
       "  <tbody>\n",
       "    <tr>\n",
       "      <th>5027403</th>\n",
       "      <td>76561198091773972</td>\n",
       "      <td>26</td>\n",
       "      <td>219540</td>\n",
       "      <td>NaN</td>\n",
       "    </tr>\n",
       "    <tr>\n",
       "      <th>996483</th>\n",
       "      <td>76561197993302844</td>\n",
       "      <td>119</td>\n",
       "      <td>18500</td>\n",
       "      <td>9.99</td>\n",
       "    </tr>\n",
       "    <tr>\n",
       "      <th>2033537</th>\n",
       "      <td>76561197987617385</td>\n",
       "      <td>171</td>\n",
       "      <td>57690</td>\n",
       "      <td>14.99</td>\n",
       "    </tr>\n",
       "    <tr>\n",
       "      <th>4413287</th>\n",
       "      <td>76561198049036232</td>\n",
       "      <td>66</td>\n",
       "      <td>8190</td>\n",
       "      <td>14.99</td>\n",
       "    </tr>\n",
       "    <tr>\n",
       "      <th>1860963</th>\n",
       "      <td>76561198215611220</td>\n",
       "      <td>102</td>\n",
       "      <td>291480</td>\n",
       "      <td>0.00</td>\n",
       "    </tr>\n",
       "    <tr>\n",
       "      <th>2570157</th>\n",
       "      <td>76561197992708849</td>\n",
       "      <td>143</td>\n",
       "      <td>8930</td>\n",
       "      <td>29.99</td>\n",
       "    </tr>\n",
       "    <tr>\n",
       "      <th>3662848</th>\n",
       "      <td>76561198005580769</td>\n",
       "      <td>117</td>\n",
       "      <td>40100</td>\n",
       "      <td>12.99</td>\n",
       "    </tr>\n",
       "    <tr>\n",
       "      <th>4071280</th>\n",
       "      <td>76561198019022742</td>\n",
       "      <td>898</td>\n",
       "      <td>328990</td>\n",
       "      <td>2.99</td>\n",
       "    </tr>\n",
       "    <tr>\n",
       "      <th>5113390</th>\n",
       "      <td>76561198118198379</td>\n",
       "      <td>76</td>\n",
       "      <td>21090</td>\n",
       "      <td>54.99</td>\n",
       "    </tr>\n",
       "    <tr>\n",
       "      <th>3966200</th>\n",
       "      <td>76561197999596498</td>\n",
       "      <td>60</td>\n",
       "      <td>32430</td>\n",
       "      <td>19.99</td>\n",
       "    </tr>\n",
       "  </tbody>\n",
       "</table>\n",
       "</div>"
      ],
      "text/plain": [
       "                   user_id  items_count  item_id  price_fixed\n",
       "5027403  76561198091773972           26   219540          NaN\n",
       "996483   76561197993302844          119    18500         9.99\n",
       "2033537  76561197987617385          171    57690        14.99\n",
       "4413287  76561198049036232           66     8190        14.99\n",
       "1860963  76561198215611220          102   291480         0.00\n",
       "2570157  76561197992708849          143     8930        29.99\n",
       "3662848  76561198005580769          117    40100        12.99\n",
       "4071280  76561198019022742          898   328990         2.99\n",
       "5113390  76561198118198379           76    21090        54.99\n",
       "3966200  76561197999596498           60    32430        19.99"
      ]
     },
     "execution_count": 36,
     "metadata": {},
     "output_type": "execute_result"
    }
   ],
   "source": [
    "# Hacer un merge (left join) de ambos dataframes on item_id\n",
    "df_merged = user_items.merge(df_precios, on='item_id', how='left')\n",
    "df_merged.sample(10)"
   ]
  },
  {
   "cell_type": "code",
   "execution_count": 49,
   "metadata": {},
   "outputs": [],
   "source": [
    "# Group by usuario para obtener el total de dinero gastado en videojuegos\n",
    "user_spent = df_merged.groupby('user_id')['price_fixed'].agg('sum')\n",
    "user_spent = pd.DataFrame(user_spent)\n",
    "user_spent.reset_index(inplace=True)\n",
    "user_spent[\"user_id\"]=user_spent[\"user_id\"].astype(str)"
   ]
  },
  {
   "cell_type": "code",
   "execution_count": 50,
   "metadata": {},
   "outputs": [
    {
     "name": "stdout",
     "output_type": "stream",
     "text": [
      "<class 'pandas.core.frame.DataFrame'>\n",
      "RangeIndex: 70912 entries, 0 to 70911\n",
      "Data columns (total 2 columns):\n",
      " #   Column       Non-Null Count  Dtype  \n",
      "---  ------       --------------  -----  \n",
      " 0   user_id      70912 non-null  object \n",
      " 1   price_fixed  70912 non-null  float64\n",
      "dtypes: float64(1), object(1)\n",
      "memory usage: 1.1+ MB\n"
     ]
    }
   ],
   "source": [
    "user_spent.info()"
   ]
  },
  {
   "cell_type": "code",
   "execution_count": 39,
   "metadata": {},
   "outputs": [
    {
     "data": {
      "text/html": [
       "<div>\n",
       "<style scoped>\n",
       "    .dataframe tbody tr th:only-of-type {\n",
       "        vertical-align: middle;\n",
       "    }\n",
       "\n",
       "    .dataframe tbody tr th {\n",
       "        vertical-align: top;\n",
       "    }\n",
       "\n",
       "    .dataframe thead th {\n",
       "        text-align: right;\n",
       "    }\n",
       "</style>\n",
       "<table border=\"1\" class=\"dataframe\">\n",
       "  <thead>\n",
       "    <tr style=\"text-align: right;\">\n",
       "      <th></th>\n",
       "      <th>user_id</th>\n",
       "      <th>recommend</th>\n",
       "    </tr>\n",
       "  </thead>\n",
       "  <tbody>\n",
       "    <tr>\n",
       "      <th>24729</th>\n",
       "      <td>nytewolfaa2k7</td>\n",
       "      <td>False</td>\n",
       "    </tr>\n",
       "    <tr>\n",
       "      <th>41480</th>\n",
       "      <td>76561198050680379</td>\n",
       "      <td>True</td>\n",
       "    </tr>\n",
       "    <tr>\n",
       "      <th>54863</th>\n",
       "      <td>76561198082945647</td>\n",
       "      <td>True</td>\n",
       "    </tr>\n",
       "    <tr>\n",
       "      <th>8404</th>\n",
       "      <td>aket87</td>\n",
       "      <td>True</td>\n",
       "    </tr>\n",
       "    <tr>\n",
       "      <th>34802</th>\n",
       "      <td>76561198081265170</td>\n",
       "      <td>True</td>\n",
       "    </tr>\n",
       "  </tbody>\n",
       "</table>\n",
       "</div>"
      ],
      "text/plain": [
       "                 user_id recommend\n",
       "24729      nytewolfaa2k7     False\n",
       "41480  76561198050680379      True\n",
       "54863  76561198082945647      True\n",
       "8404              aket87      True\n",
       "34802  76561198081265170      True"
      ]
     },
     "execution_count": 39,
     "metadata": {},
     "output_type": "execute_result"
    }
   ],
   "source": [
    "# Leer dataframe de reviews solo con las columnas que se necesitan\n",
    "columns = ['user_id', 'recommend']\n",
    "user_revs = pd.read_csv('game_reviews.csv', usecols=columns)\n",
    "user_revs.sample(5)"
   ]
  },
  {
   "cell_type": "code",
   "execution_count": 40,
   "metadata": {},
   "outputs": [
    {
     "data": {
      "text/html": [
       "<div>\n",
       "<style scoped>\n",
       "    .dataframe tbody tr th:only-of-type {\n",
       "        vertical-align: middle;\n",
       "    }\n",
       "\n",
       "    .dataframe tbody tr th {\n",
       "        vertical-align: top;\n",
       "    }\n",
       "\n",
       "    .dataframe thead th {\n",
       "        text-align: right;\n",
       "    }\n",
       "</style>\n",
       "<table border=\"1\" class=\"dataframe\">\n",
       "  <thead>\n",
       "    <tr style=\"text-align: right;\">\n",
       "      <th></th>\n",
       "      <th>user_id</th>\n",
       "      <th>count_total</th>\n",
       "      <th>count_true</th>\n",
       "      <th>reco_porcentaje</th>\n",
       "    </tr>\n",
       "  </thead>\n",
       "  <tbody>\n",
       "    <tr>\n",
       "      <th>10996</th>\n",
       "      <td>76561198104824869</td>\n",
       "      <td>3</td>\n",
       "      <td>3.0</td>\n",
       "      <td>100.0</td>\n",
       "    </tr>\n",
       "    <tr>\n",
       "      <th>6365</th>\n",
       "      <td>76561198068939671</td>\n",
       "      <td>1</td>\n",
       "      <td>1.0</td>\n",
       "      <td>100.0</td>\n",
       "    </tr>\n",
       "    <tr>\n",
       "      <th>7848</th>\n",
       "      <td>76561198077596124</td>\n",
       "      <td>10</td>\n",
       "      <td>5.0</td>\n",
       "      <td>50.0</td>\n",
       "    </tr>\n",
       "    <tr>\n",
       "      <th>24968</th>\n",
       "      <td>viggie12</td>\n",
       "      <td>1</td>\n",
       "      <td>1.0</td>\n",
       "      <td>100.0</td>\n",
       "    </tr>\n",
       "    <tr>\n",
       "      <th>20751</th>\n",
       "      <td>heetesh</td>\n",
       "      <td>3</td>\n",
       "      <td>3.0</td>\n",
       "      <td>100.0</td>\n",
       "    </tr>\n",
       "  </tbody>\n",
       "</table>\n",
       "</div>"
      ],
      "text/plain": [
       "                 user_id  count_total  count_true  reco_porcentaje\n",
       "10996  76561198104824869            3         3.0            100.0\n",
       "6365   76561198068939671            1         1.0            100.0\n",
       "7848   76561198077596124           10         5.0             50.0\n",
       "24968           viggie12            1         1.0            100.0\n",
       "20751            heetesh            3         3.0            100.0"
      ]
     },
     "execution_count": 40,
     "metadata": {},
     "output_type": "execute_result"
    }
   ],
   "source": [
    "# Calcular el porcentaje de recomendación para cada usuario\n",
    "# Crear un df vacío\n",
    "user_gb_count_revs = pd.DataFrame()\n",
    "# Agrupar por user_id y agregar por conteo de recommend para obtener el total de reviews\n",
    "user_gb_count_revs['count_total'] = user_revs.groupby('user_id')['recommend'].agg('count')\n",
    "# Contar solo los recommend = True por usuario\n",
    "user_gb_count_revs['count_true'] = user_revs[user_revs['recommend'] == True].groupby('user_id')['recommend'].agg(count_revs='count')\n",
    "user_gb_count_revs.reset_index(inplace=True)\n",
    "# Calcular la proporción de True entre el total\n",
    "user_gb_count_revs['reco_porcentaje'] = user_gb_count_revs['count_true'] / user_gb_count_revs['count_total'] * 100\n",
    "user_gb_count_revs.fillna(0,inplace=True)\n",
    "user_gb_count_revs.sample(5)"
   ]
  },
  {
   "cell_type": "code",
   "execution_count": 42,
   "metadata": {},
   "outputs": [
    {
     "name": "stdout",
     "output_type": "stream",
     "text": [
      "<class 'pandas.core.frame.DataFrame'>\n",
      "RangeIndex: 25485 entries, 0 to 25484\n",
      "Data columns (total 4 columns):\n",
      " #   Column           Non-Null Count  Dtype  \n",
      "---  ------           --------------  -----  \n",
      " 0   user_id          25485 non-null  object \n",
      " 1   count_total      25485 non-null  int64  \n",
      " 2   count_true       25485 non-null  float64\n",
      " 3   reco_porcentaje  25485 non-null  float64\n",
      "dtypes: float64(2), int64(1), object(1)\n",
      "memory usage: 796.5+ KB\n"
     ]
    }
   ],
   "source": [
    "user_gb_count_revs.info()"
   ]
  },
  {
   "cell_type": "code",
   "execution_count": 51,
   "metadata": {},
   "outputs": [
    {
     "data": {
      "text/html": [
       "<div>\n",
       "<style scoped>\n",
       "    .dataframe tbody tr th:only-of-type {\n",
       "        vertical-align: middle;\n",
       "    }\n",
       "\n",
       "    .dataframe tbody tr th {\n",
       "        vertical-align: top;\n",
       "    }\n",
       "\n",
       "    .dataframe thead th {\n",
       "        text-align: right;\n",
       "    }\n",
       "</style>\n",
       "<table border=\"1\" class=\"dataframe\">\n",
       "  <thead>\n",
       "    <tr style=\"text-align: right;\">\n",
       "      <th></th>\n",
       "      <th>user_id</th>\n",
       "      <th>count_total</th>\n",
       "      <th>count_true</th>\n",
       "      <th>reco_porcentaje</th>\n",
       "      <th>total_spent</th>\n",
       "    </tr>\n",
       "  </thead>\n",
       "  <tbody>\n",
       "    <tr>\n",
       "      <th>15173</th>\n",
       "      <td>LucidKing</td>\n",
       "      <td>3</td>\n",
       "      <td>2.0</td>\n",
       "      <td>66.666667</td>\n",
       "      <td>NaN</td>\n",
       "    </tr>\n",
       "    <tr>\n",
       "      <th>11400</th>\n",
       "      <td>76561198124366634</td>\n",
       "      <td>1</td>\n",
       "      <td>1.0</td>\n",
       "      <td>100.000000</td>\n",
       "      <td>346.72</td>\n",
       "    </tr>\n",
       "    <tr>\n",
       "      <th>9412</th>\n",
       "      <td>76561198087992251</td>\n",
       "      <td>1</td>\n",
       "      <td>1.0</td>\n",
       "      <td>100.000000</td>\n",
       "      <td>534.50</td>\n",
       "    </tr>\n",
       "    <tr>\n",
       "      <th>9653</th>\n",
       "      <td>76561198089820105</td>\n",
       "      <td>1</td>\n",
       "      <td>1.0</td>\n",
       "      <td>100.000000</td>\n",
       "      <td>1303.73</td>\n",
       "    </tr>\n",
       "    <tr>\n",
       "      <th>14683</th>\n",
       "      <td>Jupacka</td>\n",
       "      <td>1</td>\n",
       "      <td>1.0</td>\n",
       "      <td>100.000000</td>\n",
       "      <td>NaN</td>\n",
       "    </tr>\n",
       "    <tr>\n",
       "      <th>13878</th>\n",
       "      <td>GAycuntt</td>\n",
       "      <td>1</td>\n",
       "      <td>1.0</td>\n",
       "      <td>100.000000</td>\n",
       "      <td>NaN</td>\n",
       "    </tr>\n",
       "    <tr>\n",
       "      <th>17357</th>\n",
       "      <td>TheJaguar8</td>\n",
       "      <td>1</td>\n",
       "      <td>1.0</td>\n",
       "      <td>100.000000</td>\n",
       "      <td>NaN</td>\n",
       "    </tr>\n",
       "    <tr>\n",
       "      <th>22234</th>\n",
       "      <td>maxyrogers</td>\n",
       "      <td>1</td>\n",
       "      <td>1.0</td>\n",
       "      <td>100.000000</td>\n",
       "      <td>NaN</td>\n",
       "    </tr>\n",
       "    <tr>\n",
       "      <th>3996</th>\n",
       "      <td>76561198053439793</td>\n",
       "      <td>1</td>\n",
       "      <td>1.0</td>\n",
       "      <td>100.000000</td>\n",
       "      <td>NaN</td>\n",
       "    </tr>\n",
       "    <tr>\n",
       "      <th>9167</th>\n",
       "      <td>76561198086028360</td>\n",
       "      <td>1</td>\n",
       "      <td>1.0</td>\n",
       "      <td>100.000000</td>\n",
       "      <td>74.95</td>\n",
       "    </tr>\n",
       "  </tbody>\n",
       "</table>\n",
       "</div>"
      ],
      "text/plain": [
       "                 user_id  count_total  count_true  reco_porcentaje  \\\n",
       "15173          LucidKing            3         2.0        66.666667   \n",
       "11400  76561198124366634            1         1.0       100.000000   \n",
       "9412   76561198087992251            1         1.0       100.000000   \n",
       "9653   76561198089820105            1         1.0       100.000000   \n",
       "14683            Jupacka            1         1.0       100.000000   \n",
       "13878           GAycuntt            1         1.0       100.000000   \n",
       "17357         TheJaguar8            1         1.0       100.000000   \n",
       "22234         maxyrogers            1         1.0       100.000000   \n",
       "3996   76561198053439793            1         1.0       100.000000   \n",
       "9167   76561198086028360            1         1.0       100.000000   \n",
       "\n",
       "       total_spent  \n",
       "15173          NaN  \n",
       "11400       346.72  \n",
       "9412        534.50  \n",
       "9653       1303.73  \n",
       "14683          NaN  \n",
       "13878          NaN  \n",
       "17357          NaN  \n",
       "22234          NaN  \n",
       "3996           NaN  \n",
       "9167         74.95  "
      ]
     },
     "execution_count": 51,
     "metadata": {},
     "output_type": "execute_result"
    }
   ],
   "source": [
    "# Hacer un merge (left join) de los df de reviews y user_spent anteriormente creados\n",
    "df_merge2 = user_gb_count_revs.merge(user_spent, on='user_id',how='left' )\n",
    "df_merge2.rename(columns={'price_fixed':'total_spent'},inplace=True)\n",
    "df_merge2.sample(10)"
   ]
  },
  {
   "cell_type": "code",
   "execution_count": 57,
   "metadata": {},
   "outputs": [],
   "source": [
    "# # Se realiza otro merge con la tabla de user_items para obtener el total de items por usuario\n",
    "df_merge3 = df_merge2.merge(user_items[['user_id','items_count']].drop_duplicates(),on='user_id',how='left')\n",
    "# Se eliminan columnas innecesarias\n",
    "df_merge3 = df_merge3.drop(['count_total','count_true'],axis=1)\n",
    "# Renombrar columnas\n",
    "df_merge3.rename(columns={\n",
    "    'reco_porcentaje':'porcentaje_recomendacion', 'total_spent':'cantidad_gastada', 'items_count':'cantidad_items'},inplace=True)"
   ]
  },
  {
   "cell_type": "code",
   "execution_count": 59,
   "metadata": {},
   "outputs": [],
   "source": [
    "# Guardar el dataframe final como csv para consumir en la API\n",
    "df_merge3.to_csv('df-funcion-1-1.csv',index=False)"
   ]
  },
  {
   "cell_type": "code",
   "execution_count": null,
   "metadata": {},
   "outputs": [],
   "source": [
    "# Función de la consulta para obtener el dinero total gastado, cantidad de items \n",
    "# y porcentaje de recomendación por usuario\n",
    "def userdata(user_id : str):\n",
    "    df_user = pd.read_csv('df-funcion-1-1.csv')\n",
    "    user_data = df_user[df_user['user_id'] == user_id]\n",
    "    \n",
    "    return user_data.to_json(orient='records')"
   ]
  },
  {
   "cell_type": "code",
   "execution_count": null,
   "metadata": {},
   "outputs": [],
   "source": []
  },
  {
   "cell_type": "code",
   "execution_count": 64,
   "metadata": {},
   "outputs": [],
   "source": [
    "#usar solo lo que se necesita del game items\n",
    "df1 = pd.read_csv(\"game_items.csv\",usecols=[\"steam_id\",\"items_count\"])"
   ]
  },
  {
   "cell_type": "code",
   "execution_count": 65,
   "metadata": {},
   "outputs": [],
   "source": [
    "#elimianr los duplicados\n",
    "df1=df1.drop_duplicates(keep='first')\n",
    "#convertir la columna steamid a string\n",
    "df1[\"steam_id\"]=df1[\"steam_id\"].astype(str)"
   ]
  },
  {
   "cell_type": "code",
   "execution_count": 66,
   "metadata": {},
   "outputs": [
    {
     "name": "stdout",
     "output_type": "stream",
     "text": [
      "<class 'pandas.core.frame.DataFrame'>\n",
      "Index: 70912 entries, 0 to 5153202\n",
      "Data columns (total 2 columns):\n",
      " #   Column       Non-Null Count  Dtype \n",
      "---  ------       --------------  ----- \n",
      " 0   steam_id     70912 non-null  object\n",
      " 1   items_count  70912 non-null  int64 \n",
      "dtypes: int64(1), object(1)\n",
      "memory usage: 1.6+ MB\n"
     ]
    }
   ],
   "source": [
    "df1.info()"
   ]
  },
  {
   "cell_type": "code",
   "execution_count": 67,
   "metadata": {},
   "outputs": [],
   "source": [
    "#volverlo un archivo\n",
    "df1.to_csv(\"funcion1-2.csv\")"
   ]
  },
  {
   "cell_type": "code",
   "execution_count": 68,
   "metadata": {},
   "outputs": [],
   "source": [
    "#funcion pára hacer una lista de strings\n",
    "list_string=[]\n",
    "for i in df_precios[\"price\"]:\n",
    "    try:\n",
    "        float(i)\n",
    "    except:\n",
    "        list_string.append(i)\n",
    "       \n",
    "list_string=set(list_string)\n"
   ]
  },
  {
   "cell_type": "code",
   "execution_count": 69,
   "metadata": {},
   "outputs": [],
   "source": [
    "#convertir los string en lista\n",
    "list_string=list(list_string)"
   ]
  },
  {
   "cell_type": "code",
   "execution_count": 70,
   "metadata": {},
   "outputs": [
    {
     "data": {
      "text/plain": [
       "['Free',\n",
       " 'Starting at $499.00',\n",
       " 'Install Theme',\n",
       " 'Starting at $449.00',\n",
       " 'Free to Play',\n",
       " 'Third-party',\n",
       " 'Free To Play',\n",
       " 'Free to Try',\n",
       " 'Install Now',\n",
       " 'Free to Use',\n",
       " 'Play WARMACHINE: Tactics Demo',\n",
       " 'Free HITMAN™ Holiday Pack',\n",
       " 'Free Demo',\n",
       " 'Free Movie',\n",
       " 'Play Now',\n",
       " 'Free Mod',\n",
       " 'Play for Free!',\n",
       " 'Play the Demo']"
      ]
     },
     "execution_count": 70,
     "metadata": {},
     "output_type": "execute_result"
    }
   ],
   "source": [
    "list_string"
   ]
  },
  {
   "cell_type": "code",
   "execution_count": 71,
   "metadata": {},
   "outputs": [],
   "source": [
    "#asignar los valores a los precios que inicialmente son string\n",
    "df_precios['price'] = df_precios['price'].apply(lambda x: 0 if x in list_string\n",
    "                                                        else 499.0 if x=='Starting at $499.00'\n",
    "                                                        else 449.0 if x=='Starting at $449.00'\n",
    "                                                        else x)\n"
   ]
  },
  {
   "cell_type": "code",
   "execution_count": 72,
   "metadata": {},
   "outputs": [
    {
     "name": "stdout",
     "output_type": "stream",
     "text": [
      "<class 'pandas.core.frame.DataFrame'>\n",
      "RangeIndex: 32135 entries, 0 to 32134\n",
      "Data columns (total 2 columns):\n",
      " #   Column  Non-Null Count  Dtype  \n",
      "---  ------  --------------  -----  \n",
      " 0   price   30758 non-null  object \n",
      " 1   id      32133 non-null  float64\n",
      "dtypes: float64(1), object(1)\n",
      "memory usage: 502.2+ KB\n"
     ]
    }
   ],
   "source": [
    "df_precios.info()"
   ]
  },
  {
   "cell_type": "code",
   "execution_count": 73,
   "metadata": {},
   "outputs": [],
   "source": [
    "#convertir los precios a float\n",
    "df_precios[\"price\"]=df_precios[\"price\"].astype(float)"
   ]
  },
  {
   "cell_type": "code",
   "execution_count": 74,
   "metadata": {},
   "outputs": [],
   "source": [
    "#llenar los nan\n",
    "df_precios[\"price\"].fillna(df_precios['price'].median(), inplace=True)\n",
    "df_precios[\"id\"].fillna(method=\"ffill\",inplace=True)"
   ]
  },
  {
   "cell_type": "code",
   "execution_count": 75,
   "metadata": {},
   "outputs": [
    {
     "data": {
      "text/plain": [
       "price    0\n",
       "id       0\n",
       "dtype: int64"
      ]
     },
     "execution_count": 75,
     "metadata": {},
     "output_type": "execute_result"
    }
   ],
   "source": [
    "#ver si hay nulos aun\n",
    "df_precios.isna().sum()"
   ]
  },
  {
   "cell_type": "code",
   "execution_count": 76,
   "metadata": {},
   "outputs": [],
   "source": [
    "#cambiar el nombre de la columna\n",
    "df_precios.rename(columns={\"id\":\"item_id\"}, inplace=True)\n",
    "\n",
    "#cambiar el tipo de la columna\n",
    "df_precios[\"item_id\"]=df_precios[\"item_id\"].astype(str)"
   ]
  },
  {
   "cell_type": "code",
   "execution_count": 78,
   "metadata": {},
   "outputs": [],
   "source": [
    "#cambiar el tipo de la columna\n",
    "df_recomendados[\"item_id\"]=df_recomendados[\"item_id\"].astype(str)"
   ]
  },
  {
   "cell_type": "code",
   "execution_count": 105,
   "metadata": {},
   "outputs": [],
   "source": [
    "#unir las tablas recomendados y precios\n",
    "df_merged=df_recomendados.merge(df_precios,on='item_id', how='left')"
   ]
  },
  {
   "cell_type": "code",
   "execution_count": 106,
   "metadata": {},
   "outputs": [],
   "source": [
    "#reemplzar los nulos con la media\n",
    "df_merged[\"price\"].fillna(df_merged['price'].median(), inplace=True)\n"
   ]
  },
  {
   "cell_type": "code",
   "execution_count": 107,
   "metadata": {},
   "outputs": [],
   "source": [
    "#construir las agrupaciones para las recomendaciones\n",
    "cuenta_total=df_merged.groupby(\"user_id\")[\"recommend\"].count()\n",
    "cuenta_true=df_merged[df_merged[\"recommend\"]==True].groupby(\"user_id\")[\"recommend\"].count()\n",
    "#convertirlo en dataframes\n",
    "cuenta_total=pd.DataFrame(cuenta_total)\n",
    "cuenta_true=pd.DataFrame(cuenta_true)\n",
    "#renombrar las columnas para que tengan otros conmbres las columnas\n",
    "cuenta_total.rename(columns={\"recommend\":\"total_recommed\"},inplace=True)\n",
    "cuenta_true.rename(columns={\"recommend\":\"total_True\"},inplace=True)\n",
    "#añadir un indice nuevo\n",
    "cuenta_total=cuenta_total.reset_index()\n",
    "cuenta_true=cuenta_true.reset_index()\n"
   ]
  },
  {
   "cell_type": "code",
   "execution_count": 108,
   "metadata": {},
   "outputs": [],
   "source": [
    "#crear tabla con los datos que se necesita\n",
    "df5=cuenta_total.merge(cuenta_true, on=\"user_id\", how='left')\n",
    "#sacar la columna que necesito\n",
    "df5[\"porcentaje\"]=round((df5[\"total_True\"]/df5[\"total_recommed\"])*100,2)"
   ]
  },
  {
   "cell_type": "code",
   "execution_count": 109,
   "metadata": {},
   "outputs": [],
   "source": [
    "df5.drop(columns=[\"total_recommed\",\"total_True\"],inplace=True)"
   ]
  },
  {
   "cell_type": "code",
   "execution_count": 143,
   "metadata": {},
   "outputs": [],
   "source": [
    "df5.to_csv(\"funcion1-3.csv\")"
   ]
  },
  {
   "cell_type": "code",
   "execution_count": 111,
   "metadata": {},
   "outputs": [],
   "source": [
    "df_merged.drop(columns=[\"item_id\",\"recommend\"], inplace=True)"
   ]
  },
  {
   "cell_type": "code",
   "execution_count": 117,
   "metadata": {},
   "outputs": [],
   "source": [
    "df_merged.to_csv(\"funcion1-3.csv\")"
   ]
  },
  {
   "cell_type": "code",
   "execution_count": 115,
   "metadata": {},
   "outputs": [],
   "source": [
    "#enviar el csv\n",
    "df_merged.to_csv(\"funcion1-1.csv\")"
   ]
  },
  {
   "cell_type": "code",
   "execution_count": 149,
   "metadata": {},
   "outputs": [],
   "source": [
    "#gasto por id\n",
    "gastoxid=df_merged[df_merged[\"user_id\"]==\"76561198075565282\"][\"price\"].agg(sum)"
   ]
  },
  {
   "cell_type": "code",
   "execution_count": 150,
   "metadata": {},
   "outputs": [
    {
     "data": {
      "text/plain": [
       "79.97"
      ]
     },
     "execution_count": 150,
     "metadata": {},
     "output_type": "execute_result"
    }
   ],
   "source": [
    "gastoxid"
   ]
  },
  {
   "cell_type": "code",
   "execution_count": 138,
   "metadata": {},
   "outputs": [],
   "source": [
    "#porcentaje de recomendacion\n",
    "recommend= df5[df5[\"user_id\"]==\"76561197970982479\"][\"porcentaje\"].values[0]"
   ]
  },
  {
   "cell_type": "code",
   "execution_count": 139,
   "metadata": {},
   "outputs": [
    {
     "data": {
      "text/plain": [
       "100.0"
      ]
     },
     "execution_count": 139,
     "metadata": {},
     "output_type": "execute_result"
    }
   ],
   "source": [
    "recommend"
   ]
  },
  {
   "cell_type": "code",
   "execution_count": 28,
   "metadata": {},
   "outputs": [],
   "source": [
    "#cantidad de items por usuario \n",
    "itemsxusuario=df1[df1[\"steam_id\"]==\"76561197970982479\"][\"items_count\"][0]"
   ]
  },
  {
   "cell_type": "code",
   "execution_count": 29,
   "metadata": {},
   "outputs": [
    {
     "data": {
      "text/plain": [
       "277"
      ]
     },
     "execution_count": 29,
     "metadata": {},
     "output_type": "execute_result"
    }
   ],
   "source": [
    "itemsxusuario"
   ]
  },
  {
   "cell_type": "code",
   "execution_count": 146,
   "metadata": {},
   "outputs": [
    {
     "data": {
      "text/html": [
       "<div>\n",
       "<style scoped>\n",
       "    .dataframe tbody tr th:only-of-type {\n",
       "        vertical-align: middle;\n",
       "    }\n",
       "\n",
       "    .dataframe tbody tr th {\n",
       "        vertical-align: top;\n",
       "    }\n",
       "\n",
       "    .dataframe thead th {\n",
       "        text-align: right;\n",
       "    }\n",
       "</style>\n",
       "<table border=\"1\" class=\"dataframe\">\n",
       "  <thead>\n",
       "    <tr style=\"text-align: right;\">\n",
       "      <th></th>\n",
       "      <th>user_id</th>\n",
       "      <th>price</th>\n",
       "    </tr>\n",
       "  </thead>\n",
       "  <tbody>\n",
       "    <tr>\n",
       "      <th>0</th>\n",
       "      <td>76561197970982479</td>\n",
       "      <td>19.99</td>\n",
       "    </tr>\n",
       "    <tr>\n",
       "      <th>1</th>\n",
       "      <td>76561197970982479</td>\n",
       "      <td>9.99</td>\n",
       "    </tr>\n",
       "    <tr>\n",
       "      <th>2</th>\n",
       "      <td>76561197970982479</td>\n",
       "      <td>9.99</td>\n",
       "    </tr>\n",
       "    <tr>\n",
       "      <th>3</th>\n",
       "      <td>js41637</td>\n",
       "      <td>9.99</td>\n",
       "    </tr>\n",
       "    <tr>\n",
       "      <th>4</th>\n",
       "      <td>js41637</td>\n",
       "      <td>19.99</td>\n",
       "    </tr>\n",
       "    <tr>\n",
       "      <th>...</th>\n",
       "      <td>...</td>\n",
       "      <td>...</td>\n",
       "    </tr>\n",
       "    <tr>\n",
       "      <th>59330</th>\n",
       "      <td>76561198312638244</td>\n",
       "      <td>9.99</td>\n",
       "    </tr>\n",
       "    <tr>\n",
       "      <th>59331</th>\n",
       "      <td>76561198312638244</td>\n",
       "      <td>19.99</td>\n",
       "    </tr>\n",
       "    <tr>\n",
       "      <th>59332</th>\n",
       "      <td>LydiaMorley</td>\n",
       "      <td>0.00</td>\n",
       "    </tr>\n",
       "    <tr>\n",
       "      <th>59333</th>\n",
       "      <td>LydiaMorley</td>\n",
       "      <td>14.99</td>\n",
       "    </tr>\n",
       "    <tr>\n",
       "      <th>59334</th>\n",
       "      <td>LydiaMorley</td>\n",
       "      <td>0.00</td>\n",
       "    </tr>\n",
       "  </tbody>\n",
       "</table>\n",
       "<p>59335 rows × 2 columns</p>\n",
       "</div>"
      ],
      "text/plain": [
       "                 user_id  price\n",
       "0      76561197970982479  19.99\n",
       "1      76561197970982479   9.99\n",
       "2      76561197970982479   9.99\n",
       "3                js41637   9.99\n",
       "4                js41637  19.99\n",
       "...                  ...    ...\n",
       "59330  76561198312638244   9.99\n",
       "59331  76561198312638244  19.99\n",
       "59332        LydiaMorley   0.00\n",
       "59333        LydiaMorley  14.99\n",
       "59334        LydiaMorley   0.00\n",
       "\n",
       "[59335 rows x 2 columns]"
      ]
     },
     "execution_count": 146,
     "metadata": {},
     "output_type": "execute_result"
    }
   ],
   "source": [
    "df_merged"
   ]
  },
  {
   "cell_type": "code",
   "execution_count": 151,
   "metadata": {},
   "outputs": [],
   "source": [
    "def userdata( User_id : str ): \n",
    "    \n",
    "    df2=pd.read_csv(\"funcion1-1.csv\")\n",
    "    df3=pd.read_csv(\"funcion1-2.csv\")\n",
    "    df4=pd.read_csv(\"funcion1-3.csv\")\n",
    "    #gasto por id\n",
    "    gastoxid=df2[df2[\"user_id\"]==User_id][\"price\"].agg(sum)\n",
    "    #%de recomendaciones\n",
    "    recommend= df4[df4[\"user_id\"]==\"76561197970982479\"][\"porcentaje\"].values[0]\n",
    "   \n",
    "    #cantidad de items por usuario \n",
    "    itemsxusuario= df3[df3[\"steam_id\"]==User_id][\"items_count\"][0]\n",
    " \n",
    "    resultado={\"el gasto por el usuario\":gastoxid, \"el procentaje de recomendacion es\" :recommend, \"el numero de items por usuario \":itemsxusuario}\n",
    "\n",
    "    return resultado"
   ]
  },
  {
   "cell_type": "code",
   "execution_count": 152,
   "metadata": {},
   "outputs": [
    {
     "ename": "KeyError",
     "evalue": "0",
     "output_type": "error",
     "traceback": [
      "\u001b[1;31m---------------------------------------------------------------------------\u001b[0m",
      "\u001b[1;31mKeyError\u001b[0m                                  Traceback (most recent call last)",
      "File \u001b[1;32mc:\\Users\\beren\\AppData\\Local\\Programs\\Python\\Python310\\lib\\site-packages\\pandas\\core\\indexes\\base.py:3652\u001b[0m, in \u001b[0;36mIndex.get_loc\u001b[1;34m(self, key)\u001b[0m\n\u001b[0;32m   3651\u001b[0m \u001b[39mtry\u001b[39;00m:\n\u001b[1;32m-> 3652\u001b[0m     \u001b[39mreturn\u001b[39;00m \u001b[39mself\u001b[39;49m\u001b[39m.\u001b[39;49m_engine\u001b[39m.\u001b[39;49mget_loc(casted_key)\n\u001b[0;32m   3653\u001b[0m \u001b[39mexcept\u001b[39;00m \u001b[39mKeyError\u001b[39;00m \u001b[39mas\u001b[39;00m err:\n",
      "File \u001b[1;32mc:\\Users\\beren\\AppData\\Local\\Programs\\Python\\Python310\\lib\\site-packages\\pandas\\_libs\\index.pyx:147\u001b[0m, in \u001b[0;36mpandas._libs.index.IndexEngine.get_loc\u001b[1;34m()\u001b[0m\n",
      "File \u001b[1;32mc:\\Users\\beren\\AppData\\Local\\Programs\\Python\\Python310\\lib\\site-packages\\pandas\\_libs\\index.pyx:176\u001b[0m, in \u001b[0;36mpandas._libs.index.IndexEngine.get_loc\u001b[1;34m()\u001b[0m\n",
      "File \u001b[1;32mpandas\\_libs\\hashtable_class_helper.pxi:2606\u001b[0m, in \u001b[0;36mpandas._libs.hashtable.Int64HashTable.get_item\u001b[1;34m()\u001b[0m\n",
      "File \u001b[1;32mpandas\\_libs\\hashtable_class_helper.pxi:2630\u001b[0m, in \u001b[0;36mpandas._libs.hashtable.Int64HashTable.get_item\u001b[1;34m()\u001b[0m\n",
      "\u001b[1;31mKeyError\u001b[0m: 0",
      "\nThe above exception was the direct cause of the following exception:\n",
      "\u001b[1;31mKeyError\u001b[0m                                  Traceback (most recent call last)",
      "\u001b[1;32md:\\berenisse\\Cursos importantes\\HENRY\\Proyectos individuales\\Proyecto_Individual_1\\3.Funciones.ipynb Cell 35\u001b[0m in \u001b[0;36m<cell line: 1>\u001b[1;34m()\u001b[0m\n\u001b[1;32m----> <a href='vscode-notebook-cell:/d%3A/berenisse/Cursos%20importantes/HENRY/Proyectos%20individuales/Proyecto_Individual_1/3.Funciones.ipynb#X43sZmlsZQ%3D%3D?line=0'>1</a>\u001b[0m userdata(\u001b[39m\"\u001b[39;49m\u001b[39m76561197970982479\u001b[39;49m\u001b[39m\"\u001b[39;49m)\n",
      "\u001b[1;32md:\\berenisse\\Cursos importantes\\HENRY\\Proyectos individuales\\Proyecto_Individual_1\\3.Funciones.ipynb Cell 35\u001b[0m in \u001b[0;36muserdata\u001b[1;34m(User_id)\u001b[0m\n\u001b[0;32m      <a href='vscode-notebook-cell:/d%3A/berenisse/Cursos%20importantes/HENRY/Proyectos%20individuales/Proyecto_Individual_1/3.Funciones.ipynb#X43sZmlsZQ%3D%3D?line=8'>9</a>\u001b[0m recommend\u001b[39m=\u001b[39m df4[df4[\u001b[39m\"\u001b[39m\u001b[39muser_id\u001b[39m\u001b[39m\"\u001b[39m]\u001b[39m==\u001b[39m\u001b[39m\"\u001b[39m\u001b[39m76561197970982479\u001b[39m\u001b[39m\"\u001b[39m][\u001b[39m\"\u001b[39m\u001b[39mporcentaje\u001b[39m\u001b[39m\"\u001b[39m]\u001b[39m.\u001b[39mvalues[\u001b[39m0\u001b[39m]\n\u001b[0;32m     <a href='vscode-notebook-cell:/d%3A/berenisse/Cursos%20importantes/HENRY/Proyectos%20individuales/Proyecto_Individual_1/3.Funciones.ipynb#X43sZmlsZQ%3D%3D?line=10'>11</a>\u001b[0m \u001b[39m#cantidad de items por usuario \u001b[39;00m\n\u001b[1;32m---> <a href='vscode-notebook-cell:/d%3A/berenisse/Cursos%20importantes/HENRY/Proyectos%20individuales/Proyecto_Individual_1/3.Funciones.ipynb#X43sZmlsZQ%3D%3D?line=11'>12</a>\u001b[0m itemsxusuario\u001b[39m=\u001b[39m df3[df3[\u001b[39m\"\u001b[39;49m\u001b[39msteam_id\u001b[39;49m\u001b[39m\"\u001b[39;49m]\u001b[39m==\u001b[39;49mUser_id][\u001b[39m\"\u001b[39;49m\u001b[39mitems_count\u001b[39;49m\u001b[39m\"\u001b[39;49m][\u001b[39m0\u001b[39;49m]\n\u001b[0;32m     <a href='vscode-notebook-cell:/d%3A/berenisse/Cursos%20importantes/HENRY/Proyectos%20individuales/Proyecto_Individual_1/3.Funciones.ipynb#X43sZmlsZQ%3D%3D?line=13'>14</a>\u001b[0m resultado\u001b[39m=\u001b[39m{\u001b[39m\"\u001b[39m\u001b[39mel gasto por el usuario\u001b[39m\u001b[39m\"\u001b[39m:gastoxid, \u001b[39m\"\u001b[39m\u001b[39mel procentaje de recomendacion es\u001b[39m\u001b[39m\"\u001b[39m :recommend, \u001b[39m\"\u001b[39m\u001b[39mel numero de items por usuario \u001b[39m\u001b[39m\"\u001b[39m:itemsxusuario}\n\u001b[0;32m     <a href='vscode-notebook-cell:/d%3A/berenisse/Cursos%20importantes/HENRY/Proyectos%20individuales/Proyecto_Individual_1/3.Funciones.ipynb#X43sZmlsZQ%3D%3D?line=15'>16</a>\u001b[0m \u001b[39mreturn\u001b[39;00m resultado\n",
      "File \u001b[1;32mc:\\Users\\beren\\AppData\\Local\\Programs\\Python\\Python310\\lib\\site-packages\\pandas\\core\\series.py:1007\u001b[0m, in \u001b[0;36mSeries.__getitem__\u001b[1;34m(self, key)\u001b[0m\n\u001b[0;32m   1004\u001b[0m     \u001b[39mreturn\u001b[39;00m \u001b[39mself\u001b[39m\u001b[39m.\u001b[39m_values[key]\n\u001b[0;32m   1006\u001b[0m \u001b[39melif\u001b[39;00m key_is_scalar:\n\u001b[1;32m-> 1007\u001b[0m     \u001b[39mreturn\u001b[39;00m \u001b[39mself\u001b[39;49m\u001b[39m.\u001b[39;49m_get_value(key)\n\u001b[0;32m   1009\u001b[0m \u001b[39mif\u001b[39;00m is_hashable(key):\n\u001b[0;32m   1010\u001b[0m     \u001b[39m# Otherwise index.get_value will raise InvalidIndexError\u001b[39;00m\n\u001b[0;32m   1011\u001b[0m     \u001b[39mtry\u001b[39;00m:\n\u001b[0;32m   1012\u001b[0m         \u001b[39m# For labels that don't resolve as scalars like tuples and frozensets\u001b[39;00m\n",
      "File \u001b[1;32mc:\\Users\\beren\\AppData\\Local\\Programs\\Python\\Python310\\lib\\site-packages\\pandas\\core\\series.py:1116\u001b[0m, in \u001b[0;36mSeries._get_value\u001b[1;34m(self, label, takeable)\u001b[0m\n\u001b[0;32m   1113\u001b[0m     \u001b[39mreturn\u001b[39;00m \u001b[39mself\u001b[39m\u001b[39m.\u001b[39m_values[label]\n\u001b[0;32m   1115\u001b[0m \u001b[39m# Similar to Index.get_value, but we do not fall back to positional\u001b[39;00m\n\u001b[1;32m-> 1116\u001b[0m loc \u001b[39m=\u001b[39m \u001b[39mself\u001b[39;49m\u001b[39m.\u001b[39;49mindex\u001b[39m.\u001b[39;49mget_loc(label)\n\u001b[0;32m   1118\u001b[0m \u001b[39mif\u001b[39;00m is_integer(loc):\n\u001b[0;32m   1119\u001b[0m     \u001b[39mreturn\u001b[39;00m \u001b[39mself\u001b[39m\u001b[39m.\u001b[39m_values[loc]\n",
      "File \u001b[1;32mc:\\Users\\beren\\AppData\\Local\\Programs\\Python\\Python310\\lib\\site-packages\\pandas\\core\\indexes\\base.py:3654\u001b[0m, in \u001b[0;36mIndex.get_loc\u001b[1;34m(self, key)\u001b[0m\n\u001b[0;32m   3652\u001b[0m     \u001b[39mreturn\u001b[39;00m \u001b[39mself\u001b[39m\u001b[39m.\u001b[39m_engine\u001b[39m.\u001b[39mget_loc(casted_key)\n\u001b[0;32m   3653\u001b[0m \u001b[39mexcept\u001b[39;00m \u001b[39mKeyError\u001b[39;00m \u001b[39mas\u001b[39;00m err:\n\u001b[1;32m-> 3654\u001b[0m     \u001b[39mraise\u001b[39;00m \u001b[39mKeyError\u001b[39;00m(key) \u001b[39mfrom\u001b[39;00m \u001b[39merr\u001b[39;00m\n\u001b[0;32m   3655\u001b[0m \u001b[39mexcept\u001b[39;00m \u001b[39mTypeError\u001b[39;00m:\n\u001b[0;32m   3656\u001b[0m     \u001b[39m# If we have a listlike key, _check_indexing_error will raise\u001b[39;00m\n\u001b[0;32m   3657\u001b[0m     \u001b[39m#  InvalidIndexError. Otherwise we fall through and re-raise\u001b[39;00m\n\u001b[0;32m   3658\u001b[0m     \u001b[39m#  the TypeError.\u001b[39;00m\n\u001b[0;32m   3659\u001b[0m     \u001b[39mself\u001b[39m\u001b[39m.\u001b[39m_check_indexing_error(key)\n",
      "\u001b[1;31mKeyError\u001b[0m: 0"
     ]
    }
   ],
   "source": [
    "userdata(\"76561197970982479\")"
   ]
  }
 ],
 "metadata": {
  "kernelspec": {
   "display_name": "Python 3",
   "language": "python",
   "name": "python3"
  },
  "language_info": {
   "codemirror_mode": {
    "name": "ipython",
    "version": 3
   },
   "file_extension": ".py",
   "mimetype": "text/x-python",
   "name": "python",
   "nbconvert_exporter": "python",
   "pygments_lexer": "ipython3",
   "version": "3.10.6"
  },
  "orig_nbformat": 4
 },
 "nbformat": 4,
 "nbformat_minor": 2
}

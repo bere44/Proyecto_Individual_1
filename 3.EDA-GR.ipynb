{
 "cells": [
  {
   "cell_type": "markdown",
   "metadata": {},
   "source": [
    "### TRABAJAR EL ARCHIVO DE GAME REVIEWS"
   ]
  },
  {
   "cell_type": "code",
   "execution_count": 5,
   "metadata": {},
   "outputs": [],
   "source": [
    "#IMPORTAR LAS LIBRERIAS\n",
    "import pandas as pd\n",
    "import numpy as np"
   ]
  },
  {
   "cell_type": "code",
   "execution_count": 6,
   "metadata": {},
   "outputs": [],
   "source": [
    "#LEER EL ARCHIVO CON PANDAS\n",
    "game_reviews= pd.read_csv(\"game_reviews.csv\", index_col= False)"
   ]
  },
  {
   "cell_type": "code",
   "execution_count": 7,
   "metadata": {},
   "outputs": [],
   "source": [
    "#REEMPLAZAR LOS VALORES DISTINTOS DE LA COLUMNA REVIEW\n",
    "game_reviews[\"review\"]=game_reviews[\"review\"].str.replace(r\"[\\\"\\'\\|\\?\\=\\.\\@\\#\\*\\,\\.\\!\\/\\:\\-\\‚ô•\\<\\>√â\\+\\D]\", '',regex=True)"
   ]
  },
  {
   "cell_type": "code",
   "execution_count": 8,
   "metadata": {},
   "outputs": [
    {
     "name": "stderr",
     "output_type": "stream",
     "text": [
      "[nltk_data] Downloading package vader_lexicon to\n",
      "[nltk_data]     C:\\Users\\beren\\AppData\\Roaming\\nltk_data...\n",
      "[nltk_data]   Package vader_lexicon is already up-to-date!\n"
     ]
    },
    {
     "data": {
      "text/plain": [
       "True"
      ]
     },
     "execution_count": 8,
     "metadata": {},
     "output_type": "execute_result"
    }
   ],
   "source": [
    "#IMPORTAR LAS LIBRERIAS PARA HACER ANALISIS DE SENTIMIENTOS\n",
    "import nltk\n",
    "from nltk.sentiment.vader import SentimentIntensityAnalyzer\n",
    "nltk.download(\"vader_lexicon\")\n"
   ]
  },
  {
   "cell_type": "code",
   "execution_count": 9,
   "metadata": {},
   "outputs": [],
   "source": [
    "#HACER EL ANALISIS DE SENTIMIENTO\n",
    "sid=SentimentIntensityAnalyzer()\n",
    "game_reviews[\"Sentiment\"]=game_reviews[\"review\"].astype(str).apply(lambda i: sid.polarity_scores(i)[\"compound\"])\n"
   ]
  },
  {
   "cell_type": "code",
   "execution_count": 10,
   "metadata": {},
   "outputs": [],
   "source": [
    "#PASAR LA NUMERACION QUE SID PASA A LA NUMERACION QUE SE REQUIERE PARA EL ANALISIS\n",
    "Sentiment_Result=[]\n",
    "\n",
    "for i in range(len(game_reviews)):\n",
    "    if game_reviews[\"Sentiment\"].iloc[i]==0:\n",
    "        Sentiment_Result.append(1)\n",
    "    elif game_reviews[\"Sentiment\"].iloc[i]<0:\n",
    "        Sentiment_Result.append(0)\n",
    "    elif game_reviews[\"Sentiment\"].iloc[i]>0:\n",
    "        Sentiment_Result.append(2)"
   ]
  },
  {
   "cell_type": "code",
   "execution_count": 14,
   "metadata": {},
   "outputs": [],
   "source": [
    "#CREAR LA COLUMNA DE RESULTADO\n",
    "game_reviews[\"Sentiment_Result\"]=pd.DataFrame(data=Sentiment_Result, index=None)"
   ]
  },
  {
   "cell_type": "code",
   "execution_count": 14,
   "metadata": {},
   "outputs": [],
   "source": [
    "#game_reviews[\"review\"].fillna(\"\", inplace=True)"
   ]
  },
  {
   "cell_type": "code",
   "execution_count": 151,
   "metadata": {},
   "outputs": [],
   "source": [
    "#game_reviews[\"review\"].replace(\"\", np.nan, inplace=True)\n",
    "#game_reviews.fillna(np.nan, inplace=True)\n",
    "#game_reviews[\"review\"].fillna(np.nan,inplace=True)"
   ]
  },
  {
   "cell_type": "code",
   "execution_count": 17,
   "metadata": {},
   "outputs": [],
   "source": [
    "#ESTE CODIGO FUNCIONA PARA VER EL IDIOMA EN QUE ESTAN LOS \n",
    "\n",
    "from langdetect import detect, LangDetectException\n",
    "\n",
    "# Función para detectar el idioma de un texto\n",
    "def detectar_idioma(texto):\n",
    "    if len(texto) >= 3:  # Establece un límite mínimo de longitud del texto\n",
    "        try:\n",
    "            return detect(str(texto))\n",
    "        except LangDetectException:\n",
    "            pass\n",
    "    return None\n",
    "\n",
    "# Aplica la detección de idioma solo a la columna \"mensaje\"\n",
    "game_reviews[\"idioma\"] = game_reviews[\"review\"].map(detectar_idioma)"
   ]
  },
  {
   "cell_type": "code",
   "execution_count": null,
   "metadata": {},
   "outputs": [],
   "source": [
    "\"\"\"from deep_translator import GoogleTranslator\n",
    "from google_trans_new import GoogleTranslator\n",
    "\n"
   ]
  },
  {
   "cell_type": "code",
   "execution_count": null,
   "metadata": {},
   "outputs": [],
   "source": [
    "\"\"\"import pandas as pd\n",
    "\n",
    "translator = GoogleTranslator(source=\"es\", target=\"en\")\n",
    "\n",
    "df7[\"mensaje\"] = df7[\"mensaje\"].apply(translator.translate)\"\"\""
   ]
  },
  {
   "cell_type": "code",
   "execution_count": null,
   "metadata": {},
   "outputs": [],
   "source": [
    "\"\"\"\"\n",
    "from google_trans_new import google_translator\n",
    "translator = google_translator)  \n",
    "translated = translator.translate(df_todos1['Titular'], lang_src='es', lang_tgt='en')  \n",
    "print(translated)\"\"\""
   ]
  }
 ],
 "metadata": {
  "kernelspec": {
   "display_name": "Python 3",
   "language": "python",
   "name": "python3"
  },
  "language_info": {
   "codemirror_mode": {
    "name": "ipython",
    "version": 3
   },
   "file_extension": ".py",
   "mimetype": "text/x-python",
   "name": "python",
   "nbconvert_exporter": "python",
   "pygments_lexer": "ipython3",
   "version": "3.10.6"
  },
  "orig_nbformat": 4
 },
 "nbformat": 4,
 "nbformat_minor": 2
}

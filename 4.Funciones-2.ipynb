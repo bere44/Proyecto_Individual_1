{
 "cells": [
  {
   "cell_type": "markdown",
   "metadata": {},
   "source": [
    "def countreviews( YYYY-MM-DD y YYYY-MM-DD : str ): Cantidad de usuarios que realizaron reviews entre las fechas dadas  y, el porcentaje de recomendación de los mismos en base a reviews.recommend."
   ]
  },
  {
   "cell_type": "code",
   "execution_count": 5,
   "metadata": {},
   "outputs": [],
   "source": [
    "#IMPORTAR LIBRERIAS\n",
    "import pandas as pd"
   ]
  },
  {
   "cell_type": "code",
   "execution_count": 6,
   "metadata": {},
   "outputs": [],
   "source": [
    "#USAR SOLO LAS COLUMNAS QUE SIRVEN\n",
    "df_counter=pd.read_csv(\"game_reviews2.csv\", usecols=[\"user_id\",\"posted\",\"recommend\"])"
   ]
  },
  {
   "cell_type": "code",
   "execution_count": 7,
   "metadata": {},
   "outputs": [],
   "source": [
    "#DIVIDIR LAS COLUMNAS DE FECHA PARA PODER LIMPIAR LOS DATOS\n",
    "df1=df_counter[\"posted\"].str.split(expand=True)"
   ]
  },
  {
   "cell_type": "code",
   "execution_count": 8,
   "metadata": {},
   "outputs": [],
   "source": [
    "#ESCOGER LAS COLUMNAS UTILES\n",
    "df1=df1.iloc[:,1:4]"
   ]
  },
  {
   "cell_type": "code",
   "execution_count": 9,
   "metadata": {},
   "outputs": [],
   "source": [
    "#UNIR COLUMNAS QUE FUERON DIVIDIDAS\n",
    "df_counter=pd.concat([df_counter,df1], axis='columns').drop(columns=[\"posted\"])"
   ]
  },
  {
   "cell_type": "code",
   "execution_count": 10,
   "metadata": {},
   "outputs": [],
   "source": [
    "#RENOMBRAS LAS COLUMNAS\n",
    "df_counter.rename(columns={1:\"Month\",2:\"Day\",3:\"Year\"}, inplace=True)"
   ]
  },
  {
   "cell_type": "code",
   "execution_count": 11,
   "metadata": {},
   "outputs": [
    {
     "data": {
      "text/html": [
       "<div>\n",
       "<style scoped>\n",
       "    .dataframe tbody tr th:only-of-type {\n",
       "        vertical-align: middle;\n",
       "    }\n",
       "\n",
       "    .dataframe tbody tr th {\n",
       "        vertical-align: top;\n",
       "    }\n",
       "\n",
       "    .dataframe thead th {\n",
       "        text-align: right;\n",
       "    }\n",
       "</style>\n",
       "<table border=\"1\" class=\"dataframe\">\n",
       "  <thead>\n",
       "    <tr style=\"text-align: right;\">\n",
       "      <th></th>\n",
       "      <th>user_id</th>\n",
       "      <th>recommend</th>\n",
       "      <th>Month</th>\n",
       "      <th>Day</th>\n",
       "      <th>Year</th>\n",
       "    </tr>\n",
       "  </thead>\n",
       "  <tbody>\n",
       "    <tr>\n",
       "      <th>0</th>\n",
       "      <td>76561197970982479</td>\n",
       "      <td>True</td>\n",
       "      <td>November</td>\n",
       "      <td>5,</td>\n",
       "      <td>2011.</td>\n",
       "    </tr>\n",
       "    <tr>\n",
       "      <th>1</th>\n",
       "      <td>76561197970982479</td>\n",
       "      <td>True</td>\n",
       "      <td>July</td>\n",
       "      <td>15,</td>\n",
       "      <td>2011.</td>\n",
       "    </tr>\n",
       "    <tr>\n",
       "      <th>2</th>\n",
       "      <td>76561197970982479</td>\n",
       "      <td>True</td>\n",
       "      <td>April</td>\n",
       "      <td>21,</td>\n",
       "      <td>2011.</td>\n",
       "    </tr>\n",
       "    <tr>\n",
       "      <th>3</th>\n",
       "      <td>js41637</td>\n",
       "      <td>True</td>\n",
       "      <td>June</td>\n",
       "      <td>24,</td>\n",
       "      <td>2014.</td>\n",
       "    </tr>\n",
       "    <tr>\n",
       "      <th>4</th>\n",
       "      <td>js41637</td>\n",
       "      <td>True</td>\n",
       "      <td>September</td>\n",
       "      <td>8,</td>\n",
       "      <td>2013.</td>\n",
       "    </tr>\n",
       "    <tr>\n",
       "      <th>...</th>\n",
       "      <td>...</td>\n",
       "      <td>...</td>\n",
       "      <td>...</td>\n",
       "      <td>...</td>\n",
       "      <td>...</td>\n",
       "    </tr>\n",
       "    <tr>\n",
       "      <th>59328</th>\n",
       "      <td>76561198312638244</td>\n",
       "      <td>True</td>\n",
       "      <td>July</td>\n",
       "      <td>10.</td>\n",
       "      <td>None</td>\n",
       "    </tr>\n",
       "    <tr>\n",
       "      <th>59329</th>\n",
       "      <td>76561198312638244</td>\n",
       "      <td>True</td>\n",
       "      <td>July</td>\n",
       "      <td>8.</td>\n",
       "      <td>None</td>\n",
       "    </tr>\n",
       "    <tr>\n",
       "      <th>59330</th>\n",
       "      <td>LydiaMorley</td>\n",
       "      <td>True</td>\n",
       "      <td>July</td>\n",
       "      <td>3.</td>\n",
       "      <td>None</td>\n",
       "    </tr>\n",
       "    <tr>\n",
       "      <th>59331</th>\n",
       "      <td>LydiaMorley</td>\n",
       "      <td>True</td>\n",
       "      <td>July</td>\n",
       "      <td>20.</td>\n",
       "      <td>None</td>\n",
       "    </tr>\n",
       "    <tr>\n",
       "      <th>59332</th>\n",
       "      <td>LydiaMorley</td>\n",
       "      <td>True</td>\n",
       "      <td>July</td>\n",
       "      <td>2.</td>\n",
       "      <td>None</td>\n",
       "    </tr>\n",
       "  </tbody>\n",
       "</table>\n",
       "<p>59333 rows × 5 columns</p>\n",
       "</div>"
      ],
      "text/plain": [
       "                 user_id recommend      Month  Day   Year\n",
       "0      76561197970982479      True   November   5,  2011.\n",
       "1      76561197970982479      True       July  15,  2011.\n",
       "2      76561197970982479      True      April  21,  2011.\n",
       "3                js41637      True       June  24,  2014.\n",
       "4                js41637      True  September   8,  2013.\n",
       "...                  ...       ...        ...  ...    ...\n",
       "59328  76561198312638244      True       July  10.   None\n",
       "59329  76561198312638244      True       July   8.   None\n",
       "59330        LydiaMorley      True       July   3.   None\n",
       "59331        LydiaMorley      True       July  20.   None\n",
       "59332        LydiaMorley      True       July   2.   None\n",
       "\n",
       "[59333 rows x 5 columns]"
      ]
     },
     "execution_count": 11,
     "metadata": {},
     "output_type": "execute_result"
    }
   ],
   "source": [
    "df_counter"
   ]
  },
  {
   "cell_type": "code",
   "execution_count": 12,
   "metadata": {},
   "outputs": [],
   "source": [
    "#LIMPIAR LA PUNTUACION EN LAS COLUMNAS PARA LUEGO PODER UNIRLAS\n",
    "import string\n",
    "df_counter[\"Day\"] = df_counter[\"Day\"].str.replace('[{}]'.format(string.punctuation), '',regex=True)\n",
    "df_counter[\"Year\"] = df_counter[\"Year\"].str.replace('[{}]'.format(string.punctuation), '',regex=True)"
   ]
  },
  {
   "cell_type": "code",
   "execution_count": 13,
   "metadata": {},
   "outputs": [],
   "source": [
    "#REEMPLAZAR LOS AÑOS QUE NO ESTAN CON LA MODA\n",
    "df_counter['Year'].fillna(df_counter['Year'].mode()[0], inplace=True)"
   ]
  },
  {
   "cell_type": "code",
   "execution_count": 14,
   "metadata": {},
   "outputs": [],
   "source": [
    "#REEMPLAZAR LA COLUMNA DE MESES CON LOS MESES NUMERICOS\n",
    "df_counter[\"Month\"].replace({\"January\":\"01\",\"February\":\"02\",\"March\":\"03\",\"April\":\"04\",\"May\":\"05\",\n",
    "     \"June\":\"06\",\"July\":\"07\",\"August\":\"08\",\"September\":\"09\",\"October\":\"10\",\"November\":\"11\",\"December\":\"12\"},inplace=True)"
   ]
  },
  {
   "cell_type": "code",
   "execution_count": 15,
   "metadata": {},
   "outputs": [],
   "source": [
    "#CREAR UNA COLUMNA DE FECHA DONDE ESTAN JUNTAS LAS FILAS DE DIA, MES, AÑO\n",
    "df_counter[\"Fecha\"]= df_counter[\"Year\"]+\"-\"+df_counter[\"Month\"]+\"-\"+df_counter[\"Day\"]"
   ]
  },
  {
   "cell_type": "code",
   "execution_count": 16,
   "metadata": {},
   "outputs": [],
   "source": [
    "#CONVERTIR LA COLUMNA DE FECHA EN TIPO STRING\n",
    "df_counter[\"Fecha\"]=df_counter[\"Fecha\"].astype(str)"
   ]
  },
  {
   "cell_type": "code",
   "execution_count": 17,
   "metadata": {},
   "outputs": [],
   "source": [
    "#HACER LA FUNCION QUE CONVIERTE LA FECHA EN TIPO DATETIME\n",
    "def time(df):\n",
    "    for index,item in enumerate(df[\"Fecha\"]):\n",
    "        try:\n",
    "            datetime.strptime(item, \"%Y-%m-%d\").date()\n",
    "        \n",
    "        except:\n",
    "            print(index)\n",
    "            print(item)"
   ]
  },
  {
   "cell_type": "code",
   "execution_count": 18,
   "metadata": {},
   "outputs": [],
   "source": [
    "#REEMPLAZAR LOS VALORES DIFERENTES COMO LA DEL 29 DE FEBRERO\n",
    "df_counter[\"Fecha\"].replace({\"2014-02-29\":\"2014-02-28\"}, inplace=True)"
   ]
  },
  {
   "cell_type": "code",
   "execution_count": 19,
   "metadata": {},
   "outputs": [
    {
     "data": {
      "text/plain": [
       "0    2014-06-21\n",
       "Name: Fecha, dtype: object"
      ]
     },
     "execution_count": 19,
     "metadata": {},
     "output_type": "execute_result"
    }
   ],
   "source": [
    "#ENCONTRAR LA MODA PARA REEMPLAZARLO EN LA FECHA\n",
    "df_counter[\"Fecha\"].mode()"
   ]
  },
  {
   "cell_type": "code",
   "execution_count": 20,
   "metadata": {},
   "outputs": [],
   "source": [
    "#REEMPLAZAR LA MODA EN LAS FILAS DONDE NO HAY VALORES\n",
    "df_counter[\"Fecha\"].replace({\"nan\":\"2014-06-21\"}, inplace=True)"
   ]
  },
  {
   "cell_type": "code",
   "execution_count": null,
   "metadata": {},
   "outputs": [],
   "source": [
    "#APLICAR LA FUNCION A LA DF_COUNTER\n",
    "time(df_counter)"
   ]
  },
  {
   "cell_type": "code",
   "execution_count": 22,
   "metadata": {},
   "outputs": [],
   "source": [
    "#ELIMINAR LAS COLUMNAS QUE NO SIRVEN \n",
    "df_counter.drop(columns=[\"Month\",\"Day\",\"Year\"],inplace=True)"
   ]
  },
  {
   "cell_type": "code",
   "execution_count": 139,
   "metadata": {},
   "outputs": [],
   "source": [
    "df_counter.to_csv(\"df_counter_func_2.csv\",index=False)"
   ]
  },
  {
   "cell_type": "code",
   "execution_count": 24,
   "metadata": {},
   "outputs": [
    {
     "name": "stdout",
     "output_type": "stream",
     "text": [
      "<class 'pandas.core.frame.DataFrame'>\n",
      "RangeIndex: 59333 entries, 0 to 59332\n",
      "Data columns (total 3 columns):\n",
      " #   Column     Non-Null Count  Dtype \n",
      "---  ------     --------------  ----- \n",
      " 0   user_id    59333 non-null  object\n",
      " 1   recommend  59305 non-null  object\n",
      " 2   Fecha      59333 non-null  object\n",
      "dtypes: object(3)\n",
      "memory usage: 1.4+ MB\n"
     ]
    }
   ],
   "source": [
    "df_counter.info()"
   ]
  },
  {
   "cell_type": "code",
   "execution_count": 30,
   "metadata": {},
   "outputs": [
    {
     "data": {
      "text/plain": [
       "2"
      ]
     },
     "execution_count": 30,
     "metadata": {},
     "output_type": "execute_result"
    }
   ],
   "source": [
    "#CONTAR LOS REVIEWS POR FECHAS\n",
    "(df_counter[df_counter[\"Fecha\"]>\"2011-11-5\"][\"recommend\"]).nunique()"
   ]
  },
  {
   "cell_type": "code",
   "execution_count": 25,
   "metadata": {},
   "outputs": [
    {
     "data": {
      "text/plain": [
       "25485"
      ]
     },
     "execution_count": 25,
     "metadata": {},
     "output_type": "execute_result"
    }
   ],
   "source": [
    "df_counter[\"user_id\"].nunique()"
   ]
  },
  {
   "cell_type": "code",
   "execution_count": 29,
   "metadata": {},
   "outputs": [
    {
     "data": {
      "text/plain": [
       "170"
      ]
     },
     "execution_count": 29,
     "metadata": {},
     "output_type": "execute_result"
    }
   ],
   "source": [
    "#CONTAR LOS USER POR FECHAS\n",
    "df_counter[(df_counter[\"Fecha\"]>\"2011-11-5\")& (df_counter[\"Fecha\"]<\"2012-01-30\")][\"user_id\"].nunique()"
   ]
  },
  {
   "cell_type": "code",
   "execution_count": 35,
   "metadata": {},
   "outputs": [],
   "source": [
    "#CONTAR LAS REVIEWS POR FECHAS\n",
    "recommend=df_counter[(df_counter[\"Fecha\"]>\"2011-11-5\")& (df_counter[\"Fecha\"]<\"2014-07-8\")][\"recommend\"]"
   ]
  },
  {
   "cell_type": "code",
   "execution_count": 38,
   "metadata": {},
   "outputs": [
    {
     "data": {
      "text/plain": [
       "27470"
      ]
     },
     "execution_count": 38,
     "metadata": {},
     "output_type": "execute_result"
    }
   ],
   "source": [
    "recommend.value_counts()[True]"
   ]
  },
  {
   "cell_type": "code",
   "execution_count": 32,
   "metadata": {},
   "outputs": [],
   "source": [
    "#ENCONTRAR EL PORCENTAJE DE RECOMENDACIONES \n",
    "porce_recom=(recommend.value_counts()[True])/len(recommend)"
   ]
  },
  {
   "cell_type": "code",
   "execution_count": 43,
   "metadata": {},
   "outputs": [],
   "source": [
    "#FUNCION DE RECOMENDACION\n",
    "def countreviews( fecha1,fecha2 : str ):\n",
    "    df_counter=pd.read_csv(\"df_counter_func_2.csv\")\n",
    "    cantidad_usu_rese=df_counter[(df_counter[\"Fecha\"]>fecha1)& (df_counter[\"Fecha\"]<fecha2)][\"user_id\"].nunique()\n",
    "    recommend=df_counter[(df_counter[\"Fecha\"]>fecha1)& (df_counter[\"Fecha\"]<fecha2)][\"recommend\"]\n",
    "    porce_recom=round((recommend.value_counts()[True])/len(recommend)*100,2)\n",
    "    response={\"Cantidad de usuarios que reseñaron\":cantidad_usu_rese,\"Porcentaje de recomendacion\":porce_recom}\n",
    "\n",
    "    return response"
   ]
  },
  {
   "cell_type": "code",
   "execution_count": 44,
   "metadata": {},
   "outputs": [
    {
     "data": {
      "text/plain": [
       "{'Cantidad de usuarios que reseñaron': 17628,\n",
       " 'Porcentaje de recomendacion': 88.01}"
      ]
     },
     "execution_count": 44,
     "metadata": {},
     "output_type": "execute_result"
    }
   ],
   "source": [
    "countreviews(\"2014-01-01\",\"2014-12-31\")"
   ]
  }
 ],
 "metadata": {
  "kernelspec": {
   "display_name": "Python 3",
   "language": "python",
   "name": "python3"
  },
  "language_info": {
   "codemirror_mode": {
    "name": "ipython",
    "version": 3
   },
   "file_extension": ".py",
   "mimetype": "text/x-python",
   "name": "python",
   "nbconvert_exporter": "python",
   "pygments_lexer": "ipython3",
   "version": "3.10.6"
  },
  "orig_nbformat": 4
 },
 "nbformat": 4,
 "nbformat_minor": 2
}

{
 "cells": [
  {
   "cell_type": "markdown",
   "metadata": {},
   "source": [
    "def sentiment_analysis( año : int ): Según el año de lanzamiento, se devuelve una lista con la cantidad de registros de reseñas de usuarios que se encuentren categorizados con un análisis de sentimiento."
   ]
  },
  {
   "cell_type": "code",
   "execution_count": 220,
   "metadata": {},
   "outputs": [],
   "source": [
    "import pandas as pd\n",
    "import numpy as np"
   ]
  },
  {
   "cell_type": "code",
   "execution_count": 222,
   "metadata": {},
   "outputs": [],
   "source": [
    "user_revs=pd.read_csv(\"game_reviews2.csv\", usecols=['user_id','item_id', 'Sentiment_Result'])"
   ]
  },
  {
   "cell_type": "code",
   "execution_count": 221,
   "metadata": {},
   "outputs": [
    {
     "name": "stdout",
     "output_type": "stream",
     "text": [
      "<class 'pandas.core.frame.DataFrame'>\n",
      "Index: 59305 entries, 0 to 59332\n",
      "Data columns (total 3 columns):\n",
      " #   Column            Non-Null Count  Dtype  \n",
      "---  ------            --------------  -----  \n",
      " 0   user_id           59305 non-null  object \n",
      " 1   item_id           59305 non-null  float64\n",
      " 2   Sentiment_Result  59305 non-null  int64  \n",
      "dtypes: float64(1), int64(1), object(1)\n",
      "memory usage: 1.8+ MB\n",
      "None\n",
      "user_id             0\n",
      "item_id             0\n",
      "Sentiment_Result    0\n",
      "dtype: int64\n"
     ]
    }
   ],
   "source": [
    "# Revisar tipo de datos y cantidad de nulos\n",
    "print(user_revs.info())\n",
    "print(user_revs.isna().sum())\n",
    "# Eliminar nulos \n",
    "user_revs.dropna(inplace=True)"
   ]
  },
  {
   "cell_type": "code",
   "execution_count": 223,
   "metadata": {},
   "outputs": [
    {
     "data": {
      "text/html": [
       "<div>\n",
       "<style scoped>\n",
       "    .dataframe tbody tr th:only-of-type {\n",
       "        vertical-align: middle;\n",
       "    }\n",
       "\n",
       "    .dataframe tbody tr th {\n",
       "        vertical-align: top;\n",
       "    }\n",
       "\n",
       "    .dataframe thead th {\n",
       "        text-align: right;\n",
       "    }\n",
       "</style>\n",
       "<table border=\"1\" class=\"dataframe\">\n",
       "  <thead>\n",
       "    <tr style=\"text-align: right;\">\n",
       "      <th></th>\n",
       "      <th>release_date</th>\n",
       "      <th>item_id</th>\n",
       "    </tr>\n",
       "  </thead>\n",
       "  <tbody>\n",
       "    <tr>\n",
       "      <th>191</th>\n",
       "      <td>2008-10-17</td>\n",
       "      <td>1230.0</td>\n",
       "    </tr>\n",
       "    <tr>\n",
       "      <th>26360</th>\n",
       "      <td>2015-06-10</td>\n",
       "      <td>373171.0</td>\n",
       "    </tr>\n",
       "    <tr>\n",
       "      <th>15990</th>\n",
       "      <td>2017-08-29</td>\n",
       "      <td>628150.0</td>\n",
       "    </tr>\n",
       "    <tr>\n",
       "      <th>5613</th>\n",
       "      <td>2015-02-21</td>\n",
       "      <td>454791.0</td>\n",
       "    </tr>\n",
       "    <tr>\n",
       "      <th>7188</th>\n",
       "      <td>2016-05-05</td>\n",
       "      <td>499370.0</td>\n",
       "    </tr>\n",
       "    <tr>\n",
       "      <th>17977</th>\n",
       "      <td>2017-04-30</td>\n",
       "      <td>588710.0</td>\n",
       "    </tr>\n",
       "    <tr>\n",
       "      <th>29075</th>\n",
       "      <td>2014-05-09</td>\n",
       "      <td>244410.0</td>\n",
       "    </tr>\n",
       "    <tr>\n",
       "      <th>7600</th>\n",
       "      <td>2016-10-11</td>\n",
       "      <td>457330.0</td>\n",
       "    </tr>\n",
       "    <tr>\n",
       "      <th>1395</th>\n",
       "      <td>2013-06-04</td>\n",
       "      <td>229621.0</td>\n",
       "    </tr>\n",
       "    <tr>\n",
       "      <th>28938</th>\n",
       "      <td>2014-05-29</td>\n",
       "      <td>234787.0</td>\n",
       "    </tr>\n",
       "    <tr>\n",
       "      <th>16178</th>\n",
       "      <td>2017-08-23</td>\n",
       "      <td>683830.0</td>\n",
       "    </tr>\n",
       "    <tr>\n",
       "      <th>19407</th>\n",
       "      <td>2017-01-30</td>\n",
       "      <td>586450.0</td>\n",
       "    </tr>\n",
       "    <tr>\n",
       "      <th>8212</th>\n",
       "      <td>2016-12-13</td>\n",
       "      <td>569190.0</td>\n",
       "    </tr>\n",
       "    <tr>\n",
       "      <th>29250</th>\n",
       "      <td>2005-10-21</td>\n",
       "      <td>289500.0</td>\n",
       "    </tr>\n",
       "    <tr>\n",
       "      <th>3981</th>\n",
       "      <td>2015-07-16</td>\n",
       "      <td>311820.0</td>\n",
       "    </tr>\n",
       "  </tbody>\n",
       "</table>\n",
       "</div>"
      ],
      "text/plain": [
       "      release_date   item_id\n",
       "191     2008-10-17    1230.0\n",
       "26360   2015-06-10  373171.0\n",
       "15990   2017-08-29  628150.0\n",
       "5613    2015-02-21  454791.0\n",
       "7188    2016-05-05  499370.0\n",
       "17977   2017-04-30  588710.0\n",
       "29075   2014-05-09  244410.0\n",
       "7600    2016-10-11  457330.0\n",
       "1395    2013-06-04  229621.0\n",
       "28938   2014-05-29  234787.0\n",
       "16178   2017-08-23  683830.0\n",
       "19407   2017-01-30  586450.0\n",
       "8212    2016-12-13  569190.0\n",
       "29250   2005-10-21  289500.0\n",
       "3981    2015-07-16  311820.0"
      ]
     },
     "execution_count": 223,
     "metadata": {},
     "output_type": "execute_result"
    }
   ],
   "source": [
    "# Leer dataframe de videojuegos con las columnas necesarias\n",
    "columns = ['id', 'release_date']\n",
    "games = pd.read_csv('steam_games.csv', usecols=columns).rename(columns={'id':'item_id'})\n",
    "games.sample(15)"
   ]
  },
  {
   "cell_type": "code",
   "execution_count": 224,
   "metadata": {},
   "outputs": [
    {
     "name": "stdout",
     "output_type": "stream",
     "text": [
      "<class 'pandas.core.frame.DataFrame'>\n",
      "RangeIndex: 32135 entries, 0 to 32134\n",
      "Data columns (total 2 columns):\n",
      " #   Column        Non-Null Count  Dtype  \n",
      "---  ------        --------------  -----  \n",
      " 0   release_date  30068 non-null  object \n",
      " 1   item_id       32133 non-null  float64\n",
      "dtypes: float64(1), object(1)\n",
      "memory usage: 502.2+ KB\n",
      "None\n",
      "release_date    2067\n",
      "item_id            2\n",
      "dtype: int64\n"
     ]
    }
   ],
   "source": [
    "# Revisar tipos de datos y cantidad de nulos \n",
    "print(games.info())\n",
    "print(games.isna().sum())\n",
    "games.dropna(inplace=True)"
   ]
  },
  {
   "cell_type": "code",
   "execution_count": 225,
   "metadata": {},
   "outputs": [
    {
     "data": {
      "text/html": [
       "<div>\n",
       "<style scoped>\n",
       "    .dataframe tbody tr th:only-of-type {\n",
       "        vertical-align: middle;\n",
       "    }\n",
       "\n",
       "    .dataframe tbody tr th {\n",
       "        vertical-align: top;\n",
       "    }\n",
       "\n",
       "    .dataframe thead th {\n",
       "        text-align: right;\n",
       "    }\n",
       "</style>\n",
       "<table border=\"1\" class=\"dataframe\">\n",
       "  <thead>\n",
       "    <tr style=\"text-align: right;\">\n",
       "      <th></th>\n",
       "      <th>user_id</th>\n",
       "      <th>item_id</th>\n",
       "      <th>Sentiment_Result</th>\n",
       "      <th>release_date</th>\n",
       "    </tr>\n",
       "  </thead>\n",
       "  <tbody>\n",
       "    <tr>\n",
       "      <th>57021</th>\n",
       "      <td>Twerking49</td>\n",
       "      <td>242050.0</td>\n",
       "      <td>1</td>\n",
       "      <td>2013-11-19</td>\n",
       "    </tr>\n",
       "    <tr>\n",
       "      <th>38448</th>\n",
       "      <td>76561198002610796</td>\n",
       "      <td>226700.0</td>\n",
       "      <td>1</td>\n",
       "      <td>2007-10-10</td>\n",
       "    </tr>\n",
       "    <tr>\n",
       "      <th>25460</th>\n",
       "      <td>76561198065661382</td>\n",
       "      <td>200260.0</td>\n",
       "      <td>1</td>\n",
       "      <td>2012-09-07</td>\n",
       "    </tr>\n",
       "    <tr>\n",
       "      <th>47960</th>\n",
       "      <td>DerpyAssassin</td>\n",
       "      <td>98200.0</td>\n",
       "      <td>1</td>\n",
       "      <td>2011-05-26</td>\n",
       "    </tr>\n",
       "    <tr>\n",
       "      <th>19246</th>\n",
       "      <td>Tarvo69</td>\n",
       "      <td>730.0</td>\n",
       "      <td>1</td>\n",
       "      <td>2012-08-21</td>\n",
       "    </tr>\n",
       "    <tr>\n",
       "      <th>11604</th>\n",
       "      <td>76561198076357381</td>\n",
       "      <td>238960.0</td>\n",
       "      <td>1</td>\n",
       "      <td>2007-10-10</td>\n",
       "    </tr>\n",
       "    <tr>\n",
       "      <th>30625</th>\n",
       "      <td>76561198024728550</td>\n",
       "      <td>9900.0</td>\n",
       "      <td>1</td>\n",
       "      <td>2010-02-02</td>\n",
       "    </tr>\n",
       "    <tr>\n",
       "      <th>44007</th>\n",
       "      <td>ZesK0</td>\n",
       "      <td>4000.0</td>\n",
       "      <td>1</td>\n",
       "      <td>2006-11-29</td>\n",
       "    </tr>\n",
       "    <tr>\n",
       "      <th>24909</th>\n",
       "      <td>jtrkyr</td>\n",
       "      <td>261640.0</td>\n",
       "      <td>1</td>\n",
       "      <td>2014-10-14</td>\n",
       "    </tr>\n",
       "    <tr>\n",
       "      <th>3174</th>\n",
       "      <td>ducksswamp</td>\n",
       "      <td>4000.0</td>\n",
       "      <td>1</td>\n",
       "      <td>2006-11-29</td>\n",
       "    </tr>\n",
       "  </tbody>\n",
       "</table>\n",
       "</div>"
      ],
      "text/plain": [
       "                 user_id   item_id  Sentiment_Result release_date\n",
       "57021         Twerking49  242050.0                 1   2013-11-19\n",
       "38448  76561198002610796  226700.0                 1   2007-10-10\n",
       "25460  76561198065661382  200260.0                 1   2012-09-07\n",
       "47960      DerpyAssassin   98200.0                 1   2011-05-26\n",
       "19246            Tarvo69     730.0                 1   2012-08-21\n",
       "11604  76561198076357381  238960.0                 1   2007-10-10\n",
       "30625  76561198024728550    9900.0                 1   2010-02-02\n",
       "44007              ZesK0    4000.0                 1   2006-11-29\n",
       "24909             jtrkyr  261640.0                 1   2014-10-14\n",
       "3174          ducksswamp    4000.0                 1   2006-11-29"
      ]
     },
     "execution_count": 225,
     "metadata": {},
     "output_type": "execute_result"
    }
   ],
   "source": [
    "# Hacer merge (left join) de los dos df\n",
    "df_sa = user_revs.merge(games, on='item_id', how='left')\n",
    "# Imputar nulos en la columna fecha con la moda\n",
    "df_sa.fillna(df_sa['release_date'].mode()[0], inplace=True)\n",
    "df_sa.sample(10)"
   ]
  },
  {
   "cell_type": "code",
   "execution_count": 226,
   "metadata": {},
   "outputs": [
    {
     "name": "stdout",
     "output_type": "stream",
     "text": [
      "<class 'pandas.core.frame.DataFrame'>\n",
      "RangeIndex: 59333 entries, 0 to 59332\n",
      "Data columns (total 5 columns):\n",
      " #   Column            Non-Null Count  Dtype         \n",
      "---  ------            --------------  -----         \n",
      " 0   user_id           59333 non-null  object        \n",
      " 1   item_id           59333 non-null  object        \n",
      " 2   Sentiment_Result  59333 non-null  int64         \n",
      " 3   release_date      59333 non-null  object        \n",
      " 4   date_fixed        59333 non-null  datetime64[ns]\n",
      "dtypes: datetime64[ns](1), int64(1), object(3)\n",
      "memory usage: 2.3+ MB\n"
     ]
    }
   ],
   "source": [
    "# Convertir la columna release_date a dtype datetime\n",
    "df_sa = safe_date_convert(df_sa, 'release_date')\n",
    "df_sa.info()"
   ]
  },
  {
   "cell_type": "code",
   "execution_count": 228,
   "metadata": {},
   "outputs": [
    {
     "name": "stdout",
     "output_type": "stream",
     "text": [
      "datetime64[ns]\n",
      "0\n"
     ]
    }
   ],
   "source": [
    "print(df_sa['date_fixed'].dtype)\n",
    "# Verificar si hay valores nulos o faltantes\n",
    "print(df_sa['date_fixed'].isnull().sum())\n",
    "# Convertir la columna \"date_fixed\" al tipo de dato \"datetime\" si es necesario\n",
    "df_sa['date_fixed'] = pd.to_datetime(df_sa['date_fixed'], format='%Y-%m-%d', errors='coerce')"
   ]
  },
  {
   "cell_type": "code",
   "execution_count": 229,
   "metadata": {},
   "outputs": [],
   "source": [
    "# Obtener el año de lanzamiento\n",
    "df_sa['year_released'] = df_sa['date_fixed'].dt.year\n",
    "# Quedarse solo con las columnas que se necesitan\n",
    "df_sa = df_sa[['Sentiment_Result','year_released']]\n"
   ]
  },
  {
   "cell_type": "code",
   "execution_count": 230,
   "metadata": {},
   "outputs": [
    {
     "name": "stdout",
     "output_type": "stream",
     "text": [
      "<class 'pandas.core.frame.DataFrame'>\n",
      "RangeIndex: 59333 entries, 0 to 59332\n",
      "Data columns (total 2 columns):\n",
      " #   Column            Non-Null Count  Dtype\n",
      "---  ------            --------------  -----\n",
      " 0   Sentiment_Result  59333 non-null  int64\n",
      " 1   year_released     59333 non-null  int32\n",
      "dtypes: int32(1), int64(1)\n",
      "memory usage: 695.4 KB\n"
     ]
    }
   ],
   "source": [
    "df_sa.info()"
   ]
  },
  {
   "cell_type": "code",
   "execution_count": 231,
   "metadata": {},
   "outputs": [],
   "source": [
    "# Calcular los porcentajes de reviews positivos, negativos y neutros\n",
    "sentiment_analysis = pd.DataFrame()\n",
    "sentiment_analysis['Negative'] = df_sa[df_sa['Sentiment_Result']==0].groupby('year_released').agg('count')\n",
    "sentiment_analysis['Neutral'] = df_sa[df_sa['Sentiment_Result']==1].groupby('year_released').agg('count')\n",
    "sentiment_analysis['Positive'] = df_sa[df_sa['Sentiment_Result']==2].groupby('year_released').agg('count')\n"
   ]
  },
  {
   "cell_type": "code",
   "execution_count": null,
   "metadata": {},
   "outputs": [],
   "source": [
    "# Guardar el df final en un csv que consumirá la API\n",
    "sentiment_analysis.to_csv('sentiment_analysis.csv')"
   ]
  },
  {
   "cell_type": "code",
   "execution_count": null,
   "metadata": {},
   "outputs": [],
   "source": [
    "# Función que retorna el porcentaje de reviews negativos, positivos\n",
    "# y neutros en un año especificado\n",
    "def sentiment_analysis(año : str):\n",
    "    df = pd.read_csv('dataquery/sentiment_analysis.csv')\n",
    "    df['year_released'] = df['year_released'].astype(str)\n",
    "    if df['year_released'].str.contains(año).any():\n",
    "        return df[df['year_released'] == año].to_json(orient='records')\n",
    "    else:\n",
    "        return 'Year not found'"
   ]
  }
 ],
 "metadata": {
  "kernelspec": {
   "display_name": "Python 3",
   "language": "python",
   "name": "python3"
  },
  "language_info": {
   "codemirror_mode": {
    "name": "ipython",
    "version": 3
   },
   "file_extension": ".py",
   "mimetype": "text/x-python",
   "name": "python",
   "nbconvert_exporter": "python",
   "pygments_lexer": "ipython3",
   "version": "3.10.6"
  },
  "orig_nbformat": 4
 },
 "nbformat": 4,
 "nbformat_minor": 2
}
